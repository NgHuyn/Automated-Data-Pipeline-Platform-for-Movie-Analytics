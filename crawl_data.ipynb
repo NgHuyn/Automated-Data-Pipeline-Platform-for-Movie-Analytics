{
 "cells": [
  {
   "cell_type": "markdown",
   "metadata": {},
   "source": [
    "# Scraping 20k Movies in IMDB"
   ]
  },
  {
   "cell_type": "code",
   "execution_count": 7,
   "metadata": {},
   "outputs": [
    {
     "name": "stdout",
     "output_type": "stream",
     "text": [
      "Requirement already satisfied: selenium in c:\\users\\modern\\appdata\\local\\packages\\pythonsoftwarefoundation.python.3.11_qbz5n2kfra8p0\\localcache\\local-packages\\python311\\site-packages (4.25.0)\n",
      "Requirement already satisfied: urllib3<3,>=1.26 in c:\\users\\modern\\appdata\\local\\packages\\pythonsoftwarefoundation.python.3.11_qbz5n2kfra8p0\\localcache\\local-packages\\python311\\site-packages (from urllib3[socks]<3,>=1.26->selenium) (2.1.0)\n",
      "Requirement already satisfied: trio~=0.17 in c:\\users\\modern\\appdata\\local\\packages\\pythonsoftwarefoundation.python.3.11_qbz5n2kfra8p0\\localcache\\local-packages\\python311\\site-packages (from selenium) (0.26.2)\n",
      "Requirement already satisfied: trio-websocket~=0.9 in c:\\users\\modern\\appdata\\local\\packages\\pythonsoftwarefoundation.python.3.11_qbz5n2kfra8p0\\localcache\\local-packages\\python311\\site-packages (from selenium) (0.11.1)\n",
      "Requirement already satisfied: certifi>=2021.10.8 in c:\\users\\modern\\appdata\\local\\packages\\pythonsoftwarefoundation.python.3.11_qbz5n2kfra8p0\\localcache\\local-packages\\python311\\site-packages (from selenium) (2023.11.17)\n",
      "Requirement already satisfied: typing_extensions~=4.9 in c:\\users\\modern\\appdata\\local\\packages\\pythonsoftwarefoundation.python.3.11_qbz5n2kfra8p0\\localcache\\local-packages\\python311\\site-packages (from selenium) (4.9.0)\n",
      "Requirement already satisfied: websocket-client~=1.8 in c:\\users\\modern\\appdata\\local\\packages\\pythonsoftwarefoundation.python.3.11_qbz5n2kfra8p0\\localcache\\local-packages\\python311\\site-packages (from selenium) (1.8.0)\n",
      "Requirement already satisfied: attrs>=23.2.0 in c:\\users\\modern\\appdata\\local\\packages\\pythonsoftwarefoundation.python.3.11_qbz5n2kfra8p0\\localcache\\local-packages\\python311\\site-packages (from trio~=0.17->selenium) (24.2.0)\n",
      "Requirement already satisfied: sortedcontainers in c:\\users\\modern\\appdata\\local\\packages\\pythonsoftwarefoundation.python.3.11_qbz5n2kfra8p0\\localcache\\local-packages\\python311\\site-packages (from trio~=0.17->selenium) (2.4.0)\n",
      "Requirement already satisfied: idna in c:\\users\\modern\\appdata\\local\\packages\\pythonsoftwarefoundation.python.3.11_qbz5n2kfra8p0\\localcache\\local-packages\\python311\\site-packages (from trio~=0.17->selenium) (3.6)\n",
      "Requirement already satisfied: outcome in c:\\users\\modern\\appdata\\local\\packages\\pythonsoftwarefoundation.python.3.11_qbz5n2kfra8p0\\localcache\\local-packages\\python311\\site-packages (from trio~=0.17->selenium) (1.3.0.post0)\n",
      "Requirement already satisfied: sniffio>=1.3.0 in c:\\users\\modern\\appdata\\local\\packages\\pythonsoftwarefoundation.python.3.11_qbz5n2kfra8p0\\localcache\\local-packages\\python311\\site-packages (from trio~=0.17->selenium) (1.3.1)\n",
      "Requirement already satisfied: cffi>=1.14 in c:\\users\\modern\\appdata\\local\\packages\\pythonsoftwarefoundation.python.3.11_qbz5n2kfra8p0\\localcache\\local-packages\\python311\\site-packages (from trio~=0.17->selenium) (1.17.1)\n",
      "Requirement already satisfied: wsproto>=0.14 in c:\\users\\modern\\appdata\\local\\packages\\pythonsoftwarefoundation.python.3.11_qbz5n2kfra8p0\\localcache\\local-packages\\python311\\site-packages (from trio-websocket~=0.9->selenium) (1.2.0)\n",
      "Requirement already satisfied: pysocks!=1.5.7,<2.0,>=1.5.6 in c:\\users\\modern\\appdata\\local\\packages\\pythonsoftwarefoundation.python.3.11_qbz5n2kfra8p0\\localcache\\local-packages\\python311\\site-packages (from urllib3[socks]<3,>=1.26->selenium) (1.7.1)\n",
      "Requirement already satisfied: pycparser in c:\\users\\modern\\appdata\\local\\packages\\pythonsoftwarefoundation.python.3.11_qbz5n2kfra8p0\\localcache\\local-packages\\python311\\site-packages (from cffi>=1.14->trio~=0.17->selenium) (2.22)\n",
      "Requirement already satisfied: h11<1,>=0.9.0 in c:\\users\\modern\\appdata\\local\\packages\\pythonsoftwarefoundation.python.3.11_qbz5n2kfra8p0\\localcache\\local-packages\\python311\\site-packages (from wsproto>=0.14->trio-websocket~=0.9->selenium) (0.14.0)\n",
      "Note: you may need to restart the kernel to use updated packages.\n"
     ]
    },
    {
     "name": "stderr",
     "output_type": "stream",
     "text": [
      "\n",
      "[notice] A new release of pip is available: 24.0 -> 24.2\n",
      "[notice] To update, run: C:\\Users\\MODERN\\AppData\\Local\\Microsoft\\WindowsApps\\PythonSoftwareFoundation.Python.3.11_qbz5n2kfra8p0\\python.exe -m pip install --upgrade pip\n"
     ]
    }
   ],
   "source": [
    "pip install selenium"
   ]
  },
  {
   "cell_type": "markdown",
   "metadata": {},
   "source": [
    "## Import Modules"
   ]
  },
  {
   "cell_type": "code",
   "execution_count": 19,
   "metadata": {},
   "outputs": [],
   "source": [
    "from selenium import webdriver\n",
    "from selenium.webdriver.common.by import By\n",
    "from selenium.webdriver.chrome.service import Service\n",
    "from selenium.webdriver.support.ui import WebDriverWait\n",
    "from selenium.webdriver.support import expected_conditions as EC\n",
    "from selenium.webdriver.common.action_chains import ActionChains\n",
    "import pandas as pd\n",
    "import time\n",
    "import re\n",
    "from tqdm import tqdm  # Import tqdm for progress bar\n",
    "from bs4 import BeautifulSoup\n",
    "import requests\n",
    "import json "
   ]
  },
  {
   "cell_type": "markdown",
   "metadata": {},
   "source": [
    "## WebDriver"
   ]
  },
  {
   "cell_type": "code",
   "execution_count": 20,
   "metadata": {},
   "outputs": [],
   "source": [
    "# Base class for handling common WebDriver functionalities\n",
    "class BaseScraper:\n",
    "    def __init__(self):\n",
    "        self.driver = self.init_driver()\n",
    "\n",
    "    def init_driver(self):\n",
    "        service = Service()\n",
    "        options = webdriver.ChromeOptions()\n",
    "        driver = webdriver.Chrome(service=service, options=options)\n",
    "        return driver\n",
    "\n",
    "    def close_driver(self):\n",
    "        self.driver.quit()\n"
   ]
  },
  {
   "cell_type": "markdown",
   "metadata": {},
   "source": [
    "## Scraping Movie Details"
   ]
  },
  {
   "cell_type": "code",
   "execution_count": 30,
   "metadata": {},
   "outputs": [],
   "source": [
    "class MoviesScraper(BaseScraper):\n",
    "    def __init__(self, url, clicks=2):\n",
    "        super().__init__()  # Call the base class constructor\n",
    "        self.url = url\n",
    "        self.clicks = clicks  # Number of times to click the \"50 more\" button\n",
    "        self.movie_data = []\n",
    "\n",
    "    def fetch_movies(self):\n",
    "        self.driver.get(self.url)\n",
    "\n",
    "        # Click on \"50 more\" button for the specified number of clicks\n",
    "        with tqdm(total=self.clicks, desc='Loading movies') as pbar:\n",
    "            for _ in range(self.clicks):\n",
    "                soup = self.click_see_more_button()  # Re-fetch HTML after each click if successful\n",
    "                pbar.update(1)  # Update the progress bar for each click\n",
    "\n",
    "        # Calculate and apply the wait time based on the number of clicks\n",
    "        wait_time = self._calculate_wait_time(self.clicks)\n",
    "        time.sleep(wait_time)  # Adjust wait time based on clicks\n",
    "\n",
    "        # After all clicks, extract the final set of movie data\n",
    "        html = self.driver.page_source\n",
    "        soup = BeautifulSoup(html, 'html.parser')\n",
    "        movies = soup.select('div.sc-59c7dc1-2')\n",
    "        self.extract_movie_data(movies)  # Extract all data after final click\n",
    "\n",
    "        self.close_driver()  # Close the driver after fetching movies\n",
    "\n",
    "    def click_see_more_button(self):\n",
    "        try:\n",
    "            see_more_button = WebDriverWait(self.driver, 3).until(  # Reduced wait time to 3 seconds\n",
    "                EC.element_to_be_clickable((By.XPATH, \"//span[contains(text(), '50 more')]\"))\n",
    "            )\n",
    "\n",
    "            # Scroll to and click the button\n",
    "            self.driver.execute_script(\"arguments[0].scrollIntoView();\", see_more_button)\n",
    "            ActionChains(self.driver).move_to_element(see_more_button).click().perform()\n",
    "\n",
    "            # Wait for new content to load with reduced wait time\n",
    "            WebDriverWait(self.driver, 3).until(  # Reduced wait time to 3 seconds\n",
    "                EC.presence_of_element_located((By.CLASS_NAME, 'ipc-title'))\n",
    "            )\n",
    "            time.sleep(1)  # Reduced sleep time to 1 second\n",
    "\n",
    "            return BeautifulSoup(self.driver.page_source, 'html.parser')\n",
    "\n",
    "        except Exception as e:\n",
    "            print(f\"Error occurred: {e}\")\n",
    "            return None\n",
    "\n",
    "    def extract_movie_data(self, movies):\n",
    "        for movie in movies:\n",
    "            title_tag = movie.select_one('h3.ipc-title__text')\n",
    "            year_tag = movie.select_one('div.sc-ab348ad5-7.cqgETV.dli-title-metadata > span:nth-child(1)')\n",
    "            rating_tag = movie.select_one('span.ipc-rating-star--rating')\n",
    "            link_tag = movie.select_one('a.ipc-title-link-wrapper')\n",
    "\n",
    "            if title_tag and year_tag and rating_tag and link_tag:\n",
    "                title = title_tag.text.strip()\n",
    "                year = year_tag.text.strip()\n",
    "                rating = rating_tag.text.strip()\n",
    "                link = link_tag['href']\n",
    "\n",
    "                # Extract movie ID\n",
    "                movie_id = link.split('/title/')[1].split('/')[0]\n",
    "\n",
    "                # Clean the title\n",
    "                title = re.sub(r'^\\d+\\.\\s*', '', title)\n",
    "\n",
    "                self.movie_data.append({\n",
    "                    'Movie ID': movie_id,\n",
    "                    'Title': title,\n",
    "                    'Year': year,\n",
    "                    'Rating': rating\n",
    "                })\n",
    "\n",
    "    def to_dataframe(self):\n",
    "        return pd.DataFrame(self.movie_data)\n",
    "\n",
    "    def _calculate_wait_time(self, clicks):\n",
    "        \"\"\"\n",
    "        Calculate the wait time based on the number of clicks.\n",
    "        Increase wait time as the number of clicks grows.\n",
    "        \"\"\"\n",
    "        base_wait_time = 2  # Base wait time in seconds\n",
    "        # Increment wait time by 2 seconds for every 10 clicks\n",
    "        additional_wait_time = (clicks // 10) * 2  # Add 2 seconds every 10 clicks\n",
    "        \n",
    "        return base_wait_time + additional_wait_time"
   ]
  },
  {
   "cell_type": "markdown",
   "metadata": {},
   "source": [
    "### Test"
   ]
  },
  {
   "cell_type": "code",
   "execution_count": 33,
   "metadata": {},
   "outputs": [
    {
     "name": "stderr",
     "output_type": "stream",
     "text": [
      "Loading movies: 100%|██████████| 200/200 [3:05:27<00:00, 55.64s/it]   \n"
     ]
    },
    {
     "name": "stdout",
     "output_type": "stream",
     "text": [
      "Movies DataFrame:\n",
      "        Movie ID                 Title  Year Rating\n",
      "0     tt11315808   Joker: Folie à Deux  2024    5.3\n",
      "1     tt17526714         The Substance  2024    7.9\n",
      "2     tt10128846           Megalopolis  2024    5.0\n",
      "3     tt14257582                 Wolfs  2024    6.5\n",
      "4      tt6263850  Deadpool & Wolverine  2024    7.9\n",
      "...          ...                   ...   ...    ...\n",
      "9510  tt12447796             Unwelcome  2022    5.3\n",
      "9511   tt9860728      Falling Inn Love  2019    5.7\n",
      "9512   tt0080798                Gloria  1980    7.1\n",
      "9513   tt4392454            13 Cameras  2015    5.2\n",
      "9514   tt0412536  Brideshead Revisited  2008    6.6\n",
      "\n",
      "[9515 rows x 4 columns]\n"
     ]
    }
   ],
   "source": [
    "# Define a sample URL for testing (this URL should lead to a page with movie data)\n",
    "sample_url = \"https://www.imdb.com/search/title/?title_type=feature\"  # IMDb's Top Rated Movies\n",
    "\n",
    "# Initialize the MoviesScraper with the URL and number of clicks\n",
    "scraper = MoviesScraper(url=sample_url, clicks=200)\n",
    "\n",
    "# Fetch movie data\n",
    "scraper.fetch_movies()\n",
    "\n",
    "# Convert the collected movie data to a DataFrame and display\n",
    "movies_df = scraper.to_dataframe()\n",
    "print(\"Movies DataFrame:\")\n",
    "print(movies_df)"
   ]
  },
  {
   "cell_type": "code",
   "execution_count": 34,
   "metadata": {},
   "outputs": [
    {
     "data": {
      "text/plain": [
       "(9515, 4)"
      ]
     },
     "execution_count": 34,
     "metadata": {},
     "output_type": "execute_result"
    }
   ],
   "source": [
    "movies_df.shape"
   ]
  },
  {
   "cell_type": "code",
   "execution_count": 36,
   "metadata": {},
   "outputs": [],
   "source": [
    "movies_df.to_csv('movies_df.csv')"
   ]
  },
  {
   "cell_type": "markdown",
   "metadata": {},
   "source": [
    "## Scraping Reviews of each Movies"
   ]
  },
  {
   "cell_type": "code",
   "execution_count": null,
   "metadata": {},
   "outputs": [],
   "source": [
    "class MovieReviewScraper(BaseScraper):\n",
    "    def __init__(self, movie_data):\n",
    "        super().__init__()  # Call the base class constructor\n",
    "        self.movie_data = movie_data\n",
    "        self.movie_reviews = []\n",
    "\n",
    "    def fetch_reviews(self):\n",
    "        # Loop through each movie in the provided movie data\n",
    "        for index, row in self.movie_data.iterrows():\n",
    "            movie_id = row['Movie ID']\n",
    "            review_url = f\"https://www.imdb.com/title/{movie_id}/reviews\"\n",
    "            self.driver.get(review_url)\n",
    "\n",
    "            # Scroll to the 'All' or 'Load More' button to load reviews\n",
    "            self._load_reviews()\n",
    "\n",
    "            # Wait for a moment to ensure all reviews are fully loaded\n",
    "            time.sleep(10)\n",
    "\n",
    "            # Get the HTML of the page after loading reviews\n",
    "            html = self.driver.page_source\n",
    "            soup = BeautifulSoup(html, 'html.parser')\n",
    "\n",
    "            # Extract reviews from the page\n",
    "            self._extract_reviews(soup, movie_id, row['Title'])\n",
    "\n",
    "        # Close the browser after fetching all reviews\n",
    "        self.close_driver()\n",
    "\n",
    "    def _load_reviews(self):\n",
    "        # Try to find and click the 'All' reviews button\n",
    "        try:\n",
    "            all_reviews_button = WebDriverWait(self.driver, 5).until(\n",
    "                EC.presence_of_element_located((By.XPATH, \"//*[@id='__next']/main/div/section/div/section/div/div[1]/section[1]/div[3]/div/span[2]/button\"))\n",
    "            )\n",
    "            self.driver.execute_script(\"arguments[0].scrollIntoView({block: 'center'});\", all_reviews_button)\n",
    "            time.sleep(2)  # Wait for the page to load if needed\n",
    "            all_reviews_button.click()\n",
    "        except Exception as e:\n",
    "            print(\"Could not find 'All' button, will try to find 'Load More'\")\n",
    "            self._load_more_reviews()\n",
    "\n",
    "    def _load_more_reviews(self):\n",
    "        # Use tqdm for loading indicator while clicking 'Load More'\n",
    "        with tqdm(total=10, desc='Loading More Reviews', leave=False) as pbar:  # Adjust total as needed\n",
    "            while True:\n",
    "                try:\n",
    "                    load_more_button = WebDriverWait(self.driver, 5).until(\n",
    "                        EC.presence_of_element_located((By.XPATH, '//*[@id=\"load-more-trigger\"]'))\n",
    "                    )\n",
    "                    self.driver.execute_script(\"arguments[0].scrollIntoView({block: 'center'});\", load_more_button)\n",
    "                    time.sleep(2)  # Wait a moment for the page to load\n",
    "                    load_more_button.click()\n",
    "                    pbar.update(1)  # Update the progress bar for each click\n",
    "                    time.sleep(2)  # Wait a moment before clicking again\n",
    "                except Exception as e:\n",
    "                    print(\"No more 'Load More' buttons to click.\")\n",
    "                    break\n",
    "\n",
    "    def _extract_reviews(self, soup, movie_id, title):\n",
    "        # Select reviews from the page\n",
    "        reviews = soup.select('article.user-review-item')\n",
    "        \n",
    "        # If no reviews found, try to load more reviews\n",
    "        if not reviews:\n",
    "            reviews = soup.select('div.lister-item.mode-detail.imdb-user-review')\n",
    "            if not reviews:  # If still no reviews available\n",
    "                print(\"No reviews to load.\")\n",
    "                return\n",
    "            \n",
    "            for review in reviews:\n",
    "                self._parse_review(review, movie_id, title, \"load_more\")\n",
    "        else:  # If reviews were found\n",
    "            for review in reviews:\n",
    "                self._parse_review(review, movie_id, title, \"all\")\n",
    "\n",
    "    def _parse_review(self, review, movie_id, title, review_type):\n",
    "        # Extract information from the review based on its type (load_more or all)\n",
    "        if review_type == \"load_more\":\n",
    "            review_rating = review.select_one('span.rating-other-user-rating span').get_text(strip=True) if review.select_one('span.rating-other-user-rating span') else 'No rating'\n",
    "            review_summary = review.select_one('a.title').get_text(strip=True) if review.select_one('a.title') else 'No summary'\n",
    "            review_text = review.select_one('div.text.show-more__control').get_text(strip=True) if review.select_one('div.text.show-more__control') else 'No content'\n",
    "            author_tag = review.select_one('span.display-name-link a').get_text(strip=True) if review.select_one('span.display-name-link a') else 'Unknown Author'\n",
    "            review_date = review.select_one('span.review-date').get_text(strip=True) if review.select_one('span.review-date') else 'No date'\n",
    "        else:\n",
    "            review_rating = review.select_one('span.ipc-rating-star--rating').get_text(strip=True) if review.select_one('span.ipc-rating-star--rating') else 'No rating'\n",
    "            review_summary = review.select_one('span[data-testid=\"review-summary\"]').get_text(strip=True) if review.select_one('span[data-testid=\"review-summary\"]') else 'No summary'\n",
    "            review_text = review.select_one('div.ipc-html-content-inner-div').get_text(strip=True) if review.select_one('div.ipc-html-content-inner-div') else 'No content'\n",
    "            author_tag = review.select_one('a[data-testid=\"author-link\"]').get_text(strip=True) if review.select_one('a[data-testid=\"author-link\"]') else 'Unknown Author'\n",
    "            review_date = review.select_one('li.review-date').get_text(strip=True) if review.select_one('li.review-date') else 'No date'\n",
    "\n",
    "        # Store the review information in a list\n",
    "        self.movie_reviews.append({\n",
    "            'Movie ID': movie_id,\n",
    "            'Title': title,\n",
    "            'Review Summary': review_summary,\n",
    "            'Review': review_text,\n",
    "            'Rating': review_rating,\n",
    "            'Author': author_tag,\n",
    "            'Date': review_date\n",
    "        })\n",
    "\n",
    "    def to_dataframe(self):\n",
    "        # Convert the collected reviews to a DataFrame\n",
    "        return pd.DataFrame(self.movie_reviews)\n"
   ]
  },
  {
   "cell_type": "markdown",
   "metadata": {},
   "source": [
    "### Test 1 movie"
   ]
  },
  {
   "cell_type": "markdown",
   "metadata": {},
   "source": [
    "#### Test case"
   ]
  },
  {
   "cell_type": "code",
   "execution_count": 221,
   "metadata": {},
   "outputs": [
    {
     "name": "stdout",
     "output_type": "stream",
     "text": [
      "Could not find 'All' button, will try to find 'Load More'\n",
      "Clicked 'Load More' button (1/3)\n",
      "Clicked 'Load More' button (2/3)\n",
      "Clicked 'Load More' button (3/3)\n",
      "     Movie ID                 Title                                     Review Summary                                             Review     Rating                  Author               Date\n",
      "0   tt6263850  Deadpool & Wolverine                          Till you're 90 Wolverine!  Hugh Jackman is the perfect Wolverine. What a ...          9           omar-d-sheikh       25 July 2024\n",
      "1   tt6263850  Deadpool & Wolverine  \"You were always the wrong one, till you weren...  What a crazy blast ! Bonkers !!Sooo !...\\nWhat...          9             valmont1702       24 July 2024\n",
      "2   tt6263850  Deadpool & Wolverine               The Bloodiest Mayhem Of The Century!  We've waited so long for this moment, and it w...          8        MiroslavKyuranov       24 July 2024\n",
      "3   tt6263850  Deadpool & Wolverine                                  Easter Egg Heaven  So many Easter Eggs, so true to the comic char...         10                   7twan       24 July 2024\n",
      "4   tt6263850  Deadpool & Wolverine                            The best watch in years  I read an IGN review where the guy gave it a 7...          9              jagandphil       26 July 2024\n",
      "5   tt6263850  Deadpool & Wolverine             Another film ruined by the multiverse.  Story was a 4/10 max. I genuinely got bored an...          6            hbyatt-10792       30 July 2024\n",
      "6   tt6263850  Deadpool & Wolverine                                    Pure bloody fun  Went to an early midnight screening in a packe...          9          srdjankostic91       24 July 2024\n",
      "7   tt6263850  Deadpool & Wolverine                                              Meh:(  I feel i'm in the minority here but I can't br...          6                  TS2095      7 August 2024\n",
      "8   tt6263850  Deadpool & Wolverine                               Pure cinematic candy  I saw this at an early fan screening and it wa...          9                  spmact       24 July 2024\n",
      "9   tt6263850  Deadpool & Wolverine                         Weak story but a fun ride.  I felt like the story was weak and obviously t...          7               looneymax       28 July 2024\n",
      "10  tt6263850  Deadpool & Wolverine       I must be the only person who didn't like it  Pointless fan service. The jokes are fresh any...          5    christopherosenbauer   2 September 2024\n",
      "11  tt6263850  Deadpool & Wolverine          A fun farewell and promising introduction  So that was a trip. I really enjoyed that film...          8                 ossie85       24 July 2024\n",
      "12  tt6263850  Deadpool & Wolverine                                            Awesome  My first review.I'm not a huge Marvel fan, but...          8           imeneko-95217       24 July 2024\n",
      "13  tt6263850  Deadpool & Wolverine                 Pure nostalgia. Easter eggs loaded  Watched it on IMAX with my parents and it was ...          8        FriendsDontLie11       24 July 2024\n",
      "14  tt6263850  Deadpool & Wolverine             Beautiful tribute & a whole lot of fun  The opening sequence to this film is one of th...          9           brandonmckay8       24 July 2024\n",
      "15  tt6263850  Deadpool & Wolverine                                          It was OK  This is the first Marvel movie in a long time ...          6            LordOfLotion       28 July 2024\n",
      "16  tt6263850  Deadpool & Wolverine  A blast and dream for comic book fans but a ve...  After rewatching Deadpool and Wolverine I have...          8         joeltaylor-1205       25 July 2024\n",
      "17  tt6263850  Deadpool & Wolverine  It was like a fan-made, fake movie trailer wit...  It was painful to watch this movie at times. W...          6                 Crimsus       26 July 2024\n",
      "18  tt6263850  Deadpool & Wolverine                 Welcome Marvel Jesus of the MCU!!!  \"Deadpool & Wolverine\" was everything that I e...         10          bhernandez2216       25 July 2024\n",
      "19  tt6263850  Deadpool & Wolverine                                     Half way In...  We saw this at the midnight premiere in imperi...          7               dam-24421       24 July 2024\n",
      "20  tt6263850  Deadpool & Wolverine  A little big adventure of poor humour and lack...  When did cursing more become a recipe for humo...          5               kibrisli7       31 July 2024\n",
      "21  tt6263850  Deadpool & Wolverine       Deadpool would say, 'An Orgasmic Experience'  Remember back in 2022 when Dr Strange: Multive...          8              iamianiman       24 July 2024\n",
      "22  tt6263850  Deadpool & Wolverine  To fully enjoy the movie, you need to have see...  And to understand some of the Easter eggs, jok...         10             crazy-tiger       24 July 2024\n",
      "23  tt6263850  Deadpool & Wolverine   Loved it.. Forget the last 5 years, watch this!!  \"Deadpool 3\" is a thrilling and hilarious cont...         10                tooranim       25 July 2024\n",
      "24  tt6263850  Deadpool & Wolverine                              Great movie mist see!  Awesome movie! Lot of funny humor. Multiple oc...          8         vanparyssayanyt       24 July 2024\n",
      "25  tt6263850  Deadpool & Wolverine  \"The movie that will save Marvel!\" No, not rea...  D&W is a film that objectively deserves a nice...          6           tuccoridavide  23 September 2024\n",
      "26  tt6263850  Deadpool & Wolverine                The best Marvel movie after Endgame  A movie to say the least 200 minute From blata...         10        aiassgaminggamer       24 July 2024\n",
      "27  tt6263850  Deadpool & Wolverine                  Marvel fails to be original again  Feels live every Marvel movies the same these ...          6          kbwilson-04380       27 July 2024\n",
      "28  tt6263850  Deadpool & Wolverine                                     Refreshing fun  This is exactly what I was hoping for from the...          9         bristolsaunders       25 July 2024\n",
      "29  tt6263850  Deadpool & Wolverine                         Pointless self-deprecation  Wolverine x Deadpool\" is fun, but way too long...          7          eagandersongil  22 September 2024\n",
      "30  tt6263850  Deadpool & Wolverine                                   Did'nt like This  Ok after delaying watching this movie at its o...          3           soulfunkyjazz   8 September 2024\n",
      "31  tt6263850  Deadpool & Wolverine                                       Delightful 😊  This film delights fans, especially those who ...          9      raivoka-814-254530       24 July 2024\n",
      "32  tt6263850  Deadpool & Wolverine               Marvel Jesus, laughter and nostalgia  Here it is!Deadpool has always held a special ...         10        nasyushayamborko       25 July 2024\n",
      "33  tt6263850  Deadpool & Wolverine                                        MASTERPIECE  Ryan has created a masterpiece...from the firs...         10           cesaljbooking       24 July 2024\n",
      "34  tt6263850  Deadpool & Wolverine                 Wall to wall well-done Fan-Service  It's a love letter to the early 2000s superher...          9                  jzhpmf       25 July 2024\n",
      "35  tt6263850  Deadpool & Wolverine                                     Fun but flawed  It was a fun movie overall with lots of good c...          7               joe-39775       26 July 2024\n",
      "36  tt6263850  Deadpool & Wolverine                                         INCREDIBLE  Feels like such a welcome return to Marvel's g...         10       natashafitzsimons       25 July 2024\n",
      "37  tt6263850  Deadpool & Wolverine             Reynolds and Jackman are awsome but...  I just saw the movie together with my family a...          6             danielmadan       24 July 2024\n",
      "38  tt6263850  Deadpool & Wolverine  Deadpool at its best, and a extremely good per...  Initial reaction after just seeing the movie a...          9            sethgt-92135       24 July 2024\n",
      "39  tt6263850  Deadpool & Wolverine  Decent action, Hilarious Jokes, Overloaded on ...  THE GOOD\\nGreat chemistry between the leads.To...          7              mshahbabar       26 July 2024\n",
      "40  tt6263850  Deadpool & Wolverine                     More multiverse boring garbage  My dad fell asleep during this. Twice. If he'd...          4        blatherskitenoir       28 July 2024\n",
      "41  tt6263850  Deadpool & Wolverine                                      Massively Fun  The Whole Movie is a good fun time, the movie ...          9              rowe-27464       24 July 2024\n",
      "42  tt6263850  Deadpool & Wolverine                                    What a comeback  What fun! Amazing moments during the movie, un...         10          Sandy_thegamer       26 July 2024\n",
      "43  tt6263850  Deadpool & Wolverine      Amazing farewell to the Fox Marvel characters  I don't know what there is to not like about t...         10               mob-96831     11 August 2024\n",
      "44  tt6263850  Deadpool & Wolverine                You can review this movie in 2 ways  The reason I don't give the movie higher than ...          7            jobmeijerink      5 August 2024\n",
      "45  tt6263850  Deadpool & Wolverine                                  Best Deadpool yet  Loved it! Some say that is was not all that, b...         10   christophergood-01299       26 July 2024\n",
      "46  tt6263850  Deadpool & Wolverine  A fun packed farewell for the Fox legends, but...  Movie fared quite well with respect to the jok...          6           mounisanapala       28 July 2024\n",
      "47  tt6263850  Deadpool & Wolverine                              Exceeds expectations!  I had extremely high expectations going into t...         10               wgeddings       26 July 2024\n",
      "48  tt6263850  Deadpool & Wolverine  When an average movie stands out in a pile of ...  To sum up: a forgettable movie with a load of ...          6             frederkamen     16 August 2024\n",
      "49  tt6263850  Deadpool & Wolverine                                         booooooooo  Overrated to HELL, cheap movie with big budget...          2           cescaabtaylor   2 September 2024\n",
      "50  tt6263850  Deadpool & Wolverine                                      Let's f'ng go  This had everything that I wanted and more. It...         10     TBJCSKCNRRQTreviews       31 July 2024\n",
      "51  tt6263850  Deadpool & Wolverine                  Best Marvel movie after Endgame!!  Woah! Just wow where do I even start!This movi...         10               zaynfenix       24 July 2024\n",
      "52  tt6263850  Deadpool & Wolverine                                          Brilliant  Just loved this movie, along with my husband. ...         10               ruthszulc       24 July 2024\n",
      "53  tt6263850  Deadpool & Wolverine                               ABSOLUTELY HILARIOUS  All the jokes landed, the cgi as for all marve...         10             jolis-43134       24 July 2024\n",
      "54  tt6263850  Deadpool & Wolverine  It is not bad by no means however it isn't as ...  Despite pretty much every single superhero mov...          7          ShuhratGlazkov       26 July 2024\n",
      "55  tt6263850  Deadpool & Wolverine    LFGGG!!!! The Savior The MCU Desperately Needed  We've all waited in anticipation for the relea...         10            shivamspande       25 July 2024\n",
      "56  tt6263850  Deadpool & Wolverine                          Bogged down by fanservice  Before you downvote me, let's get one thing cl...          7       GregTheStopSign95       24 July 2024\n",
      "57  tt6263850  Deadpool & Wolverine                              The best Marvel Movie  \"Deadpool and Wolverine\" would be a phenomenal...         10                 jkratan       29 July 2024\n",
      "58  tt6263850  Deadpool & Wolverine  multiverse, irreverence, nostalgia, and my way...  Deadpool (Ryan Reynolds) is living an empty li...          7             SnoopyStyle     3 October 2024\n",
      "59  tt6263850  Deadpool & Wolverine  Disappointing and overrated with a terrible vi...  I should have known this would be a disappoint...          5        Christopher_Reid  23 September 2024\n",
      "60  tt6263850  Deadpool & Wolverine               15 min of plot. 2 hours of great fun  I just hope this serve as a guide for the fans...         10                  Vagner       25 July 2024\n",
      "61  tt6263850  Deadpool & Wolverine  I don't think any parody movie could top this off  There are so many easter eggs and spoilers tha...         10          virenjoshismpr       30 July 2024\n",
      "62  tt6263850  Deadpool & Wolverine               Absolutely beautiful, a masterpiece.  Its beautiful everything is perfectly executed...         10        omerkhaled-94299       25 July 2024\n",
      "63  tt6263850  Deadpool & Wolverine  An absolute blockbuster. One of the best Marve...  Let me first start off. I am a huge Marvel fan...         10             rick_forget       29 July 2024\n",
      "64  tt6263850  Deadpool & Wolverine                                  Don't hate me....  I actually liked this ALOT.But I feel its fell...          7           Nikkiangel002      1 August 2024\n",
      "65  tt6263850  Deadpool & Wolverine                                LFG MARVEL JESUS!!!  The movie is pure cinema! Congrats to Shawn Le...         10             mpourfiotis       25 July 2024\n",
      "66  tt6263850  Deadpool & Wolverine                   Too Much Humor, Too Little Story  I enjoyed the first two Deadpool movies a lot,...          6           SouthernViews      8 August 2024\n",
      "67  tt6263850  Deadpool & Wolverine  Raunchy and witty with a bromance like Butch a...  \"Disney brought him back. They're gonna make h...  No rating             JohnDeSando       31 July 2024\n",
      "68  tt6263850  Deadpool & Wolverine                 The Duo we've all been waiting for  Deadpool & Wolverine is about as entertaining ...          8          TheWatcher1999       24 July 2024\n",
      "69  tt6263850  Deadpool & Wolverine  Wolverine Hates Deadpool, Deadpool Loves Wolve...  The cinematic experience that brings together ...          7          kmkevinn-64733       24 July 2024\n",
      "70  tt6263850  Deadpool & Wolverine                                             Boring  Feels like nobody in this movie wanted to be i...          3                mikelpcl     4 October 2024\n",
      "71  tt6263850  Deadpool & Wolverine                          The first and last review  I have never written a review nor will i ever ...         10         drippingtricker       25 July 2024\n",
      "72  tt6263850  Deadpool & Wolverine   Deadpool and Logan have crushed 2024! yeah BABY!  When I saw the first Deadpool movie in 2016 I ...         10         gabethedinosaur       26 July 2024\n",
      "73  tt6263850  Deadpool & Wolverine            Don't shoot! The puppy is in the frame!  \"Deadpool and Wolverine\" is a film that is rea...          9         alekspredator87      2 August 2024\n",
      "74  tt6263850  Deadpool & Wolverine                                    Fantastic Movie  It was so good to see Hugh Jackman back as wol...         10              akhtarzein       25 July 2024\n",
      "75  tt6263850  Deadpool & Wolverine   Alternated constantly between \"fun\" and \"cringe\"  This movie is just the better version of \"Free...          6             knoxfan2008       30 July 2024\n",
      "76  tt6263850  Deadpool & Wolverine                 Classic Deadpool with so much more  Ever since Deadpool 3 was green lit and Ryan R...         10              kevt-80510       25 July 2024\n",
      "77  tt6263850  Deadpool & Wolverine                                It knows what it is  The title of this might be misleading, but I d...          7            Chukwudi2000       26 July 2024\n",
      "78  tt6263850  Deadpool & Wolverine                                THIS MOVIE WAS PEAK  I love how the movies was and it was a joy to ...         10           mikhildayaram       25 July 2024\n",
      "79  tt6263850  Deadpool & Wolverine               Very funny but there isn't the movie  Deadpool and Wolverine is the last entrance in...          6                  Dello_       30 July 2024\n",
      "80  tt6263850  Deadpool & Wolverine  This is NOT a movie about Deadpool and Wolverine.  This is not a movie about Deadpool and Wolveri...          3                 AmenTau       31 July 2024\n",
      "81  tt6263850  Deadpool & Wolverine                          Deadpool. Wolverine. LFG!  Marvel, Disney, Kevin Feige, and Madonna neede...         10                 tyelder       26 July 2024\n",
      "82  tt6263850  Deadpool & Wolverine                                      So damn good!  First time I've felt the need to add a review ...         10               k-l-stone       25 July 2024\n",
      "83  tt6263850  Deadpool & Wolverine                                What a masterpiece!  After End Game, for the first time since No Wa...         10     dikmenibrahim-08457       25 July 2024\n",
      "84  tt6263850  Deadpool & Wolverine  Ryan Reynolds and Hugh Jackman back at their b...  For those who read this review, please watch t...         10                 hnkysww       25 July 2024\n",
      "85  tt6263850  Deadpool & Wolverine  There's fun to be had within this mess, but ma...  Big mixed feelings on this one. I feel it's to...          6         Jeremy_Urquhart       26 July 2024\n",
      "86  tt6263850  Deadpool & Wolverine                      Savior of the Multiverse Saga  Deadpool & Wolverine delivered what was promis...         10            elhamfirmino       24 July 2024\n",
      "87  tt6263850  Deadpool & Wolverine     I really wanted it to be a great movie, but...  I really liked first two movies, both are a 10...          6     i_am_iron_man-71475       27 July 2024\n",
      "88  tt6263850  Deadpool & Wolverine                                 11/10 No Questions  What a Gory Cinimatic Masterpiece. It is such ...         10  davidskingsleybowerman       26 July 2024\n",
      "89  tt6263850  Deadpool & Wolverine  Fanservice, high budgeted soundtrack, cameos a...  This movie appears to have had a large budget,...          6            Kristi_Hicks     1 October 2024\n",
      "90  tt6263850  Deadpool & Wolverine                                   Mediocre at best  I am a Deadpool fan, the first two movies were...          5          antoneseiionut     5 October 2024\n",
      "91  tt6263850  Deadpool & Wolverine                     Everyone must watch that movie  The movie is great. I wil try to tell all the ...         10          dimitrik-47511       25 July 2024\n",
      "92  tt6263850  Deadpool & Wolverine    A Perfect Blend of Humor, Action, and Nostalgia  Rating: 10/10Review:The Deadpool and Wolverine...         10                   rez08       25 July 2024\n",
      "93  tt6263850  Deadpool & Wolverine   Deadpool & Wolverine May Have Just Saved The MCU  To say that the MCU has been in a slow decline...         10                mnbtvdyi       25 July 2024\n",
      "94  tt6263850  Deadpool & Wolverine                  I believe one of THE BEST MOVIES!  I always loved deadpool but a movie with deadp...         10               marykrkrd       25 July 2024\n",
      "95  tt6263850  Deadpool & Wolverine               unfortunately not up to expectations  I am a hardcore fan. I watch all the day they ...          6                  dobasu       25 July 2024\n",
      "96  tt6263850  Deadpool & Wolverine                          Pure glorious fan service  No spoilers! But let's just clear this up righ...         10       thecanadian-23317       26 July 2024\n",
      "97  tt6263850  Deadpool & Wolverine         4th Walls Breaking and Easter Eggs GALORE!  I want to start off by saying this film was go...          7                 henzela       25 July 2024\n",
      "98  tt6263850  Deadpool & Wolverine                         10 out of 10 a masterpiece  This movie is crude, violent, hilariously funn...         10       amandakelly-44326       25 July 2024\n",
      "99  tt6263850  Deadpool & Wolverine  Deadpool/Ryan Reynolds fans won't be disappoin...  Overall, good fun, very crude, CGI bloody and ...          6              wisdomwasp       26 July 2024\n"
     ]
    }
   ],
   "source": [
    "# Create a small DataFrame for movies to test\n",
    "data = {\n",
    "    'Movie ID': ['tt6263850'],  # Replace with an actual movie ID\n",
    "    'Title': ['Deadpool & Wolverine'],\n",
    "    'Year': ['2024'],\n",
    "    'Rating': ['7.9']\n",
    "}\n",
    "df = pd.DataFrame(data)\n",
    "\n",
    "# Initialize and run the scraper\n",
    "scraper = MovieReviewScraper(df)\n",
    "scraper.fetch_reviews()\n",
    "\n",
    "# Convert the collected reviews to a DataFrame and display\n",
    "reviews_df = scraper.to_dataframe()\n",
    "print(reviews_df)\n"
   ]
  },
  {
   "cell_type": "code",
   "execution_count": 219,
   "metadata": {},
   "outputs": [
    {
     "data": {
      "text/plain": [
       "\"Hugh Jackman is the perfect Wolverine. What a fun movie. I like the dialogue and clever quips with f bombs sprinkled in. It's definitely not taking itself too seriously. There is tons of fun cameos I didn't expect! I normally watch spoiler videos ahead of time, but I didn't on this occasion and I'm glad I didn't because there was some oh snap moments! It's a very good action packed fun film. The breaking the Fox jokes and speaking to the camera jokes are too funny. I can definitely see more sequels for these two on the horizon. They are promoting this movie hard I just watched these two on Hot Ones eating chicken wings They make a dynamic duo. Until your 90 Wolverine ...until your 90 lol.\""
      ]
     },
     "execution_count": 219,
     "metadata": {},
     "output_type": "execute_result"
    }
   ],
   "source": [
    "reviews_df['Review'][0]"
   ]
  },
  {
   "cell_type": "code",
   "execution_count": null,
   "metadata": {},
   "outputs": [],
   "source": []
  }
 ],
 "metadata": {
  "kernelspec": {
   "display_name": "Python 3",
   "language": "python",
   "name": "python3"
  },
  "language_info": {
   "codemirror_mode": {
    "name": "ipython",
    "version": 3
   },
   "file_extension": ".py",
   "mimetype": "text/x-python",
   "name": "python",
   "nbconvert_exporter": "python",
   "pygments_lexer": "ipython3",
   "version": "3.11.4"
  }
 },
 "nbformat": 4,
 "nbformat_minor": 2
}
