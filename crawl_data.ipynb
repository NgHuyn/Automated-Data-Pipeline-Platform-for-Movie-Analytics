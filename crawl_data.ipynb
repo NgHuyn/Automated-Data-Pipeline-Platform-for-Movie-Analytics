{
 "cells": [
  {
   "cell_type": "markdown",
   "metadata": {},
   "source": [
    "# Scraping 20k Movies in IMDB"
   ]
  },
  {
   "cell_type": "code",
   "execution_count": 3,
   "metadata": {},
   "outputs": [
    {
     "name": "stdout",
     "output_type": "stream",
     "text": [
      "Requirement already satisfied: selenium in e:\\downloads\\etl-data-pipeline-for-aspect-based-sentiment-analysis\\.venv\\lib\\site-packages (4.25.0)\n",
      "Requirement already satisfied: urllib3<3,>=1.26 in e:\\downloads\\etl-data-pipeline-for-aspect-based-sentiment-analysis\\.venv\\lib\\site-packages (from urllib3[socks]<3,>=1.26->selenium) (2.2.3)\n",
      "Requirement already satisfied: trio~=0.17 in e:\\downloads\\etl-data-pipeline-for-aspect-based-sentiment-analysis\\.venv\\lib\\site-packages (from selenium) (0.26.2)\n",
      "Requirement already satisfied: trio-websocket~=0.9 in e:\\downloads\\etl-data-pipeline-for-aspect-based-sentiment-analysis\\.venv\\lib\\site-packages (from selenium) (0.11.1)\n",
      "Requirement already satisfied: certifi>=2021.10.8 in e:\\downloads\\etl-data-pipeline-for-aspect-based-sentiment-analysis\\.venv\\lib\\site-packages (from selenium) (2024.8.30)\n",
      "Requirement already satisfied: typing_extensions~=4.9 in e:\\downloads\\etl-data-pipeline-for-aspect-based-sentiment-analysis\\.venv\\lib\\site-packages (from selenium) (4.12.2)\n",
      "Requirement already satisfied: websocket-client~=1.8 in e:\\downloads\\etl-data-pipeline-for-aspect-based-sentiment-analysis\\.venv\\lib\\site-packages (from selenium) (1.8.0)\n",
      "Requirement already satisfied: attrs>=23.2.0 in e:\\downloads\\etl-data-pipeline-for-aspect-based-sentiment-analysis\\.venv\\lib\\site-packages (from trio~=0.17->selenium) (24.2.0)\n",
      "Requirement already satisfied: sortedcontainers in e:\\downloads\\etl-data-pipeline-for-aspect-based-sentiment-analysis\\.venv\\lib\\site-packages (from trio~=0.17->selenium) (2.4.0)\n",
      "Requirement already satisfied: idna in e:\\downloads\\etl-data-pipeline-for-aspect-based-sentiment-analysis\\.venv\\lib\\site-packages (from trio~=0.17->selenium) (3.10)\n",
      "Requirement already satisfied: outcome in e:\\downloads\\etl-data-pipeline-for-aspect-based-sentiment-analysis\\.venv\\lib\\site-packages (from trio~=0.17->selenium) (1.3.0.post0)\n",
      "Requirement already satisfied: sniffio>=1.3.0 in e:\\downloads\\etl-data-pipeline-for-aspect-based-sentiment-analysis\\.venv\\lib\\site-packages (from trio~=0.17->selenium) (1.3.1)\n",
      "Requirement already satisfied: cffi>=1.14 in e:\\downloads\\etl-data-pipeline-for-aspect-based-sentiment-analysis\\.venv\\lib\\site-packages (from trio~=0.17->selenium) (1.17.1)\n",
      "Requirement already satisfied: wsproto>=0.14 in e:\\downloads\\etl-data-pipeline-for-aspect-based-sentiment-analysis\\.venv\\lib\\site-packages (from trio-websocket~=0.9->selenium) (1.2.0)\n",
      "Requirement already satisfied: pysocks!=1.5.7,<2.0,>=1.5.6 in e:\\downloads\\etl-data-pipeline-for-aspect-based-sentiment-analysis\\.venv\\lib\\site-packages (from urllib3[socks]<3,>=1.26->selenium) (1.7.1)\n",
      "Requirement already satisfied: pycparser in e:\\downloads\\etl-data-pipeline-for-aspect-based-sentiment-analysis\\.venv\\lib\\site-packages (from cffi>=1.14->trio~=0.17->selenium) (2.22)\n",
      "Requirement already satisfied: h11<1,>=0.9.0 in e:\\downloads\\etl-data-pipeline-for-aspect-based-sentiment-analysis\\.venv\\lib\\site-packages (from wsproto>=0.14->trio-websocket~=0.9->selenium) (0.14.0)\n",
      "Note: you may need to restart the kernel to use updated packages.\n"
     ]
    }
   ],
   "source": [
    "pip install selenium"
   ]
  },
  {
   "cell_type": "markdown",
   "metadata": {},
   "source": [
    "## Import Modules"
   ]
  },
  {
   "cell_type": "code",
   "execution_count": 5,
   "metadata": {},
   "outputs": [
    {
     "name": "stdout",
     "output_type": "stream",
     "text": [
      "Collecting pandas\n",
      "  Using cached pandas-2.2.3-cp311-cp311-win_amd64.whl.metadata (19 kB)\n",
      "Collecting numpy>=1.23.2 (from pandas)\n",
      "  Using cached numpy-2.1.2-cp311-cp311-win_amd64.whl.metadata (59 kB)\n",
      "Requirement already satisfied: python-dateutil>=2.8.2 in e:\\downloads\\etl-data-pipeline-for-aspect-based-sentiment-analysis\\.venv\\lib\\site-packages (from pandas) (2.9.0.post0)\n",
      "Collecting pytz>=2020.1 (from pandas)\n",
      "  Using cached pytz-2024.2-py2.py3-none-any.whl.metadata (22 kB)\n",
      "Collecting tzdata>=2022.7 (from pandas)\n",
      "  Using cached tzdata-2024.2-py2.py3-none-any.whl.metadata (1.4 kB)\n",
      "Requirement already satisfied: six>=1.5 in e:\\downloads\\etl-data-pipeline-for-aspect-based-sentiment-analysis\\.venv\\lib\\site-packages (from python-dateutil>=2.8.2->pandas) (1.16.0)\n",
      "Using cached pandas-2.2.3-cp311-cp311-win_amd64.whl (11.6 MB)\n",
      "Using cached numpy-2.1.2-cp311-cp311-win_amd64.whl (12.9 MB)\n",
      "Using cached pytz-2024.2-py2.py3-none-any.whl (508 kB)\n",
      "Using cached tzdata-2024.2-py2.py3-none-any.whl (346 kB)\n",
      "Installing collected packages: pytz, tzdata, numpy, pandas\n",
      "Successfully installed numpy-2.1.2 pandas-2.2.3 pytz-2024.2 tzdata-2024.2\n",
      "Note: you may need to restart the kernel to use updated packages.\n"
     ]
    }
   ],
   "source": [
    "pip install pandas"
   ]
  },
  {
   "cell_type": "code",
   "execution_count": 6,
   "metadata": {},
   "outputs": [
    {
     "name": "stdout",
     "output_type": "stream",
     "text": [
      "Collecting tqdm\n",
      "  Using cached tqdm-4.66.5-py3-none-any.whl.metadata (57 kB)\n",
      "Requirement already satisfied: colorama in e:\\downloads\\etl-data-pipeline-for-aspect-based-sentiment-analysis\\.venv\\lib\\site-packages (from tqdm) (0.4.6)\n",
      "Using cached tqdm-4.66.5-py3-none-any.whl (78 kB)\n",
      "Installing collected packages: tqdm\n",
      "Successfully installed tqdm-4.66.5\n",
      "Note: you may need to restart the kernel to use updated packages.\n"
     ]
    }
   ],
   "source": [
    "pip install tqdm"
   ]
  },
  {
   "cell_type": "code",
   "execution_count": 10,
   "metadata": {},
   "outputs": [],
   "source": [
    "from selenium import webdriver\n",
    "from selenium.webdriver.common.by import By\n",
    "from selenium.webdriver.chrome.service import Service\n",
    "from selenium.webdriver.support.ui import WebDriverWait\n",
    "from selenium.webdriver.support import expected_conditions as EC\n",
    "from selenium.webdriver.common.action_chains import ActionChains\n",
    "import pandas as pd\n",
    "import time\n",
    "import re\n",
    "from tqdm import tqdm  # Import tqdm for progress bar\n",
    "from bs4 import BeautifulSoup\n",
    "import json "
   ]
  },
  {
   "cell_type": "markdown",
   "metadata": {},
   "source": [
    "## WebDriver"
   ]
  },
  {
   "cell_type": "code",
   "execution_count": 11,
   "metadata": {},
   "outputs": [],
   "source": [
    "from selenium import webdriver\n",
    "from selenium.webdriver.chrome.service import Service\n",
    "from selenium.webdriver.chrome.options import Options\n",
    "\n",
    "# Base class for handling common WebDriver functionalities\n",
    "class BaseScraper:\n",
    "    def __init__(self):\n",
    "        self.driver = self.init_driver()\n",
    "\n",
    "    def init_driver(self):\n",
    "        service = Service()  # Initialize the service\n",
    "        options = webdriver.ChromeOptions()\n",
    "        \n",
    "        # Set Chrome options to reduce memory usage\n",
    "        options.headless = True  # Enable headless mode\n",
    "        options.add_argument('--disable-extensions')\n",
    "        options.add_argument('--disable-gpu')\n",
    "        options.add_argument('--disable-dev-shm-usage')\n",
    "        options.add_argument(\"--no-sandbox\")  # Use this if you encounter issues\n",
    "\n",
    "        driver = webdriver.Chrome(service=service, options=options)\n",
    "        return driver\n",
    "\n",
    "    def close_driver(self):\n",
    "        self.driver.quit()\n"
   ]
  },
  {
   "cell_type": "markdown",
   "metadata": {},
   "source": [
    "## Scraping Movie Details"
   ]
  },
  {
   "cell_type": "code",
   "execution_count": 24,
   "metadata": {},
   "outputs": [],
   "source": [
    "import json\n",
    "import pickle\n",
    "import re\n",
    "import time\n",
    "from tqdm import tqdm\n",
    "from bs4 import BeautifulSoup\n",
    "from selenium.webdriver.common.by import By\n",
    "from selenium.webdriver.support.ui import WebDriverWait\n",
    "from selenium.webdriver.support import expected_conditions as EC\n",
    "\n",
    "class MoviesScraper(BaseScraper):\n",
    "    def __init__(self, clicks=200, batch_size=3, save_file='movies_data.json'):\n",
    "        super().__init__()\n",
    "        self.clicks = clicks\n",
    "        self.batch_size = batch_size\n",
    "        self.save_file = save_file\n",
    "        # self.cookie_file = cookie_file  # File for saving cookies\n",
    "        self.movie_data = []\n",
    "        \n",
    "        # self.load_cookies()  # Load cookies on startup\n",
    "\n",
    "    # # Method to restart the driver\n",
    "    # def restart_driver(self):\n",
    "    #     self.close_driver()\n",
    "    #     self.driver = self.init_driver()  # Reinitialize the driver\n",
    "    #     self.load_cookies()  # Load cookies\n",
    "\n",
    "    # def load_cookies(self):\n",
    "    #     try:\n",
    "    #         # Điều hướng đến đúng URL trước khi nạp cookies\n",
    "    #         url = 'https://www.imdb.com/search/title/?title_type=feature'\n",
    "    #         self.driver.get(url)\n",
    "\n",
    "    #         with open(self.cookie_file, 'rb') as file:\n",
    "    #             cookies = pickle.load(file)\n",
    "    #             for cookie in cookies:\n",
    "    #                 # Chỉ nạp cookies có domain khớp với tên miền của trang hiện tại\n",
    "    #                 if 'domain' in cookie and cookie['domain'] in url:\n",
    "    #                     self.driver.add_cookie(cookie)\n",
    "    #                 else:\n",
    "    #                     print(f\"Skipping cookie with domain {cookie.get('domain')}\")\n",
    "    #         print(f\"Cookies loaded from {self.cookie_file}\")\n",
    "    #     except FileNotFoundError:\n",
    "    #         print(\"No cookies file found, starting fresh.\")\n",
    "    #     except Exception as e:\n",
    "    #         print(f\"Error loading cookies: {e}\")\n",
    "\n",
    "\n",
    "    # # Load cookies\n",
    "    # def load_cookies(self):\n",
    "    #     try:\n",
    "    #         with open(self.cookie_file, 'rb') as file:\n",
    "    #             cookies = pickle.load(file)\n",
    "    #             for cookie in cookies:\n",
    "    #                 self.driver.add_cookie(cookie)\n",
    "    #         print(f\"Cookies loaded from {self.cookie_file}\")\n",
    "    #     except FileNotFoundError:\n",
    "    #         print(\"No cookies file found, starting fresh.\")\n",
    "\n",
    "    def fetch_movies(self):\n",
    "        url = 'https://www.imdb.com/search/title/?title_type=feature'\n",
    "        self.driver.get(url)\n",
    "\n",
    "        total_batches = self.clicks // self.batch_size  # Calculate total batches\n",
    "        remaining_clicks = self.clicks % self.batch_size  # Remaining clicks after batches\n",
    "\n",
    "        # Process in batches\n",
    "        for batch in range(total_batches):\n",
    "            print(f\"Processing batch {batch + 1}/{total_batches}...\")\n",
    "            self._process_batch(self.batch_size)\n",
    "            self.save_partial_data(batch + 1)  # Save data after each batch\n",
    "            # self.save_cookies()  # Save cookies after each batch\n",
    "\n",
    "        # Process any remaining clicks\n",
    "        if remaining_clicks > 0:\n",
    "            print(f\"Processing remaining {remaining_clicks} clicks...\")\n",
    "            self._process_batch(remaining_clicks)\n",
    "            self.save_partial_data(total_batches + 1)  # Save data after remaining clicks\n",
    "            # self.save_cookies()\n",
    "\n",
    "        self.close_driver()\n",
    "\n",
    "    # def _process_batch(self, num_clicks):\n",
    "    #     \"\"\"Process a batch with num_clicks of \"see more\" clicks.\"\"\"\n",
    "    #     with tqdm(total=num_clicks, desc='Loading movies') as pbar:\n",
    "    #         for _ in range(num_clicks):\n",
    "    #             soup = self.click_see_more_button()\n",
    "    #             pbar.update(1)\n",
    "\n",
    "    #     wait_time = self._calculate_wait_time(num_clicks)\n",
    "    #     time.sleep(wait_time)\n",
    "\n",
    "    #     # After each batch, extract movie data\n",
    "    #     html = self.driver.page_source\n",
    "    #     soup = BeautifulSoup(html, 'html.parser')\n",
    "    #     movies = soup.select('div.sc-59c7dc1-2')\n",
    "    #     self.extract_movie_data(movies)\n",
    "\n",
    "    def _process_batch(self, num_clicks):\n",
    "        \"\"\"Process a batch with num_clicks of 'see more' clicks.\"\"\"\n",
    "        initial_html = self.driver.page_source\n",
    "        initial_soup = BeautifulSoup(initial_html, 'html.parser')\n",
    "        initial_movies = initial_soup.select('div.sc-59c7dc1-2')  # Saving first element\n",
    "\n",
    "        with tqdm(total=num_clicks, desc='Loading movies') as pbar:\n",
    "            for _ in range(num_clicks):\n",
    "                soup = self.click_see_more_button()\n",
    "                pbar.update(1)\n",
    "\n",
    "        wait_time = self._calculate_wait_time(num_clicks)\n",
    "        time.sleep(wait_time)\n",
    "\n",
    "        # After pressing the 'see more' button \n",
    "        final_html = self.driver.page_source\n",
    "        final_soup = BeautifulSoup(final_html, 'html.parser')\n",
    "        final_movies = final_soup.select('div.sc-59c7dc1-2')\n",
    "\n",
    "        # After each batch, extract movie data (just extract new data)\n",
    "        new_movies = final_movies[len(initial_movies):]\n",
    "        self.extract_movie_data(new_movies)\n",
    "\n",
    "\n",
    "    def click_see_more_button(self):\n",
    "        try:\n",
    "            initial_elements = self.driver.find_elements(By.CLASS_NAME, 'ipc-title')\n",
    "            initial_count = len(initial_elements)\n",
    "\n",
    "            see_more_button = WebDriverWait(self.driver, 10).until(\n",
    "                EC.element_to_be_clickable((By.XPATH, \"//span[contains(text(), '50 more')]\"))\n",
    "            )\n",
    "            self.driver.execute_script(\"arguments[0].scrollIntoView(); arguments[0].click();\", see_more_button)\n",
    "\n",
    "            for _ in range(5):\n",
    "                current_elements = self.driver.find_elements(By.CLASS_NAME, 'ipc-title')\n",
    "                current_count = len(current_elements)\n",
    "\n",
    "                if current_count > initial_count:\n",
    "                    break\n",
    "                time.sleep(1)\n",
    "\n",
    "            return BeautifulSoup(self.driver.page_source, 'html.parser')\n",
    "\n",
    "        except Exception as e:\n",
    "            print(f\"Error occurred: {e}\")\n",
    "            return None\n",
    "\n",
    "    def save_partial_data(self, batch_num):\n",
    "        \"\"\"Save temporary data after each batch.\"\"\"\n",
    "        temp_file_name = f\"movies_data_batch_{batch_num}.json\"\n",
    "        with open(temp_file_name, 'w', encoding='utf-8') as file:\n",
    "            json.dump(self.movie_data, file, ensure_ascii=False, indent=4)\n",
    "        print(f\"Data for batch {batch_num} saved to {temp_file_name}\")\n",
    "\n",
    "    def extract_movie_data(self, movies):\n",
    "        existing_movie_ids = {movie['Movie ID'] for movie in self.movie_data}  # Set of existing movie IDs\n",
    "\n",
    "        for movie in movies:\n",
    "            title_tag = movie.select_one('h3.ipc-title__text')\n",
    "            link_tag = movie.select_one('a.ipc-title-link-wrapper')\n",
    "\n",
    "            title = title_tag.text.strip() if title_tag else 'N/A'\n",
    "            link = link_tag['href'] if link_tag else None\n",
    "\n",
    "            if link_tag:\n",
    "                movie_id = link.split('/title/')[1].split('/')[0]\n",
    "            else:\n",
    "                movie_id = 'N/A'\n",
    "\n",
    "            title = re.sub(r'^\\d+\\.\\s*', '', title)\n",
    "\n",
    "            if movie_id not in existing_movie_ids:  # Only add if movie_id is not already in the list\n",
    "                self.movie_data.append({\n",
    "                    'Movie ID': movie_id,\n",
    "                    'Title': title,\n",
    "                })\n",
    "\n",
    "    def _calculate_wait_time(self, clicks):\n",
    "        base_wait_time = 5\n",
    "        growth_factor = 1.2\n",
    "        additional_wait_time = base_wait_time * (growth_factor ** (clicks // 10))\n",
    "        return base_wait_time + additional_wait_time\n"
   ]
  },
  {
   "cell_type": "code",
   "execution_count": null,
   "metadata": {},
   "outputs": [],
   "source": [
    "import json\n",
    "import re\n",
    "import time\n",
    "from tqdm import tqdm\n",
    "from bs4 import BeautifulSoup\n",
    "from selenium.webdriver.common.by import By\n",
    "from selenium.webdriver.support.ui import WebDriverWait\n",
    "from selenium.webdriver.support import expected_conditions as EC\n",
    "\n",
    "class MoviesScraper(BaseScraper):\n",
    "    def __init__(self, clicks=200, batch_size=2, save_file='movies_data.json'):\n",
    "        super().__init__()\n",
    "        self.clicks = clicks\n",
    "        self.batch_size = batch_size\n",
    "        self.save_file = save_file\n",
    "        self.movie_data = []\n",
    "\n",
    "    # Method to restart the driver\n",
    "    def restart_driver(self):\n",
    "        self.close_driver()\n",
    "        self.driver = self.init_driver()  # Reinitialize the driver\n",
    "\n",
    "    def fetch_movies(self):\n",
    "        url = 'https://www.imdb.com/search/title/?title_type=feature'\n",
    "        self.driver.get(url)\n",
    "\n",
    "        total_batches = self.clicks // self.batch_size  # Calculate total batches\n",
    "        remaining_clicks = self.clicks % self.batch_size  # Remaining clicks after batches\n",
    "\n",
    "        # Process in batches\n",
    "        for batch in range(total_batches):\n",
    "            print(f\"Processing batch {batch + 1}/{total_batches}...\")\n",
    "            self._process_batch(self.batch_size)\n",
    "            self.save_partial_data(batch + 1)  # Save data after each batch\n",
    "\n",
    "        # Process any remaining clicks\n",
    "        if remaining_clicks > 0:\n",
    "            print(f\"Processing remaining {remaining_clicks} clicks...\")\n",
    "            self._process_batch(remaining_clicks)\n",
    "            self.save_partial_data(total_batches + 1)  # Save data after remaining clicks\n",
    "\n",
    "        self.close_driver()\n",
    "\n",
    "    def _process_batch(self, num_clicks):\n",
    "        \"\"\"Process a batch with num_clicks of 'see more' clicks.\"\"\"\n",
    "        initial_html = self.driver.page_source\n",
    "        initial_soup = BeautifulSoup(initial_html, 'html.parser')\n",
    "        initial_movies = initial_soup.select('div.sc-59c7dc1-2')  # Saving first element\n",
    "\n",
    "        with tqdm(total=num_clicks, desc='Loading movies') as pbar:\n",
    "            for _ in range(num_clicks):\n",
    "                soup = self.click_see_more_button()\n",
    "                pbar.update(1)\n",
    "\n",
    "        wait_time = self._calculate_wait_time(num_clicks)\n",
    "        time.sleep(wait_time)\n",
    "\n",
    "        # After pressing the 'see more' button\n",
    "        final_html = self.driver.page_source\n",
    "        final_soup = BeautifulSoup(final_html, 'html.parser')\n",
    "        final_movies = final_soup.select('div.sc-59c7dc1-2')\n",
    "\n",
    "        # After each batch, extract movie data (just extract new data)\n",
    "        new_movies = final_movies[len(initial_movies):]\n",
    "        self.extract_movie_data(new_movies)\n",
    "\n",
    "    def click_see_more_button(self):\n",
    "        try:\n",
    "            initial_elements = self.driver.find_elements(By.CLASS_NAME, 'ipc-title')\n",
    "            initial_count = len(initial_elements)\n",
    "\n",
    "            see_more_button = WebDriverWait(self.driver, 10).until(\n",
    "                EC.element_to_be_clickable((By.XPATH, \"//span[contains(text(), '50 more')]\"))\n",
    "            )\n",
    "            self.driver.execute_script(\"arguments[0].scrollIntoView(); arguments[0].click();\", see_more_button)\n",
    "\n",
    "            for _ in range(5):\n",
    "                current_elements = self.driver.find_elements(By.CLASS_NAME, 'ipc-title')\n",
    "                current_count = len(current_elements)\n",
    "\n",
    "                if current_count > initial_count:\n",
    "                    break\n",
    "                time.sleep(1)\n",
    "\n",
    "            return BeautifulSoup(self.driver.page_source, 'html.parser')\n",
    "\n",
    "        except Exception as e:\n",
    "            print(f\"Error occurred: {e}\")\n",
    "            return None\n",
    "\n",
    "    def save_partial_data(self, batch_num):\n",
    "        \"\"\"Save temporary data after each batch.\"\"\"\n",
    "        temp_file_name = f\"movies_data_batch_{batch_num}.json\"\n",
    "        with open(temp_file_name, 'w', encoding='utf-8') as file:\n",
    "            json.dump(self.movie_data, file, ensure_ascii=False, indent=4)\n",
    "        print(f\"Data for batch {batch_num} saved to {temp_file_name}\")\n",
    "\n",
    "    def extract_movie_data(self, movies):\n",
    "        existing_movie_ids = {movie['Movie ID'] for movie in self.movie_data}  # Set of existing movie IDs\n",
    "\n",
    "        for movie in movies:\n",
    "            title_tag = movie.select_one('h3.ipc-title__text')\n",
    "            link_tag = movie.select_one('a.ipc-title-link-wrapper')\n",
    "\n",
    "            title = title_tag.text.strip() if title_tag else 'N/A'\n",
    "            link = link_tag['href'] if link_tag else None\n",
    "\n",
    "            if link_tag:\n",
    "                movie_id = link.split('/title/')[1].split('/')[0]\n",
    "            else:\n",
    "                movie_id = 'N/A'\n",
    "\n",
    "            title = re.sub(r'^\\d+\\.\\s*', '', title)\n",
    "\n",
    "            if movie_id not in existing_movie_ids:  # Only add if movie_id is not already in the list\n",
    "                self.movie_data.append({\n",
    "                    'Movie ID': movie_id,\n",
    "                    'Title': title,\n",
    "                })\n",
    "\n",
    "    def _calculate_wait_time(self, clicks):\n",
    "        base_wait_time = 5\n",
    "        growth_factor = 1.2\n",
    "        additional_wait_time = base_wait_time * (growth_factor ** (clicks // 10))\n",
    "        return base_wait_time + additional_wait_time\n"
   ]
  },
  {
   "cell_type": "markdown",
   "metadata": {},
   "source": [
    "### Test"
   ]
  },
  {
   "cell_type": "code",
   "execution_count": 25,
   "metadata": {},
   "outputs": [
    {
     "name": "stdout",
     "output_type": "stream",
     "text": [
      "Processing batch 1/3...\n"
     ]
    },
    {
     "name": "stderr",
     "output_type": "stream",
     "text": [
      "Loading movies: 100%|██████████| 3/3 [00:05<00:00,  1.81s/it]\n"
     ]
    },
    {
     "name": "stdout",
     "output_type": "stream",
     "text": [
      "Data for batch 1 saved to movies_data_batch_1.json\n",
      "Processing batch 2/3...\n"
     ]
    },
    {
     "name": "stderr",
     "output_type": "stream",
     "text": [
      "Loading movies: 100%|██████████| 3/3 [00:05<00:00,  1.74s/it]\n"
     ]
    },
    {
     "name": "stdout",
     "output_type": "stream",
     "text": [
      "Data for batch 2 saved to movies_data_batch_2.json\n",
      "Processing batch 3/3...\n"
     ]
    },
    {
     "name": "stderr",
     "output_type": "stream",
     "text": [
      "Loading movies: 100%|██████████| 3/3 [00:05<00:00,  1.93s/it]\n"
     ]
    },
    {
     "name": "stdout",
     "output_type": "stream",
     "text": [
      "Data for batch 3 saved to movies_data_batch_3.json\n",
      "Processing remaining 1 clicks...\n"
     ]
    },
    {
     "name": "stderr",
     "output_type": "stream",
     "text": [
      "Loading movies: 100%|██████████| 1/1 [00:02<00:00,  2.56s/it]\n"
     ]
    },
    {
     "name": "stdout",
     "output_type": "stream",
     "text": [
      "Data for batch 4 saved to movies_data_batch_4.json\n"
     ]
    }
   ],
   "source": [
    "scraper = MoviesScraper(clicks=10)\n",
    "scraper.fetch_movies()"
   ]
  },
  {
   "cell_type": "code",
   "execution_count": 4,
   "metadata": {},
   "outputs": [],
   "source": [
    "import os\n",
    "import json\n",
    "\n",
    "def check_size(file_name):\n",
    "    # Đọc file JSON\n",
    "    with open(os.path.join(os.getcwd(), file_name), 'r', encoding='utf-8') as file:\n",
    "        data = json.load(file)\n",
    "\n",
    "    # Kiểm tra kiểu dữ liệu và kích thước\n",
    "    if isinstance(data, list):\n",
    "        print(f\"Số lượng phần tử trong danh sách: {len(data)}\")\n",
    "\n",
    "        # Nếu phần tử là từ điển, kiểm tra thêm về trùng lặp và dữ liệu thiếu\n",
    "        if data:\n",
    "            first_element = data[0]\n",
    "            print(f\"Kích thước của phần tử đầu tiên: {len(first_element)} thuộc tính\")\n",
    "\n",
    "            # Kiểm tra trùng lặp (theo Movie ID)\n",
    "            movie_ids = [item.get('Movie ID') for item in data if 'Movie ID' in item]\n",
    "            duplicates = {movie_id for movie_id in movie_ids if movie_ids.count(movie_id) > 1}\n",
    "            if duplicates:\n",
    "                print(f\"Các Movie ID trùng lặp: {duplicates}\")\n",
    "            else:\n",
    "                print(\"Không có Movie ID trùng lặp.\")\n",
    "\n",
    "            # Kiểm tra dữ liệu thiếu\n",
    "            missing_values = []\n",
    "            for index, movie in enumerate(data):\n",
    "                for key, value in movie.items():\n",
    "                    if value in [None, '', 'N/A']:\n",
    "                        missing_values.append((index, key))\n",
    "            \n",
    "            if missing_values:\n",
    "                print(f\"Các giá trị thiếu (index, key): {missing_values}\")\n",
    "            else:\n",
    "                print(\"Không có giá trị thiếu.\")\n",
    "\n",
    "    elif isinstance(data, dict):\n",
    "        print(f\"Số lượng thuộc tính trong từ điển: {len(data)}\")\n",
    "    else:\n",
    "        print(\"Dữ liệu không phải là danh sách hoặc từ điển.\")\n",
    "\n"
   ]
  },
  {
   "cell_type": "code",
   "execution_count": 7,
   "metadata": {},
   "outputs": [
    {
     "name": "stdout",
     "output_type": "stream",
     "text": [
      "Số lượng phần tử trong danh sách: 7600\n",
      "Kích thước của phần tử đầu tiên: 2 thuộc tính\n",
      "Các Movie ID trùng lặp: {'tt33481094', 'tt2250912', 'tt1436562', 'tt0485947', 'tt0057115', 'tt0309593', 'tt1979376', 'tt2555736', 'tt2494362', 'tt2058673', 'tt10720352', 'tt3289956', 'tt0780521', 'tt1025100', 'tt0107889', 'tt0120804', 'tt22408160', 'tt9484998', 'tt0172495', 'tt2056771', 'tt12349832', 'tt31556612', 'tt14253846', 'tt0149261', 'tt14138650', 'tt13457790', 'tt0903624', 'tt0097493', 'tt0120611', 'tt5112584', 'tt3521126', 'tt23218054', 'tt0265208', 'tt1179933', 'tt1538403', 'tt0111282', 'tt27665778', 'tt0095925', 'tt0119698', 'tt0066549', 'tt0098354', 'tt0458339', 'tt0119177', 'tt0097162', 'tt0088846', 'tt2771200', 'tt1524930', 'tt6566576', 'tt0078902', 'tt10288566', 'tt0120812', 'tt7983904', 'tt1285016', 'tt0322330', 'tt12930350', 'tt0076786', 'tt8695030', 'tt0092675', 'tt4364194', 'tt4332232', 'tt0111503', 'tt0316356', 'tt2679042', 'tt0054331', 'tt5478478', 'tt5022702', 'tt0077289', 'tt0359013', 'tt0183790', 'tt0056058', 'tt0116483', 'tt2752200', 'tt10236164', 'tt0120784', 'tt26659814', 'tt0905372', 'tt0091064', 'tt2180339', 'tt0405325', 'tt0376541', 'tt0449467', 'tt4555426', 'tt0486822', 'tt1591095', 'tt10655524', 'tt0052357', 'tt1046173', 'tt14230388', 'tt15364972', 'tt2140479', 'tt0200550', 'tt0068646', 'tt0120382', 'tt3915174', 'tt4425200', 'tt0274558', 'tt4731136', 'tt21905744', 'tt0093773', 'tt1431045', 'tt0100157', 'tt2109248', 'tt0320691', 'tt1502407', 'tt13957560', 'tt4116284', 'tt30321146', 'tt0093058', 'tt0096446', 'tt7991508', 'tt0086465', 'tt0097474', 'tt0105793', 'tt1611224', 'tt14407336', 'tt6043142', 'tt4633694', 'tt2321549', 'tt27510174', 'tt11301886', 'tt3949660', 'tt8461224', 'tt1170358', 'tt0097815', 'tt27007466', 'tt0432348', 'tt13872248', 'tt1013743', 'tt21284218', 'tt0295700', 'tt5442430', 'tt33034103', 'tt33296382', 'tt3469046', 'tt20215968', 'tt26584495', 'tt0114508', 'tt0114898', 'tt30057084', 'tt0065207', 'tt0120667', 'tt33030375', 'tt0062622', 'tt1288558', 'tt29768335', 'tt0361862', 'tt0106977', 'tt0117060', 'tt18412256', 'tt0051459', 'tt1623205', 'tt0099487', 'tt0200192', 'tt0074486', 'tt2126355', 'tt25785230', 'tt0110005', 'tt23468450', 'tt22048412', 'tt0758752', 'tt0862856', 'tt1756851', 'tt11762114', 'tt31193791', 'tt0112384', 'tt0060196', 'tt1630029', 'tt4873118', 'tt0103639', 'tt12801262', 'tt14056466', 'tt2245084', 'tt3778644', 'tt3794354', 'tt0113540', 'tt2179136', 'tt0119528', 'tt1706620', 'tt0356150', 'tt22687790', 'tt0335559', 'tt0159097', 'tt0253474', 'tt10370710', 'tt0115988', 'tt0093010', 'tt0050083', 'tt22889928', 'tt5012320', 'tt0143145', 'tt4959750', 'tt0101540', 'tt0093870', 'tt0480249', 'tt1355644', 'tt0209144', 'tt13287846', 'tt21291992', 'tt1840309', 'tt0114709', 'tt2404435', 'tt0110632', 'tt15801882', 'tt0104014', 'tt0221027', 'tt0230011', 'tt3864060', 'tt2582846', 'tt13397574', 'tt21830902', 'tt14364480', 'tt0327597', 'tt1655389', 'tt2584384', 'tt26754354', 'tt10272386', 'tt15398776', 'tt0099088', 'tt0113497', 'tt0368226', 'tt12747748', 'tt1833116', 'tt0089489', 'tt32086077', 'tt1666186', 'tt1939659', 'tt0451279', 'tt0092644', 'tt4281724', 'tt26470109', 'tt0399295', 'tt28249919', 'tt15255876', 'tt0185937', 'tt9243804', 'tt0317919', 'tt0265086', 'tt7984734', 'tt0063350', 'tt19770238', 'tt0071464', 'tt0106469', 'tt5755238', 'tt0181865', 'tt0317705', 'tt11245972', 'tt20215234', 'tt11068094', 'tt4996328', 'tt0041959', 'tt0147800', 'tt1289401', 'tt0346491', 'tt15939198', 'tt0146336', 'tt9185206', 'tt6334354', 'tt0091419', 'tt0099653', 'tt0097576', 'tt1119646', 'tt0082340', 'tt1001508', 'tt0088247', 'tt0113568', 'tt8367814', 'tt0822854', 'tt3165612', 'tt5179598', 'tt1896747', 'tt26047818', 'tt0024188', 'tt2283362', 'tt0338526', 'tt0090756', 'tt0113253', 'tt14539318', 'tt0077416', 'tt28631109', 'tt0993846', 'tt2316204', 'tt0378194', 'tt2016303', 'tt0448011', 'tt1392214', 'tt3659388', 'tt1464335', 'tt4589218', 'tt0120586', 'tt0884328', 'tt11866324', 'tt4016934', 'tt12598606', 'tt0107007', 'tt0113627', 'tt14513804', 'tt0120877', 'tt8964540', 'tt6898324', 'tt0162222', 'tt5950044', 'tt0103873', 'tt0118884', 'tt20221436', 'tt0118688', 'tt23149780', 'tt3501632', 'tt12299608', 'tt10954600', 'tt30851137', 'tt0092005', 'tt0311429', 'tt21192142', 'tt2488496', 'tt23558280', 'tt8542964', 'tt1340800', 'tt3110958', 'tt0119345', 'tt1659337', 'tt2381111', 'tt13964390', 'tt0078935', 'tt13638858', 'tt3748528', 'tt0117913', 'tt8368406', 'tt2119543', 'tt17009348', 'tt3811906', 'tt0083767', 'tt1121948', 'tt10872600', 'tt2103281', 'tt0110366', 'tt0113118', 'tt2382320', 'tt0108399', 'tt0278504', 'tt28231777', 'tt1392190', 'tt1136608', 'tt1600196', 'tt6443346', 'tt11827628', 'tt27367464', 'tt0090605', 'tt4468740', 'tt0332452', 'tt5034838', 'tt0437954', 'tt0800369', 'tt1853728', 'tt0044121', 'tt1211956', 'tt17351924', 'tt0099797', 'tt0088847', 'tt1031241', 'tt1772341', 'tt0454945', 'tt9100018', 'tt0082186', 'tt0119654', 'tt0139654', 'tt6644200', 'tt0840361', 'tt21454134', 'tt0054215', 'tt2005151', 'tt2975590', 'tt0155776', 'tt0362227', 'tt2872732', 'tt0084787', 'tt0109830', 'tt3470600', 'tt0304141', 'tt0195714', 'tt1250777', 'tt0106471', 'tt0080453', 'tt0104389', 'tt0110357', 'tt3235888', 'tt0814255', 'tt0948470', 'tt1272878', 'tt0298203', 'tt2428170', 'tt1226229', 'tt0047478', 'tt0017136', 'tt26758372', 'tt1318514', 'tt22207786', 'tt7638348', 'tt1588173', 'tt1016150', 'tt0071315', 'tt0015881', 'tt0279778', 'tt6491178', 'tt0415306', 'tt0156887', 'tt0072431', 'tt0399146', 'tt0286106', 'tt18272208', 'tt0246460', 'tt2911666', 'tt1212450', 'tt1172570', 'tt1135985', 'tt0117894', 'tt0112950', 'tt0029583', 'tt0099052', 'tt22246056', 'tt0368447', 'tt1663202', 'tt1190080', 'tt1345836', 'tt8364368', 'tt32627540', 'tt21942866', 'tt0088323', 'tt0978764', 'tt0087469', 'tt8359848', 'tt0838283', 'tt6911608', 'tt5727208', 'tt27491225', 'tt4126476', 'tt0387564', 'tt0087538', 'tt1213641', 'tt1255953', 'tt1587310', 'tt0389722', 'tt3359350', 'tt0187738', 'tt0113277', 'tt14858658', 'tt0119174', 'tt1690953', 'tt0397101', 'tt0258000', 'tt1267297', 'tt0988045', 'tt0104694', 'tt1399103', 'tt0093629', 'tt3521164', 'tt1355683', 'tt1798684', 'tt1467304', 'tt1024648', 'tt0382625', 'tt5761544', 'tt15744298', 'tt1259528', 'tt0210945', 'tt21626284', 'tt0096163', 'tt12584954', 'tt5040012', 'tt1748179', 'tt24249072', 'tt12497296', 'tt1700841', 'tt8946378', 'tt1677720', 'tt0910970', 'tt0115685', 'tt0119282', 'tt26658104', 'tt23736044', 'tt7766378', 'tt26787296', 'tt4123432', 'tt32526187', 'tt0104070', 'tt0315327', 'tt5164214', 'tt0092086', 'tt0056193', 'tt0120746', 'tt0119567', 'tt0230600', 'tt0105121', 'tt0067992', 'tt13274016', 'tt0076085', 'tt13640696', 'tt0298148', 'tt1109624', 'tt0118615', 'tt0209163', 'tt8550054', 'tt17526714', 'tt0829482', 'tt0119488', 'tt0120669', 'tt0289765', 'tt2404233', 'tt11655566', 'tt20256528', 'tt0119313', 'tt0369339', 'tt0213847', 'tt0104868', 'tt0324216', 'tt0976051', 'tt27419292', 'tt13345606', 'tt0077402', 'tt5433138', 'tt0089470', 'tt0829150', 'tt1013752', 'tt21692408', 'tt1091191', 'tt0227538', 'tt30841606', 'tt26451068', 'tt4276820', 'tt28150132', 'tt15325794', 'tt21830836', 'tt14867006', 'tt30467885', 'tt0103919', 'tt0021884', 'tt19838620', 'tt6189022', 'tt0144120', 'tt1723811', 'tt0454876', 'tt28024423', 'tt0045152', 'tt0285742', 'tt0138097', 'tt0116996', 'tt1365519', 'tt10648342', 'tt28479262', 'tt0800320', 'tt9620292', 'tt20420628', 'tt0111161', 'tt26757462', 'tt0087843', 'tt0091083', 'tt0159365', 'tt0198781', 'tt0311113', 'tt3387520', 'tt0043014', 'tt21064584', 'tt0082971', 'tt4532826', 'tt0057012', 'tt0057076', 'tt1343727', 'tt0372784', 'tt0117008', 'tt5774060', 'tt0084445', 'tt7547410', 'tt1010271', 'tt27218960', 'tt0217505', 'tt1253864', 'tt24871974', 'tt2562232', 'tt0259324', 'tt1259571', 'tt1790809', 'tt5533370', 'tt2737304', 'tt1045658', 'tt14369780', 'tt15181360', 'tt0077413', 'tt0499549', 'tt2854926', 'tt7557108', 'tt0347149', 'tt3605418', 'tt0076666', 'tt0013442', 'tt0464141', 'tt0180093', 'tt0083564', 'tt0075005', 'tt1596345', 'tt8115900', 'tt0108052', 'tt1074638', 'tt4094724', 'tt0195685', 'tt1433775', 'tt0093177', 'tt2345759', 'tt0790724', 'tt0068473', 'tt0118694', 'tt26736843', 'tt11813216', 'tt0440963', 'tt5697572', 'tt0115963', 'tt1305806', 'tt19705884', 'tt0098084', 'tt28142896', 'tt0080120', 'tt0120794', 'tt1502712', 'tt15791034', 'tt14857528', 'tt0094737', 'tt22004344', 'tt6587046', 'tt0780653', 'tt1320253', 'tt15245268', 'tt0092890', 'tt5362988', 'tt1714206', 'tt0212720', 'tt1197624', 'tt1232829', 'tt6628394', 'tt4154664', 'tt1037705', 'tt22939186', 'tt1028532', 'tt1334260', 'tt1723808', 'tt1723121', 'tt6166392', 'tt14948432', 'tt24169886', 'tt0100814', 'tt1291584', 'tt20112746', 'tt1220198', 'tt0887883', 'tt0244870', 'tt15474916', 'tt12873562', 'tt0945513', 'tt8847712', 'tt0091867', 'tt0077651', 'tt1060277', 'tt16301164', 'tt3393786', 'tt0133240', 'tt2404425', 'tt0071230', 'tt8633478', 'tt3447590', 'tt9639470', 'tt2567026', 'tt0120855', 'tt4062536', 'tt11024272', 'tt11291274', 'tt27403986', 'tt15574270', 'tt0087884', 'tt0053291', 'tt0421715', 'tt9071322', 'tt0116654', 'tt0081633', 'tt0145487', 'tt0133152', 'tt1485796', 'tt16311594', 'tt2948356', 'tt14998742', 'tt0254686', 'tt0117500', 'tt1262426', 'tt1020530', 'tt1454029', 'tt5918982', 'tt1560220', 'tt0434409', 'tt0100802', 'tt6467266', 'tt0033467', 'tt1396484', 'tt22041854', 'tt14371878', 'tt30274401', 'tt6495056', 'tt0848228', 'tt0146316', 'tt0096283', 'tt0089218', 'tt9848626', 'tt0056869', 'tt1959563', 'tt0094332', 'tt9347730', 'tt1446714', 'tt0045205', 'tt0099871', 'tt27714946', 'tt0082010', 'tt0320661', 'tt24515124', 'tt0317740', 'tt0377092', 'tt0109040', 'tt27510257', 'tt27196021', 'tt0177789', 'tt0133093', 'tt0947798', 'tt0450259', 'tt0120686', 'tt0083907', 'tt15000156', 'tt6263850', 'tt0061809', 'tt13751694', 'tt6857376', 'tt5726616', 'tt6823368', 'tt0169547', 'tt2397535', 'tt2147319', 'tt0118880', 'tt7737640', 'tt6394270', 'tt1270798', 'tt0089907', 'tt0375063', 'tt0449059', 'tt7599146', 'tt4267026', 'tt0072890', 'tt0287978', 'tt0765010', 'tt0080491', 'tt20561198', 'tt0088939', 'tt4633690', 'tt1212428', 'tt0099810', 'tt0116695', 'tt0087332', 'tt7713068', 'tt7349950', 'tt7069210', 'tt21097192', 'tt0097814', 'tt0107977', 'tt9663896', 'tt7549996', 'tt10003008', 'tt1242432', 'tt11315808', 'tt0087277', 'tt0765443', 'tt0414982', 'tt11564570', 'tt0416320', 'tt4361050', 'tt14371860', 'tt1217209', 'tt11240348', 'tt12810074', 'tt0093565', 'tt7549892', 'tt0081398', 'tt7401588', 'tt1791528', 'tt1817273', 'tt29424284', 'tt21955520', 'tt0100404', 'tt0373883', 'tt0100405', 'tt0097742', 'tt11358390', 'tt0091225', 'tt0293508', 'tt0093779', 'tt0047396', 'tt1398426', 'tt21626774', 'tt1853739', 'tt0245674', 'tt3371366', 'tt8790086', 'tt6208148', 'tt0241527', 'tt1564367', 'tt0118715', 'tt2328900', 'tt4465564', 'tt6751668', 'tt7784604', 'tt6723592', 'tt1412386', 'tt0103064', 'tt1757678', 'tt27902121', 'tt1615147', 'tt0112641', 'tt0290334', 'tt11433906', 'tt0107653', 'tt9362722', 'tt0117381', 'tt21357150', 'tt9466114', 'tt4530422', 'tt4846232', 'tt2481498', 'tt0837562', 'tt0435761', 'tt15428940', 'tt3758542', 'tt1454468', 'tt11563598', 'tt0203009', 'tt1245526', 'tt0112642', 'tt21909764', 'tt15009428', 'tt0418279', 'tt0914798', 'tt1605783', 'tt0116209', 'tt8079248', 'tt0123948', 'tt19356262', 'tt2820852', 'tt6718170', 'tt0118799', 'tt2380307', 'tt1051904', 'tt0112471', 'tt0116367', 'tt29268110', 'tt0370263', 'tt0118617', 'tt2674426', 'tt0206634', 'tt0120863', 'tt0167261', 'tt5971474', 'tt0452623', 'tt0107943', 'tt0072271', 'tt0384806', 'tt1469304', 'tt0116282', 'tt0116287', 'tt0053779', 'tt1598778', 'tt0097216', 'tt1098327', 'tt1622979', 'tt0330099', 'tt0111070', 'tt3464902', 'tt7097896', 'tt17717416', 'tt0071115', 'tt0086006', 'tt0117802', 'tt0102138', 'tt0288477', 'tt28223926', 'tt4500922', 'tt4154756', 'tt26940324', 'tt1216520', 'tt13433802', 'tt0120647', 'tt32880932', 'tt3291150', 'tt0081534', 'tt1648190', 'tt0213149', 'tt13024674', 'tt0426592', 'tt20048582', 'tt0116922', 'tt13381376', 'tt0088944', 'tt14415204', 'tt2312718', 'tt12404266', 'tt1981128', 'tt0096256', 'tt1438176', 'tt0070917', 'tt24807110', 'tt6264654', 'tt0211915', 'tt4925292', 'tt4058618', 'tt9054192', 'tt7653254', 'tt1127180', 'tt5886046', 'tt0058461', 'tt0110598', 'tt13452446', 'tt14537248', 'tt0358082', 'tt12749596', 'tt10665342', 'tt1731141', 'tt0119558', 'tt4954522', 'tt0037101', 'tt1846589', 'tt8267604', 'tt8350360', 'tt0074812', 'tt24176060', 'tt0113189', 'tt18345190', 'tt1477834', 'tt1130884', 'tt0092513', 'tt11858890', 'tt0087363', 'tt8760708', 'tt15789472', 'tt10548174', 'tt2403021', 'tt0099785', 'tt26625693', 'tt0077631', 'tt0080761', 'tt0302640', 'tt1570728', 'tt0091251', 'tt33070481', 'tt0102926', 'tt7888964', 'tt0105236', 'tt10128846', 'tt10304142', 'tt23137904', 'tt1321510', 'tt8178634', 'tt6806448', 'tt10838180', 'tt1964418', 'tt9411972', 'tt1915581', 'tt8332922', 'tt8051894', 'tt0477347', 'tt7057496', 'tt0087050', 'tt1493274', 'tt0427327', 'tt0113409', 'tt11365186', 'tt1276104', 'tt19760052', 'tt0250797', 'tt0377084', 'tt0102057', 'tt5884796', 'tt21958136', 'tt1637725', 'tt1509767', 'tt20452454', 'tt6133466', 'tt0163978', 'tt0374900', 'tt1712261', 'tt0175142', 'tt0443272', 'tt21276958', 'tt0277371', 'tt0095705', 'tt2293640', 'tt0439572', 'tt7657566', 'tt0120783', 'tt0080678', 'tt11378946', 'tt15574124', 'tt2638144', 'tt21279806', 'tt0758730', 'tt6902332', 'tt0094625', 'tt1099212', 'tt0170016', 'tt0209958', 'tt3774694', 'tt0175880', 'tt0396171', 'tt0084695', 'tt1340138', 'tt0472043', 'tt2359024', 'tt30317033', 'tt2908446', 'tt4160708', 'tt0363163', 'tt1453405', 'tt0093437', 'tt0082495', 'tt0405159', 'tt1470827', 'tt0073650', 'tt4972582', 'tt33058713', 'tt2866360', 'tt0072684', 'tt0478970', 'tt6772950', 'tt0095742', 'tt19816664', 'tt0090728', 'tt12735488', 'tt1022603', 'tt0275847', 'tt0078875', 'tt0074285', 'tt0083944', 'tt4786282', 'tt0045917', 'tt1535108', 'tt10671440', 'tt19838634', 'tt0455590', 'tt1745960', 'tt5606664', 'tt2015381', 'tt14856980', 'tt1228705', 'tt22022452', 'tt11909878', 'tt0147612', 'tt6472976', 'tt0120755', 'tt0468569', 'tt19637052', 'tt0120201', 'tt0328538', 'tt27729779', 'tt9376612', 'tt2798920', 'tt0109831', 'tt0097757', 'tt10016180', 'tt22640398', 'tt1179056', 'tt0325980', 'tt2582802', 'tt0382932', 'tt20247888', 'tt21201300', 'tt0450278', 'tt0220506', 'tt4695012', 'tt3281548', 'tt1695843', 'tt7711170', 'tt4244994', 'tt0246578', 'tt7985704', 'tt10245072', 'tt11389872', 'tt1571234', 'tt0107131', 'tt0116778', 'tt0129167', 'tt0108550', 'tt13429870', 'tt0167260', 'tt0094006', 'tt10366460', 'tt0108071', 'tt0083929', 'tt0120694', 'tt1937390', 'tt0055928', 'tt0160127', 'tt6791350', 'tt0097351', 'tt0080339', 'tt0089503', 'tt13560574', 'tt0066026', 'tt31450182', 'tt1748122', 'tt1029234', 'tt4196776', 'tt1638002', 'tt0407304', 'tt0295297', 'tt0309987', 'tt5215952', 'tt0120903', 'tt0116365', 'tt0061619', 'tt2101441', 'tt0247638', 'tt0086216', 'tt4216984', 'tt6881490', 'tt0139134', 'tt2802144', 'tt0163651', 'tt0077681', 'tt1155076', 'tt0120591', 'tt10676048', 'tt13405778', 'tt0093624', 'tt0099348', 'tt4139588', 'tt5108870', 'tt1679335', 'tt3498820', 'tt4501268', 'tt0234215', 'tt14463484', 'tt0116313', 'tt1981115', 'tt0121164', 'tt7040874', 'tt0212985', 'tt14030816', 'tt0093560', 'tt0314331', 'tt0094226', 'tt1189340', 'tt11821912', 'tt0376994', 'tt1071873', 'tt0075265', 'tt0085995', 'tt0383574', 'tt1950186', 'tt17009710', 'tt0100944', 'tt0100140', 'tt8093700', 'tt1660648', 'tt27722375', 'tt2278388', 'tt6710474', 'tt2900624', 'tt29623480', 'tt0064115', 'tt0110322', 'tt0780536', 'tt2557490', 'tt3170832', 'tt4827558', 'tt1457767', 'tt12818328', 'tt20202136', 'tt4481414', 'tt0078748', 'tt4919268', 'tt1872181', 'tt0359950', 'tt0299658', 'tt0078346', 'tt5083738', 'tt14852624', 'tt0181852', 'tt0443453', 'tt0118971', 'tt2935622', 'tt4649466', 'tt1632708', 'tt0328107', 'tt0075860', 'tt1951264', 'tt1462764', 'tt1133985', 'tt20969586', 'tt0106220', 'tt11097384', 'tt0103644', 'tt11057302', 'tt0408236', 'tt1893273', 'tt4550098', 'tt7846844', 'tt0780504', 'tt0091474', 'tt1120985', 'tt0110912', 'tt0335266', 'tt0407887', 'tt0472033', 'tt2106476', 'tt0120681', 'tt0251127', 'tt12972134', 'tt1465522', 'tt13841850', 'tt1650062', 'tt0086541', 'tt0088763', 'tt22868010', 'tt2024544', 'tt0104952', 'tt0091203', 'tt0461770', 'tt21361444', 'tt0090329', 'tt0051554', 'tt0063442', 'tt0319343', 'tt15685360', 'tt12037194', 'tt8772262', 'tt0458525', 'tt14153080', 'tt4682266', 'tt3460252', 'tt0398808', 'tt0109707', 'tt0974015', 'tt2527336', 'tt0105695', 'tt0209077', 'tt0309698', 'tt2229499', 'tt0086066', 'tt0064840', 'tt0097737', 'tt7349662', 'tt0276919', 'tt21106646', 'tt11235772', 'tt2118648', 'tt2381941', 'tt5052474', 'tt0942385', 'tt2406566', 'tt0145660', 'tt21051906', 'tt11001074', 'tt0079944', 'tt6266538', 'tt9419884', 'tt2543472', 'tt0413300', 'tt0075148', 'tt0119167', 'tt7510222', 'tt0343818', 'tt5537002', 'tt0049223', 'tt0061722', 'tt6499752', 'tt1077258', 'tt4881806', 'tt0110148', 'tt15239678', 'tt12593682', 'tt27911000', 'tt1631867', 'tt0926084', 'tt27304026', 'tt10944760', 'tt0358273', 'tt32916440', 'tt0497465', 'tt1375670', 'tt0250494', 'tt8521778', 'tt0120744', 'tt0128853', 'tt3532216', 'tt0443706', 'tt0114388', 'tt5672290', 'tt0803096', 'tt1172049', 'tt1160419', 'tt1087461', 'tt0339291', 'tt0189998', 'tt0263488', 'tt0465494', 'tt0329101', 'tt13186482', 'tt1282140', 'tt0379786', 'tt1001520', 'tt1192628', 'tt0063522', 'tt2400463', 'tt0337563', 'tt0087800', 'tt19623240', 'tt1860357', 'tt0266697', 'tt5834426', 'tt0397065', 'tt0083866', 'tt0406816', 'tt1684562', 'tt6856242', 'tt0486655', 'tt0322259', 'tt0091209', 'tt0102685', 'tt8503618', 'tt7984766', 'tt9603212', 'tt1038686', 'tt3427252', 'tt1645170', 'tt1961175', 'tt0780622', 'tt0113247', 'tt5867314', 'tt10160976', 'tt10928904', 'tt2084970', 'tt15552142', 'tt0144084', 'tt0109506', 'tt0311289', 'tt27056012', 'tt24577462', 'tt31868189', 'tt1636826', 'tt13927994', 'tt8613070', 'tt26731216', 'tt0844708', 'tt27802490', 'tt5776858', 'tt11755740', 'tt5525650', 'tt0104257', 'tt0219699', 'tt0089393', 'tt0070047', 'tt13521006', 'tt3104988', 'tt0455407', 'tt0091763', 'tt0286716', 'tt1179904', 'tt22050754', 'tt26446278', 'tt0090060', 'tt9777666', 'tt1187043', 'tt0298206', 'tt14444726', 'tt0108037', 'tt0079501', 'tt1219289', 'tt0068699', 'tt5198890', 'tt30505698', 'tt0104691', 'tt0439815', 'tt11847410', 'tt9100054', 'tt1409004', 'tt0037635', 'tt0114011', 'tt0105665', 'tt19861162', 'tt0151804', 'tt0096734', 'tt0918940', 'tt21097228', 'tt0319061', 'tt0109813', 'tt1259521', 'tt2201221', 'tt0097428', 'tt1323594', 'tt5052448', 'tt3606752', 'tt0274812', 'tt0187393', 'tt30743549', 'tt0448134', 'tt1298650', 'tt1879016', 'tt10954652', 'tt16419074', 'tt0086336', 'tt0087928', 'tt0302886', 'tt1403865', 'tt6549510', 'tt0121766', 'tt0081283', 'tt4779682', 'tt13923084', 'tt0088402', 'tt1092026', 'tt6265828', 'tt0232500', 'tt1086772', 'tt27503384', 'tt0084827', 'tt1527186', 'tt2294629', 'tt0388795', 'tt4003440', 'tt0119081', 'tt0368891', 'tt0116629', 'tt5580390', 'tt0295178', 'tt1253863', 'tt10315050', 'tt6857112', 'tt8323668', 'tt0365748', 'tt1981677', 'tt6105098', 'tt0458352', 'tt4595186', 'tt1034415', 'tt0117765', 'tt3040964', 'tt7598076', 'tt0367594', 'tt0095953', 'tt32898016', 'tt0119237', 'tt0250687', 'tt3397884', 'tt0095271', 'tt0458481', 'tt12042730', 'tt0078788', 'tt0898367', 'tt17076046', 'tt8244784', 'tt0117571', 'tt9742794', 'tt3385516', 'tt3569230', 'tt0408306', 'tt0756683', 'tt1333125', 'tt1201607', 'tt1800241', 'tt2980592', 'tt27534307', 'tt9362930', 'tt27681354', 'tt15326988', 'tt0031381', 'tt0080661', 'tt1620981', 'tt0066518', 'tt2704998', 'tt0089173', 'tt0101921', 'tt23468836', 'tt27917467', 'tt0103893', 'tt0093894', 'tt6412452', 'tt1637688', 'tt0381849', 'tt5113044', 'tt31036941', 'tt30144839', 'tt0106582', 'tt0110475', 'tt7738330', 'tt11456054', 'tt5767628', 'tt0034890', 'tt5463162', 'tt0335345', 'tt0086984', 'tt1210166', 'tt0317219', 'tt0121765', 'tt1403144', 'tt0398286', 'tt0120338', 'tt1596363', 'tt0078767', 'tt5311514', 'tt29259074', 'tt12004038', 'tt0112697', 'tt0204946', 'tt1211837', 'tt14230458', 'tt0097257', 'tt22890246', 'tt1082807', 'tt0052618', 'tt7917178', 'tt1907668', 'tt8864596', 'tt0088930', 'tt21823606', 'tt12672620', 'tt10954984', 'tt21235248', 'tt7798634', 'tt10999120', 'tt33454687', 'tt11138512', 'tt0790636', 'tt4686844', 'tt11687002', 'tt0092099', 'tt0375912', 'tt13833688', 'tt0110413', 'tt0357413', 'tt2660888', 'tt0112442', 'tt5323662', 'tt7740496', 'tt0087078', 'tt1974419', 'tt9682428', 'tt0073629', 'tt3322940', 'tt1055369', 'tt5433140', 'tt33355888', 'tt2368619', 'tt0120791', 'tt5638642', 'tt9110170', 'tt2310332', 'tt0367027', 'tt5779228', 'tt22029194', 'tt1623288', 'tt0166924', 'tt0086190', 'tt0870984', 'tt0404203', 'tt4225622', 'tt15789038', 'tt2066051', 'tt0133751', 'tt27489557', 'tt0264464', 'tt1895587', 'tt1504320', 'tt1411238', 'tt3410834', 'tt0161081', 'tt1077368', 'tt0106308', 'tt0113243', 'tt2883512', 'tt0107290', 'tt1229238', 'tt0071877', 'tt2294449', 'tt0057129', 'tt7181546', 'tt0101545', 'tt7939766', 'tt0120762', 'tt3065204', 'tt15042300', 'tt0106677', 'tt0123964', 'tt9218128', 'tt0120623', 'tt0357277', 'tt1663662', 'tt0444653', 'tt2322441', 'tt0086879', 'tt1193138', 'tt8201852', 'tt2239822', 'tt0363547', 'tt12610390', 'tt22741760', 'tt0816711', 'tt0120616', 'tt12921446', 'tt22893404', 'tt13778486', 'tt0364725', 'tt0112462', 'tt0450385', 'tt6924650', 'tt0887261', 'tt0112851', 'tt0963178', 'tt1403981', 'tt0418832', 'tt0955308', 'tt1041829', 'tt1707386', 'tt0108358', 'tt4034228', 'tt0171363', 'tt27657135', 'tt5519506', 'tt6108178', 'tt5700672', 'tt0830558', 'tt25151410', 'tt0086567', 'tt0117665', 'tt1148204', 'tt6565702', 'tt15727262', 'tt10327252', 'tt2975578', 'tt2191701', 'tt0032138', 'tt0181689', 'tt0411477', 'tt0319262', 'tt7456310', 'tt1263750', 'tt0134084', 'tt1142977', 'tt2120120', 'tt8110232', 'tt2226417', 'tt0087803', 'tt21397580', 'tt4154796', 'tt0075784', 'tt1675434', 'tt31392609', 'tt0327785', 'tt1843866', 'tt0304415', 'tt0120663', 'tt0289043', 'tt3079380', 'tt0097958', 'tt0085794', 'tt0073486', 'tt12672536', 'tt0795421', 'tt0493405', 'tt1232200', 'tt3480822', 'tt0038650', 'tt0332280', 'tt0094862', 'tt0120601', 'tt9032400', 'tt6398184', 'tt0100403', 'tt0783233', 'tt0414387', 'tt11271038', 'tt0082348', 'tt0462590', 'tt1375666', 'tt14109724', 'tt0117998', 'tt2105044', 'tt4477536', 'tt0470752', 'tt10168670', 'tt0056592', 'tt3829266', 'tt0360486', 'tt0083658', 'tt8108202', 'tt0172493', 'tt0085542', 'tt27131358', 'tt1727824', 'tt5109784', 'tt29439114', 'tt0120484', 'tt0808279', 'tt20234774', 'tt0039464', 'tt7131622', 'tt27995594', 'tt0298130', 'tt0405094', 'tt5308322', 'tt0349683', 'tt9663764', 'tt0089686', 'tt0119094', 'tt22480126', 'tt0090021', 'tt0460791', 'tt0106856', 'tt7286456', 'tt2194499', 'tt6535880', 'tt0054698', 'tt28277817', 'tt0422720', 'tt13453006', 'tt2184339', 'tt3783958', 'tt1049413', 'tt1649419', 'tt2369135', 'tt2937696', 'tt6146586', 'tt10151854', 'tt0105417', 'tt1343092', 'tt0096754', 'tt21307994', 'tt1628841', 'tt0095088', 'tt3315342', 'tt14208870', 'tt3954936', 'tt8936646', 'tt23853982', 'tt2023587', 'tt0162661', 'tt13622970', 'tt0103772', 'tt23638614', 'tt0107048', 'tt16277242', 'tt8579674', 'tt0021814', 'tt3722070', 'tt2823054', 'tt7032958', 'tt12616480', 'tt0435625', 'tt0058331', 'tt13320622', 'tt0457430', 'tt6048922', 'tt12736014', 'tt9603208', 'tt4614584', 'tt8110652', 'tt11426232', 'tt8041270', 'tt2582782', 'tt0377309', 'tt26681810', 'tt2906216', 'tt0057883', 'tt0085636', 'tt21867434', 'tt0117887', 'tt16304446', 'tt1243974', 'tt0196229', 'tt28491891', 'tt0096895', 'tt4912910', 'tt0095327', 'tt1270797', 'tt0384537', 'tt0119822', 'tt22375054', 'tt4196566', 'tt5151570', 'tt0460740', 'tt0091042', 'tt1386588', 'tt0083908', 'tt1371150', 'tt1187064', 'tt2382009', 'tt1010048', 'tt0099674', 'tt0268978', 'tt0936501', 'tt0034583', 'tt1028528', 'tt1019452', 'tt0123755', 'tt1139797', 'tt0361620', 'tt11003218', 'tt30443437', 'tt0267913', 'tt21807222', 'tt0099938', 'tt30319503', 'tt0464154', 'tt1131734', 'tt0993840', 'tt4495098', 'tt0089469', 'tt6772802', 'tt0348333', 'tt0093419', 'tt0433035', 'tt0489270', 'tt14362112', 'tt0129387', 'tt0317248', 'tt1371111', 'tt0106226', 'tt0054047', 'tt0088153', 'tt0467406', 'tt13375076', 'tt0119643', 'tt0107614', 'tt0120646', 'tt0100054', 'tt1200263', 'tt0463985', 'tt1325004', 'tt1798709', 'tt0959337', 'tt0101272', 'tt13651794', 'tt15978956', 'tt1291150', 'tt0456554', 'tt0138749', 'tt22898462', 'tt0409459', 'tt3083016', 'tt0340855', 'tt0070849', 'tt0116669', 'tt12193804', 'tt0092076', 'tt1379182', 'tt0086200', 'tt0089908', 'tt22773644', 'tt6320628', 'tt0295427', 'tt18925334', 'tt14824600', 'tt0338013', 'tt0073195', 'tt7405458', 'tt0424136', 'tt0800039', 'tt0120082', 'tt33424408', 'tt2119532', 'tt0060176', 'tt18968540', 'tt0190590', 'tt3835080', 'tt0120889', 'tt32768323', 'tt28658276', 'tt0074937', 'tt30287778', 'tt0330793', 'tt0887912', 'tt2278871', 'tt0368933', 'tt0075161', 'tt9058654', 'tt1408101', 'tt2873282', 'tt21301418', 'tt0455760', 'tt0452694', 'tt1389137', 'tt1490017', 'tt5027774', 'tt0974661', 'tt1441395', 'tt2274648', 'tt1483013', 'tt0453467', 'tt0104431', 'tt3890160', 'tt0120737', 'tt0077975', 'tt0281358', 'tt8368368', 'tt0075314', 'tt1196141', 'tt1213663', 'tt20115766', 'tt0080455', 'tt14549466', 'tt27722575', 'tt7975244', 'tt26926267', 'tt1922777', 'tt0097165', 'tt15245240', 'tt13603966', 'tt11152168', 'tt0163025', 'tt19864802', 'tt0432283', 'tt12001534', 'tt0160862', 'tt0815236', 'tt23778968', 'tt0111301', 'tt18259086', 'tt2316411', 'tt0119217', 'tt1489887', 'tt18394190', 'tt8999762', 'tt0059742', 'tt0405422', 'tt26753003', 'tt27431598', 'tt0091369', 'tt0116908', 'tt0266543', 'tt1809398', 'tt17663992', 'tt10638522', 'tt0765429', 'tt4520988', 'tt0120890', 'tt3908142', 'tt3606756', 'tt9214772', 'tt0126029', 'tt1673434', 'tt15268244', 'tt27550022', 'tt28607951', 'tt9764362', 'tt7322224', 'tt0084516', 'tt10362466', 'tt23561236', 'tt7160372', 'tt23289160', 'tt0472399', 'tt1189073', 'tt0443680', 'tt3181822', 'tt0181875', 'tt1385826', 'tt18559464', 'tt0104254', 'tt14577874', 'tt0114369', 'tt14846026', 'tt1065073', 'tt12263384', 'tt8356942', 'tt0082933', 'tt0050976', 'tt2948372', 'tt20201748', 'tt0482606', 'tt3631112', 'tt1136617', 'tt0116905', 'tt0448115', 'tt14257582', 'tt21188080', 'tt2395427', 'tt3402236', 'tt0112508', 'tt16300962', 'tt1572315', 'tt6604188', 'tt4263482', 'tt0119978', 'tt0316654', 'tt0380510', 'tt0356910', 'tt5649144', 'tt13238346', 'tt0094761', 'tt0071562', 'tt31956415', 'tt1877830', 'tt8209702', 'tt0080855', 'tt27725206', 'tt0126916', 'tt0114436', 'tt0089560', 'tt0109686', 'tt0080749', 'tt1321511', 'tt12361974', 'tt0066921', 'tt0103074', 'tt0118655', 'tt14561712', 'tt0077369', 'tt0090305', 'tt0364569', 'tt0399201', 'tt0076162', 'tt0303361', 'tt11540468', 'tt1879030', 'tt10869956', 'tt7556122', 'tt0259711', 'tt3228774', 'tt0483607', 'tt1312221', 'tt7752126', 'tt0325710', 'tt0381061', 'tt0114814', 'tt0110367', 'tt1152836', 'tt30321095', 'tt0490215', 'tt8228288', 'tt0105323', 'tt0187078', 'tt0114746', 'tt10919380', 'tt1856101', 'tt1588170', 'tt0469494', 'tt4857264', 'tt0235198', 'tt28015403', 'tt12412888', 'tt3766354', 'tt0098554', 'tt0120347', 'tt0167404', 'tt0210070', 'tt0338094', 'tt3748172', 'tt0142688', 'tt0103874', 'tt0097883', 'tt19862722', 'tt1877832', 'tt1340094', 'tt28999532', 'tt0257106', 'tt7991608', 'tt12261776', 'tt0117509', 'tt0097100', 'tt5691670', 'tt6738136', 'tt14502344', 'tt1499658', 'tt14088510', 'tt0084522', 'tt2355495', 'tt1979320', 'tt1245492', 'tt13456318', 'tt0172156', 'tt3348730', 'tt2361509', 'tt1670345', 'tt11304740', 'tt12712604', 'tt0120917', 'tt0960144', 'tt0120888', 'tt7126948', 'tt0102798', 'tt0117951', 'tt1144884', 'tt6001846', 'tt0097523', 'tt0086250', 'tt9421570', 'tt26612950', 'tt0103776', 'tt0107211', 'tt4975722', 'tt1609486', 'tt5304992', 'tt7737800', 'tt5516328', 'tt14351082', 'tt1856080', 'tt0477348', 'tt0119173', 'tt1790885', 'tt0120655', 'tt1649418', 'tt13403046', 'tt2463208', 'tt0120915', 'tt14114802', 'tt0099685', 'tt0094012', 'tt8134742', 'tt16360004', 'tt0256103', 'tt1560747', 'tt0101414', 'tt6479178', 'tt23330554', 'tt2388715', 'tt0449088', 'tt3799694', 'tt1302006', 'tt1758830', 'tt0071360', 'tt0375679', 'tt3704428', 'tt0396269', 'tt1563738', 'tt0256415', 'tt6998518', 'tt5834874', 'tt3567288', 'tt1228987', 'tt0075029', 'tt10275534', 'tt1488606', 'tt0088000', 'tt0056172', 'tt28088336', 'tt0327056', 'tt0800080', 'tt0090887', 'tt0243155', 'tt10366206', 'tt10731256', 'tt9114286', 'tt0482571', 'tt23849204', 'tt2316548', 'tt4045450', 'tt0215129', 'tt17527468', 'tt31015278', 'tt0086320', 'tt0425112', 'tt0770828', 'tt27487934', 'tt0417741', 'tt0095765', 'tt8652728', 'tt1448754', 'tt1568346', 'tt2096673', 'tt0096874', 'tt8609660', 'tt1273235', 'tt0098206', 'tt1104001', 'tt10886166', 'tt0830515', 'tt13818368', 'tt0093605', 'tt1855199', 'tt2543164', 'tt0238546', 'tt0245429', 'tt1051906', 'tt0064665', 'tt17279496', 'tt0454921', 'tt5814060', 'tt2049403', 'tt0058150', 'tt2203939', 'tt0082418', 'tt31064841', 'tt13269536', 'tt11274492', 'tt1781769', 'tt0076759', 'tt0112573', 'tt1386697', 'tt1262416', 'tt32149731', 'tt0817177', 'tt0290673', 'tt0085333', 'tt3829920', 'tt0084945', 'tt0061578', 'tt8589698', 'tt14849194', 'tt0373889', 'tt3183660', 'tt2183014', 'tt10365998', 'tt0068833', 'tt4046784', 'tt0831387', 'tt0086960', 'tt10665338', 'tt9243946', 'tt29994753', 'tt0360717', 'tt0401729', 'tt0088128', 'tt0379725', 'tt0100935', 'tt0240772', 'tt27004148', 'tt14966898', 'tt0069404', 'tt6722400', 'tt0758758', 'tt11196036', 'tt0179116', 'tt0338095', 'tt14509110', 'tt0100758', 'tt3566834', 'tt0106697', 'tt0401792', 'tt0070518', 'tt30321133', 'tt19850008', 'tt5073620', 'tt26350277', 'tt17024450', 'tt0258463', 'tt7144666', 'tt14260836', 'tt3581652', 'tt0446029', 'tt8239946', 'tt28259207', 'tt0892769', 'tt19864828', 'tt0102492', 'tt0391198', 'tt10682266', 'tt4123430', 'tt8008948', 'tt1078940', 'tt0398165', 'tt0082096', 'tt15980138', 'tt0418763', 'tt9224104', 'tt1242460', 'tt1972591', 'tt1191111', 'tt2527338', 'tt0098635', 'tt1596343', 'tt0289879', 'tt0119099', 'tt0372183', 'tt2381249', 'tt0441773', 'tt0137523', 'tt5140878', 'tt11112532', 'tt0118929', 'tt0099423', 'tt5439796', 'tt0332658', 'tt15314262', 'tt4172430', 'tt0093409', 'tt12718300', 'tt23055660', 'tt26533869', 'tt0363771', 'tt0107688', 'tt23137390', 'tt0208092', 'tt15679400', 'tt0095631', 'tt1825683', 'tt0120815', 'tt0062711', 'tt0088680', 'tt21261712', 'tt30217143', 'tt3099498', 'tt7461686', 'tt4630562', 'tt2713180', 'tt2180411', 'tt9198364', 'tt10172266', 'tt1038988', 'tt0805647', 'tt1226837', 'tt2788710', 'tt0164181', 'tt22173666', 'tt4846340', 'tt6802400', 'tt8337290', 'tt5013056', 'tt7737786', 'tt1441951', 'tt2379713', 'tt21957774', 'tt0071615', 'tt3450958', 'tt0056801', 'tt0089175', 'tt13186604', 'tt0082198', 'tt0081505', 'tt6139732', 'tt0095016', 'tt9731534', 'tt16431870', 'tt0088258', 'tt15041836', 'tt9214832', 'tt5822536', 'tt0118583', 'tt12908150', 'tt7363336', 'tt0455944', 'tt17490712', 'tt0083630', 'tt0268380', 'tt0416449', 'tt0069704', 'tt0087298', 'tt0389860', 'tt1517268', 'tt15782690', 'tt0351283', 'tt14539740', 'tt0878804', 'tt0080684', 'tt1017460', 'tt0381707', 'tt14960854', 'tt1311067', 'tt29141112', 'tt1935859', 'tt0395584', 'tt0104348', 'tt3797868', 'tt1014759', 'tt0111257', 'tt33307315', 'tt5715874', 'tt0107207', 'tt13097932', 'tt0307453', 'tt1638355', 'tt10078772', 'tt1403241', 'tt5177114', 'tt0245844', 'tt11703710', 'tt1182345', 'tt0758746', 'tt0106918', 'tt2870612', 'tt1599348', 'tt12573480', 'tt0816692', 'tt0116683', 'tt1517451', 'tt31711040', 'tt0312528', 'tt0385880', 'tt11083552', 'tt0332379', 'tt0096787', 'tt10954718', 'tt20316748', 'tt10403420', 'tt1156398', 'tt15671028', 'tt0144117', 'tt1430132', 'tt0120689', 'tt0245574', 'tt4701182', 'tt4513678', 'tt0125439', 'tt0092991', 'tt33549447', 'tt0134119', 'tt0095444', 'tt7395114', 'tt1440129', 'tt3011894', 'tt0090670', 'tt0185371', 'tt0237572', 'tt0280590', 'tt1392170', 'tt0115964', 'tt31193180', 'tt1655441', 'tt0338459', 'tt9271850', 'tt15257160', 'tt5033998', 'tt0237534', 'tt3553976', 'tt16366836', 'tt0119116', 'tt26903104', 'tt0280707', 'tt0454841', 'tt1428538', 'tt0049833', 'tt0437086', 'tt0306047', 'tt0493464', 'tt0023249', 'tt3896198', 'tt10229558', 'tt0369610', 'tt0796366', 'tt0167190', 'tt0053125', 'tt0119396', 'tt16426418', 'tt5177120', 'tt0361748', 'tt4772188', 'tt0087182', 'tt0082136', 'tt8106534', 'tt6450804', 'tt0101507', 'tt0071853', 'tt0488120', 'tt0082406', 'tt8310486', 'tt14914430', 'tt0454848', 'tt1314655', 'tt5090568', 'tt0091790', 'tt26548265', 'tt0108147', 'tt9860566', 'tt10676052', 'tt0316396', 'tt0118749', 'tt1502397', 'tt4209788', 'tt0082694', 'tt0330373', 'tt1205489', 'tt1386703', 'tt0091605', 'tt32276246', 'tt0106489', 'tt0096438', 'tt30180830', 'tt3731562', 'tt0387808', 'tt0217869', 'tt0142342', 'tt1324999', 'tt1300854', 'tt2953050', 'tt4501244', 'tt0119468', 'tt0293429', 'tt0343660', 'tt0077745', 'tt6966692', 'tt0353969', 'tt32903026', 'tt8097030', 'tt1790864', 'tt11214590', 'tt0438488', 'tt31158592', 'tt32178949', 'tt3682448', 'tt28494829', 'tt0251736', 'tt10640346', 'tt2935510', 'tt10545296', 'tt12996154', 'tt2554274', 'tt0080487', 'tt17505010', 'tt1661199', 'tt11286314', 'tt1478839', 'tt0094721', 'tt1188729', 'tt1216475', 'tt0120363', 'tt0079641', 'tt0093693', 'tt0073802', 'tt0338751', 'tt20194882', 'tt0457939', 'tt30516366', 'tt0463854', 'tt0371746', 'tt3799232', 'tt0043949', 'tt0101862', 'tt0475944', 'tt14209916', 'tt1872194', 'tt0796302', 'tt1563742', 'tt0076723', 'tt0064030', 'tt0120857', 'tt2267998', 'tt26743210', 'tt1617661', 'tt4978420', 'tt4178092', 'tt0107120', 'tt0064116', 'tt0120735', 'tt3416742', 'tt27047903', 'tt0094898', 'tt0117666', 'tt1478338', 'tt0164052', 'tt2872718', 'tt0430922', 'tt0070608', 'tt0393162', 'tt0093855'}\n",
      "Không có giá trị thiếu.\n"
     ]
    }
   ],
   "source": [
    "check_size(file_name='movies_data_batch_2.json')"
   ]
  },
  {
   "cell_type": "code",
   "execution_count": 1,
   "metadata": {},
   "outputs": [],
   "source": [
    "import os\n",
    "import json\n",
    "\n",
    "def remove_duplicates(file_name, output_file_name):\n",
    "    # Đọc file JSON\n",
    "    with open(os.path.join(os.getcwd(), file_name), 'r', encoding='utf-8') as file:\n",
    "        data = json.load(file)\n",
    "\n",
    "    if isinstance(data, list):\n",
    "        print(f\"Số lượng phần tử ban đầu: {len(data)}\")\n",
    "        \n",
    "        # Sử dụng set để lưu trữ các Movie ID đã xuất hiện\n",
    "        seen_movie_ids = set()\n",
    "        unique_data = []\n",
    "\n",
    "        for movie in data:\n",
    "            movie_id = movie.get('Movie ID')\n",
    "            if movie_id and movie_id not in seen_movie_ids:\n",
    "                unique_data.append(movie)  # Thêm movie vào danh sách nếu chưa thấy Movie ID trước đó\n",
    "                seen_movie_ids.add(movie_id)\n",
    "        \n",
    "        print(f\"Số lượng phần tử sau khi xoá trùng lặp: {len(unique_data)}\")\n",
    "\n",
    "        # Lưu file đã làm sạch\n",
    "        with open(output_file_name, 'w', encoding='utf-8') as output_file:\n",
    "            json.dump(unique_data, output_file, ensure_ascii=False, indent=4)\n",
    "        print(f\"Dữ liệu đã được lưu vào file {output_file_name}\")\n",
    "\n",
    "    else:\n",
    "        print(\"Dữ liệu không phải là danh sách hoặc không thể xử lý trùng lặp.\")\n",
    "\n"
   ]
  },
  {
   "cell_type": "code",
   "execution_count": 2,
   "metadata": {},
   "outputs": [
    {
     "name": "stdout",
     "output_type": "stream",
     "text": [
      "Số lượng phần tử ban đầu: 25200\n",
      "Số lượng phần tử sau khi xoá trùng lặp: 10050\n",
      "Dữ liệu đã được lưu vào file movies_data_cleaned.json\n"
     ]
    }
   ],
   "source": [
    "\n",
    "# Ví dụ sử dụng\n",
    "remove_duplicates('movies_data_batch_4.json', 'movies_data_cleaned.json')"
   ]
  },
  {
   "cell_type": "markdown",
   "metadata": {},
   "source": [
    "## Scraping Reviews of each Movies"
   ]
  },
  {
   "cell_type": "code",
   "execution_count": 20,
   "metadata": {},
   "outputs": [],
   "source": [
    "# ReviewsScraper class to fetch reviews for each movie\n",
    "class MovieReviewScraper(BaseScraper):\n",
    "    def __init__(self, json_file_path):\n",
    "        super().__init__()  # Call the base class constructor\n",
    "        self.json_file_path = json_file_path  # Path to the JSON file\n",
    "        self.movie_data = self._load_movies_from_json()  # Load movie data from JSON\n",
    "        self.movie_reviews = []  # Adjusted to be a list of movie objects\n",
    "        self.clicks = 0  # Initialize click counter\n",
    "\n",
    "    def _load_movies_from_json(self):\n",
    "        with open(self.json_file_path, 'r', encoding='utf-8') as f:\n",
    "            return json.load(f)  # Load JSON data\n",
    "\n",
    "    def fetch_reviews(self):\n",
    "        for movie in self.movie_data:  # Iterate through the list of movies\n",
    "            movie_id = movie['Movie ID']\n",
    "            title = movie['Title']\n",
    "            review_url = f\"https://www.imdb.com/title/{movie_id}/reviews\"\n",
    "            self.driver.get(review_url)\n",
    "\n",
    "            self._load_reviews()\n",
    "\n",
    "            wait_time = self._calculate_wait_time(10, self.clicks)  # Adjust wait time based on click count\n",
    "            time.sleep(wait_time)\n",
    "\n",
    "            html = self.driver.page_source\n",
    "            soup = BeautifulSoup(html, 'html.parser')\n",
    "            self._extract_reviews(soup, movie_id, title)\n",
    "\n",
    "        self.close_driver()\n",
    "        self.movie_reviews\n",
    "\n",
    "    def _load_reviews(self):\n",
    "        # Try to find and click the 'All' reviews button\n",
    "        try:\n",
    "            all_reviews_button = WebDriverWait(self.driver, 5).until(\n",
    "                EC.presence_of_element_located((By.XPATH, \"//*[@id='__next']/main/div/section/div/section/div/div[1]/section[1]/div[3]/div/span[2]/button\"))\n",
    "            )\n",
    "            self.driver.execute_script(\"arguments[0].scrollIntoView({block: 'center'});\", all_reviews_button)\n",
    "            time.sleep(2)  # Wait for the page to load if needed\n",
    "            all_reviews_button.click()\n",
    "        except Exception as e:\n",
    "            print(\"Could not find 'All' button, will try to find 'Load More' button.\")\n",
    "            self._load_more_reviews()\n",
    "\n",
    "    def _load_more_reviews(self):\n",
    "        # Add progress bar for loading more reviews\n",
    "        with tqdm(total=10, desc='Loading More Reviews', leave=False) as pbar:\n",
    "            while True:\n",
    "                try:\n",
    "                    load_more_button = WebDriverWait(self.driver, 5).until(\n",
    "                        EC.presence_of_element_located((By.XPATH, '//*[@id=\"load-more-trigger\"]'))\n",
    "                    )\n",
    "                    self.driver.execute_script(\"arguments[0].scrollIntoView({block: 'center'});\", load_more_button)\n",
    "                    load_more_button.click()\n",
    "\n",
    "                    self.clicks += 1  # Increment the click count\n",
    "                    pbar.update(1)  # Update progress bar\n",
    "\n",
    "                    wait_time = self._calculate_wait_time(1, self.clicks)  # Adjust wait time based on click count\n",
    "                    time.sleep(wait_time)\n",
    "\n",
    "                except Exception as e:\n",
    "                    print(\"No more 'Load More' buttons to click.\")\n",
    "                    break\n",
    "\n",
    "    def _calculate_wait_time(self, base_wait_time, clicks):\n",
    "        \"\"\"\n",
    "        Calculate an adaptive wait time based on the number of clicks.\n",
    "        As the number of clicks increases, the wait time grows exponentially to accommodate website lag.\n",
    "        \"\"\"\n",
    "        growth_factor = 1.2  # Exponential growth factor\n",
    "        additional_wait_time = base_wait_time * (growth_factor ** (clicks // 10))  # Increase wait time every 10 clicks\n",
    "        \n",
    "        return base_wait_time + additional_wait_time\n",
    "\n",
    "\n",
    "    def _extract_reviews(self, soup, movie_id, title):\n",
    "        reviews = soup.select('article.user-review-item')  # Attempt to extract reviews using one selector\n",
    "        movie_info = {\n",
    "            'Movie ID': movie_id,\n",
    "            'Reviews': []\n",
    "        }\n",
    "        # If no reviews found, try to load more reviews\n",
    "        if not reviews:  \n",
    "            reviews = soup.select('div.lister-item.mode-detail.imdb-user-review')\n",
    "            if not reviews: # If still no reviews available\n",
    "                print(f\"No reviews found for {title}.\")\n",
    "                return\n",
    "\n",
    "            for review in reviews:\n",
    "                parsed_review = self._parse_review(review, \"load_more\")\n",
    "                movie_info['Reviews'].append(parsed_review)\n",
    "        else: # If \"all\" button found\n",
    "            for review in reviews:\n",
    "                parsed_review = self._parse_review(review, \"all\")\n",
    "                movie_info['Reviews'].append(parsed_review)\n",
    "\n",
    "        self.movie_reviews.append(movie_info)\n",
    "\n",
    "        # Count the number of reviews and display it\n",
    "        num_reviews = len(movie_info['Reviews'])\n",
    "        print(f\"Total number of reviews for '{title}': {num_reviews}\")\n",
    "\n",
    "    def _parse_review(self, review, button_type):\n",
    "        \"\"\"\n",
    "        Extract information from the review and return as a dictionary.\n",
    "        \"\"\"\n",
    "        # Extract information from the review based on its type (load_more or all)\n",
    "        if button_type == \"load_more\":\n",
    "            review_rating = review.select_one('span.rating-other-user-rating span').get_text(strip=True) if review.select_one('span.rating-other-user-rating span') else 'No rating'\n",
    "            review_summary = review.select_one('a.title').get_text(strip=True) if review.select_one('a.title') else 'No summary'\n",
    "            review_text = review.select_one('div.text.show-more__control').get_text(strip=True) if review.select_one('div.text.show-more__control') else 'No content'\n",
    "            author_tag = review.select_one('span.display-name-link a').get_text(strip=True) if review.select_one('span.display-name-link a') else 'Unknown Author'\n",
    "            review_date = review.select_one('span.review-date').get_text(strip=True) if review.select_one('span.review-date') else 'No date'\n",
    "        else:\n",
    "            review_rating = review.select_one('span.ipc-rating-star--rating').get_text(strip=True) if review.select_one('span.ipc-rating-star--rating') else 'No rating'\n",
    "            review_summary = review.select_one('span[data-testid=\"review-summary\"]').get_text(strip=True) if review.select_one('span[data-testid=\"review-summary\"]') else 'No summary'\n",
    "            review_text = review.select_one('div.ipc-html-content-inner-div').get_text(strip=True) if review.select_one('div.ipc-html-content-inner-div') else 'No content'\n",
    "            author_tag = review.select_one('a[data-testid=\"author-link\"]').get_text(strip=True) if review.select_one('a[data-testid=\"author-link\"]') else 'Unknown Author'\n",
    "            review_date = review.select_one('li.review-date').get_text(strip=True) if review.select_one('li.review-date') else 'No date'\n",
    "\n",
    "        # Return the review information in the expected format\n",
    "        return {\n",
    "            'Review Summary': review_summary,\n",
    "            'Review': review_text,\n",
    "            'Rating': review_rating,\n",
    "            'Author': author_tag,\n",
    "            'Date': review_date\n",
    "        }\n",
    "    def save_to_json(self):\n",
    "        with open('movies_reviews.json', 'w', encoding='utf-8') as f:\n",
    "            json.dump(self.movie_reviews, f, ensure_ascii=False, indent=4)\n",
    "        print(\"Reviews saved to movies_reviews.json\")"
   ]
  },
  {
   "cell_type": "markdown",
   "metadata": {},
   "source": [
    "### Test 1 movie"
   ]
  },
  {
   "cell_type": "markdown",
   "metadata": {},
   "source": [
    "#### Test case"
   ]
  },
  {
   "cell_type": "code",
   "execution_count": 21,
   "metadata": {},
   "outputs": [
    {
     "name": "stdout",
     "output_type": "stream",
     "text": [
      "Could not find 'All' button, will try to find 'Load More' button.\n"
     ]
    },
    {
     "name": "stderr",
     "output_type": "stream",
     "text": [
      "                                                                     "
     ]
    },
    {
     "name": "stdout",
     "output_type": "stream",
     "text": [
      "No more 'Load More' buttons to click.\n"
     ]
    },
    {
     "name": "stderr",
     "output_type": "stream",
     "text": [
      "\r"
     ]
    },
    {
     "name": "stdout",
     "output_type": "stream",
     "text": [
      "Total number of reviews for 'The Substance': 433\n",
      "Reviews saved to movies_reviews.json\n",
      "Movies fetched and saved to movies_reviews.json\n"
     ]
    }
   ],
   "source": [
    "import os\n",
    "#test reviews scraper\n",
    "data = [\n",
    "    {\n",
    "        \"Movie ID\": \"tt17526714\",\n",
    "        \"Title\": \"The Substance\"\n",
    "    }\n",
    "]\n",
    "\n",
    "# Save the data to a JSON file\n",
    "with open('test_movie.json', 'w') as json_file:\n",
    "    json.dump(data, json_file, indent=4)\n",
    "\n",
    "path = os.path.join(os.getcwd(), 'test_movie.json')\n",
    "scraper = MovieReviewScraper(path)\n",
    "\n",
    "scraper.fetch_reviews()\n",
    "scraper.save_to_json()\n",
    "print(\"Movies fetched and saved to movies_reviews.json\")\n"
   ]
  },
  {
   "cell_type": "code",
   "execution_count": 26,
   "metadata": {},
   "outputs": [
    {
     "name": "stdout",
     "output_type": "stream",
     "text": [
      "Movie ID: tt17526714 có 433 review(s).\n"
     ]
    }
   ],
   "source": [
    "import json\n",
    "import os\n",
    "\n",
    "# Đọc file JSON với mã hóa utf-8\n",
    "with open(os.path.join(os.getcwd(), 'movies_reviews.json'), 'r', encoding='utf-8') as file:\n",
    "    data = json.load(file)\n",
    "\n",
    "# Đếm số lượng review cho từng phim\n",
    "for movie in data:\n",
    "    movie_id = movie[\"Movie ID\"]\n",
    "    reviews = movie[\"Reviews\"]\n",
    "    review_count = len(reviews)\n",
    "    print(f\"Movie ID: {movie_id} có {review_count} review(s).\")\n"
   ]
  },
  {
   "cell_type": "code",
   "execution_count": null,
   "metadata": {},
   "outputs": [],
   "source": []
  }
 ],
 "metadata": {
  "kernelspec": {
   "display_name": ".venv",
   "language": "python",
   "name": "python3"
  },
  "language_info": {
   "codemirror_mode": {
    "name": "ipython",
    "version": 3
   },
   "file_extension": ".py",
   "mimetype": "text/x-python",
   "name": "python",
   "nbconvert_exporter": "python",
   "pygments_lexer": "ipython3",
   "version": "3.11.9"
  }
 },
 "nbformat": 4,
 "nbformat_minor": 2
}
