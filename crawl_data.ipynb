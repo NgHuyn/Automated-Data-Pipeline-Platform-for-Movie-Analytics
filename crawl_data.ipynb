{
 "cells": [
  {
   "cell_type": "markdown",
   "metadata": {},
   "source": [
    "# Scraping 20k Movies in IMDB"
   ]
  },
  {
   "cell_type": "code",
   "execution_count": 2,
   "metadata": {},
   "outputs": [
    {
     "name": "stdout",
     "output_type": "stream",
     "text": [
      "Requirement already satisfied: selenium in c:\\users\\modern\\appdata\\local\\packages\\pythonsoftwarefoundation.python.3.11_qbz5n2kfra8p0\\localcache\\local-packages\\python311\\site-packages (4.25.0)\n",
      "Requirement already satisfied: urllib3<3,>=1.26 in c:\\users\\modern\\appdata\\local\\packages\\pythonsoftwarefoundation.python.3.11_qbz5n2kfra8p0\\localcache\\local-packages\\python311\\site-packages (from urllib3[socks]<3,>=1.26->selenium) (2.1.0)\n",
      "Requirement already satisfied: trio~=0.17 in c:\\users\\modern\\appdata\\local\\packages\\pythonsoftwarefoundation.python.3.11_qbz5n2kfra8p0\\localcache\\local-packages\\python311\\site-packages (from selenium) (0.26.2)\n",
      "Requirement already satisfied: trio-websocket~=0.9 in c:\\users\\modern\\appdata\\local\\packages\\pythonsoftwarefoundation.python.3.11_qbz5n2kfra8p0\\localcache\\local-packages\\python311\\site-packages (from selenium) (0.11.1)\n",
      "Requirement already satisfied: certifi>=2021.10.8 in c:\\users\\modern\\appdata\\local\\packages\\pythonsoftwarefoundation.python.3.11_qbz5n2kfra8p0\\localcache\\local-packages\\python311\\site-packages (from selenium) (2023.11.17)\n",
      "Requirement already satisfied: typing_extensions~=4.9 in c:\\users\\modern\\appdata\\local\\packages\\pythonsoftwarefoundation.python.3.11_qbz5n2kfra8p0\\localcache\\local-packages\\python311\\site-packages (from selenium) (4.9.0)\n",
      "Requirement already satisfied: websocket-client~=1.8 in c:\\users\\modern\\appdata\\local\\packages\\pythonsoftwarefoundation.python.3.11_qbz5n2kfra8p0\\localcache\\local-packages\\python311\\site-packages (from selenium) (1.8.0)\n",
      "Requirement already satisfied: attrs>=23.2.0 in c:\\users\\modern\\appdata\\local\\packages\\pythonsoftwarefoundation.python.3.11_qbz5n2kfra8p0\\localcache\\local-packages\\python311\\site-packages (from trio~=0.17->selenium) (24.2.0)\n",
      "Requirement already satisfied: sortedcontainers in c:\\users\\modern\\appdata\\local\\packages\\pythonsoftwarefoundation.python.3.11_qbz5n2kfra8p0\\localcache\\local-packages\\python311\\site-packages (from trio~=0.17->selenium) (2.4.0)\n",
      "Requirement already satisfied: idna in c:\\users\\modern\\appdata\\local\\packages\\pythonsoftwarefoundation.python.3.11_qbz5n2kfra8p0\\localcache\\local-packages\\python311\\site-packages (from trio~=0.17->selenium) (3.6)\n",
      "Requirement already satisfied: outcome in c:\\users\\modern\\appdata\\local\\packages\\pythonsoftwarefoundation.python.3.11_qbz5n2kfra8p0\\localcache\\local-packages\\python311\\site-packages (from trio~=0.17->selenium) (1.3.0.post0)\n",
      "Requirement already satisfied: sniffio>=1.3.0 in c:\\users\\modern\\appdata\\local\\packages\\pythonsoftwarefoundation.python.3.11_qbz5n2kfra8p0\\localcache\\local-packages\\python311\\site-packages (from trio~=0.17->selenium) (1.3.1)\n",
      "Requirement already satisfied: cffi>=1.14 in c:\\users\\modern\\appdata\\local\\packages\\pythonsoftwarefoundation.python.3.11_qbz5n2kfra8p0\\localcache\\local-packages\\python311\\site-packages (from trio~=0.17->selenium) (1.17.1)\n",
      "Requirement already satisfied: wsproto>=0.14 in c:\\users\\modern\\appdata\\local\\packages\\pythonsoftwarefoundation.python.3.11_qbz5n2kfra8p0\\localcache\\local-packages\\python311\\site-packages (from trio-websocket~=0.9->selenium) (1.2.0)\n",
      "Requirement already satisfied: pysocks!=1.5.7,<2.0,>=1.5.6 in c:\\users\\modern\\appdata\\local\\packages\\pythonsoftwarefoundation.python.3.11_qbz5n2kfra8p0\\localcache\\local-packages\\python311\\site-packages (from urllib3[socks]<3,>=1.26->selenium) (1.7.1)\n",
      "Requirement already satisfied: pycparser in c:\\users\\modern\\appdata\\local\\packages\\pythonsoftwarefoundation.python.3.11_qbz5n2kfra8p0\\localcache\\local-packages\\python311\\site-packages (from cffi>=1.14->trio~=0.17->selenium) (2.22)\n",
      "Requirement already satisfied: h11<1,>=0.9.0 in c:\\users\\modern\\appdata\\local\\packages\\pythonsoftwarefoundation.python.3.11_qbz5n2kfra8p0\\localcache\\local-packages\\python311\\site-packages (from wsproto>=0.14->trio-websocket~=0.9->selenium) (0.14.0)\n",
      "Note: you may need to restart the kernel to use updated packages.\n"
     ]
    },
    {
     "name": "stderr",
     "output_type": "stream",
     "text": [
      "\n",
      "[notice] A new release of pip is available: 24.0 -> 24.2\n",
      "[notice] To update, run: C:\\Users\\MODERN\\AppData\\Local\\Microsoft\\WindowsApps\\PythonSoftwareFoundation.Python.3.11_qbz5n2kfra8p0\\python.exe -m pip install --upgrade pip\n"
     ]
    }
   ],
   "source": [
    "pip install selenium"
   ]
  },
  {
   "cell_type": "markdown",
   "metadata": {},
   "source": [
    "## Import Modules"
   ]
  },
  {
   "cell_type": "code",
   "execution_count": 3,
   "metadata": {},
   "outputs": [
    {
     "name": "stdout",
     "output_type": "stream",
     "text": [
      "Requirement already satisfied: pandas in c:\\users\\modern\\appdata\\local\\packages\\pythonsoftwarefoundation.python.3.11_qbz5n2kfra8p0\\localcache\\local-packages\\python311\\site-packages (2.1.3)\n",
      "Requirement already satisfied: numpy<2,>=1.23.2 in c:\\users\\modern\\appdata\\local\\packages\\pythonsoftwarefoundation.python.3.11_qbz5n2kfra8p0\\localcache\\local-packages\\python311\\site-packages (from pandas) (1.26.1)\n",
      "Requirement already satisfied: python-dateutil>=2.8.2 in c:\\users\\modern\\appdata\\local\\packages\\pythonsoftwarefoundation.python.3.11_qbz5n2kfra8p0\\localcache\\local-packages\\python311\\site-packages (from pandas) (2.8.2)\n",
      "Requirement already satisfied: pytz>=2020.1 in c:\\users\\modern\\appdata\\local\\packages\\pythonsoftwarefoundation.python.3.11_qbz5n2kfra8p0\\localcache\\local-packages\\python311\\site-packages (from pandas) (2023.3.post1)\n",
      "Requirement already satisfied: tzdata>=2022.1 in c:\\users\\modern\\appdata\\local\\packages\\pythonsoftwarefoundation.python.3.11_qbz5n2kfra8p0\\localcache\\local-packages\\python311\\site-packages (from pandas) (2023.3)\n",
      "Requirement already satisfied: six>=1.5 in c:\\users\\modern\\appdata\\local\\packages\\pythonsoftwarefoundation.python.3.11_qbz5n2kfra8p0\\localcache\\local-packages\\python311\\site-packages (from python-dateutil>=2.8.2->pandas) (1.16.0)\n",
      "Note: you may need to restart the kernel to use updated packages.\n"
     ]
    },
    {
     "name": "stderr",
     "output_type": "stream",
     "text": [
      "\n",
      "[notice] A new release of pip is available: 24.0 -> 24.2\n",
      "[notice] To update, run: C:\\Users\\MODERN\\AppData\\Local\\Microsoft\\WindowsApps\\PythonSoftwareFoundation.Python.3.11_qbz5n2kfra8p0\\python.exe -m pip install --upgrade pip\n"
     ]
    }
   ],
   "source": [
    "pip install pandas"
   ]
  },
  {
   "cell_type": "code",
   "execution_count": 4,
   "metadata": {},
   "outputs": [
    {
     "name": "stdout",
     "output_type": "stream",
     "text": [
      "Requirement already satisfied: tqdm in c:\\users\\modern\\appdata\\local\\packages\\pythonsoftwarefoundation.python.3.11_qbz5n2kfra8p0\\localcache\\local-packages\\python311\\site-packages (4.66.1)\n",
      "Requirement already satisfied: colorama in c:\\users\\modern\\appdata\\local\\packages\\pythonsoftwarefoundation.python.3.11_qbz5n2kfra8p0\\localcache\\local-packages\\python311\\site-packages (from tqdm) (0.4.6)\n",
      "Note: you may need to restart the kernel to use updated packages.\n"
     ]
    },
    {
     "name": "stderr",
     "output_type": "stream",
     "text": [
      "\n",
      "[notice] A new release of pip is available: 24.0 -> 24.2\n",
      "[notice] To update, run: C:\\Users\\MODERN\\AppData\\Local\\Microsoft\\WindowsApps\\PythonSoftwareFoundation.Python.3.11_qbz5n2kfra8p0\\python.exe -m pip install --upgrade pip\n"
     ]
    }
   ],
   "source": [
    "pip install tqdm"
   ]
  },
  {
   "cell_type": "code",
   "execution_count": 5,
   "metadata": {},
   "outputs": [],
   "source": [
    "from selenium import webdriver\n",
    "from selenium.webdriver.common.by import By\n",
    "from selenium.webdriver.chrome.service import Service\n",
    "from selenium.webdriver.support.ui import WebDriverWait\n",
    "from selenium.webdriver.support import expected_conditions as EC\n",
    "from selenium.webdriver.common.action_chains import ActionChains\n",
    "import pandas as pd\n",
    "import time\n",
    "import re\n",
    "from tqdm import tqdm  # Import tqdm for progress bar\n",
    "from bs4 import BeautifulSoup\n",
    "import json "
   ]
  },
  {
   "cell_type": "markdown",
   "metadata": {},
   "source": [
    "## WebDriver"
   ]
  },
  {
   "cell_type": "code",
   "execution_count": 6,
   "metadata": {},
   "outputs": [],
   "source": [
    "from selenium import webdriver\n",
    "from selenium.webdriver.chrome.service import Service\n",
    "from selenium.webdriver.chrome.options import Options\n",
    "\n",
    "# Base class for handling common WebDriver functionalities\n",
    "class BaseScraper:\n",
    "    def __init__(self):\n",
    "        self.driver = self.init_driver()\n",
    "\n",
    "    def init_driver(self):\n",
    "        service = Service()  # Initialize the service\n",
    "        options = webdriver.ChromeOptions()\n",
    "        \n",
    "        # Set Chrome options to reduce memory usage\n",
    "        options.headless = True  # Enable headless mode\n",
    "        options.add_argument('--disable-extensions')\n",
    "        options.add_argument('--disable-gpu')\n",
    "        options.add_argument('--disable-dev-shm-usage')\n",
    "        options.add_argument(\"--no-sandbox\")  # Use this if you encounter issues\n",
    "\n",
    "        driver = webdriver.Chrome(service=service, options=options)\n",
    "        return driver\n",
    "\n",
    "    def close_driver(self):\n",
    "        self.driver.quit()\n"
   ]
  },
  {
   "cell_type": "markdown",
   "metadata": {},
   "source": [
    "## Scraping Movie Details"
   ]
  },
  {
   "cell_type": "code",
   "execution_count": 7,
   "metadata": {},
   "outputs": [],
   "source": [
    "import json\n",
    "import re\n",
    "import time\n",
    "from tqdm import tqdm\n",
    "from bs4 import BeautifulSoup\n",
    "from selenium.webdriver.common.by import By\n",
    "from selenium.webdriver.support.ui import WebDriverWait\n",
    "from selenium.webdriver.support import expected_conditions as EC\n",
    "\n",
    "class MoviesScraper(BaseScraper):\n",
    "    def __init__(self, clicks=200, batch_size=20, save_file='movies_data.json'):\n",
    "        super().__init__()\n",
    "        self.clicks = clicks\n",
    "        self.batch_size = batch_size\n",
    "        self.save_file = save_file\n",
    "        self.movie_data = []\n",
    "\n",
    "    def fetch_movies(self):\n",
    "        url = 'https://www.imdb.com/search/title/?title_type=feature'\n",
    "        self.driver.get(url)\n",
    "\n",
    "        total_batches = self.clicks // self.batch_size  # Calculate total batches\n",
    "        remaining_clicks = self.clicks % self.batch_size  # Remaining clicks after batches\n",
    "\n",
    "        for batch in range(total_batches):\n",
    "            try:\n",
    "                print(f\"Processing batch {batch + 1}/{total_batches}...\")\n",
    "                self._process_batch(self.batch_size)\n",
    "            except Exception as e:\n",
    "                print(f\"Error occurred in batch {batch + 1}: {e}\")\n",
    "                break # stop the process after an error\n",
    "\n",
    "        # Process any remaining clicks\n",
    "        if remaining_clicks > 0:\n",
    "            try:\n",
    "                print(f\"Processing remaining {remaining_clicks} clicks...\")\n",
    "                self._process_batch(remaining_clicks)\n",
    "            except Exception as e:\n",
    "                print(f\"Error occurred: {e}\")\n",
    "\n",
    "        self.close_driver()\n",
    "        return self.movie_data\n",
    "\n",
    "    def _process_batch(self, num_clicks):\n",
    "        \"\"\"Process a batch with num_clicks of 'see more' clicks.\"\"\"\n",
    "        initial_html = self.driver.page_source\n",
    "        initial_soup = BeautifulSoup(initial_html, 'html.parser')\n",
    "        initial_movies = initial_soup.select('div.sc-59c7dc1-2')  # Saving first element\n",
    "\n",
    "        with tqdm(total=num_clicks, desc='Loading movies') as pbar:\n",
    "            for _ in range(num_clicks):\n",
    "                soup = self.click_see_more_button()\n",
    "                pbar.update(1)\n",
    "\n",
    "        wait_time = self._calculate_wait_time(num_clicks)\n",
    "        time.sleep(wait_time)\n",
    "\n",
    "        # After pressing the 'see more' button\n",
    "        final_html = self.driver.page_source\n",
    "        final_soup = BeautifulSoup(final_html, 'html.parser')\n",
    "        final_movies = final_soup.select('div.sc-59c7dc1-2')\n",
    "\n",
    "        # After each batch, extract movie data (just extract new data)\n",
    "        new_movies = final_movies[len(initial_movies):]\n",
    "        self.extract_movie_data(new_movies)\n",
    "\n",
    "    def click_see_more_button(self):\n",
    "        try:\n",
    "            initial_elements = self.driver.find_elements(By.CLASS_NAME, 'ipc-title')\n",
    "            initial_count = len(initial_elements)\n",
    "\n",
    "            see_more_button = WebDriverWait(self.driver, 10).until(\n",
    "                EC.element_to_be_clickable((By.XPATH, \"//span[contains(text(), '50 more')]\"))\n",
    "            )\n",
    "            self.driver.execute_script(\"arguments[0].scrollIntoView(); arguments[0].click();\", see_more_button)\n",
    "\n",
    "            for _ in range(5):\n",
    "                current_elements = self.driver.find_elements(By.CLASS_NAME, 'ipc-title')\n",
    "                current_count = len(current_elements)\n",
    "\n",
    "                if current_count > initial_count:\n",
    "                    break\n",
    "                time.sleep(1)\n",
    "\n",
    "            return BeautifulSoup(self.driver.page_source, 'html.parser')\n",
    "\n",
    "        except Exception as e:\n",
    "            print(f\"Error occurred: {e}\")\n",
    "            return None\n",
    "\n",
    "    def save_partial_data(self, batch_num):\n",
    "        \"\"\"Save temporary data after each batch.\"\"\"\n",
    "        temp_file_name = f\"movies_data_batch_{batch_num}.json\"\n",
    "        with open(temp_file_name, 'w', encoding='utf-8') as file:\n",
    "            json.dump(self.movie_data, file, ensure_ascii=False, indent=4)\n",
    "        print(f\"Data for batch {batch_num} saved to {temp_file_name}\")\n",
    "\n",
    "    def extract_movie_data(self, movies):\n",
    "        existing_movie_ids = {movie['Movie ID'] for movie in self.movie_data}  # Set of existing movie IDs\n",
    "\n",
    "        for movie in movies:\n",
    "            title_tag = movie.select_one('h3.ipc-title__text')\n",
    "            link_tag = movie.select_one('a.ipc-title-link-wrapper')\n",
    "\n",
    "            title = title_tag.text.strip() if title_tag else 'N/A'\n",
    "            link = link_tag['href'] if link_tag else None\n",
    "\n",
    "            if link_tag:\n",
    "                movie_id = link.split('/title/')[1].split('/')[0]\n",
    "            else:\n",
    "                movie_id = 'N/A'\n",
    "\n",
    "            title = re.sub(r'^\\d+\\.\\s*', '', title)\n",
    "\n",
    "            if movie_id not in existing_movie_ids:  # Only add if movie_id is not already in the list\n",
    "                self.movie_data.append({\n",
    "                    'Movie ID': movie_id,\n",
    "                    'Title': title,\n",
    "                })\n",
    "\n",
    "    def _calculate_wait_time(self, clicks):\n",
    "        base_wait_time = 5\n",
    "        growth_factor = 1.2\n",
    "        additional_wait_time = base_wait_time * (growth_factor ** (clicks // 10))\n",
    "        return base_wait_time + additional_wait_time\n"
   ]
  },
  {
   "cell_type": "markdown",
   "metadata": {},
   "source": [
    "### Test"
   ]
  },
  {
   "cell_type": "code",
   "execution_count": 8,
   "metadata": {},
   "outputs": [
    {
     "name": "stdout",
     "output_type": "stream",
     "text": [
      "Processing remaining 10 clicks...\n"
     ]
    },
    {
     "name": "stderr",
     "output_type": "stream",
     "text": [
      "Loading movies: 100%|██████████| 10/10 [00:43<00:00,  4.35s/it]\n"
     ]
    }
   ],
   "source": [
    "scraper = MoviesScraper(clicks=10, batch_size=4)\n",
    "movie_data = scraper.fetch_movies()"
   ]
  },
  {
   "cell_type": "code",
   "execution_count": 12,
   "metadata": {},
   "outputs": [
    {
     "name": "stdout",
     "output_type": "stream",
     "text": [
      "[{'Movie ID': 'tt1684562', 'Title': 'The Fall Guy'}, {'Movie ID': 'tt14415204', 'Title': 'Never Let Go'}, {'Movie ID': 'tt20221436', 'Title': 'Emilia Pérez'}, {'Movie ID': 'tt16366836', 'Title': 'Venom: The Last Dance'}, {'Movie ID': 'tt5177120', 'Title': 'The Ministry of Ungentlemanly Warfare'}, {'Movie ID': 'tt31450182', 'Title': 'Amber Alert'}, {'Movie ID': 'tt0120737', 'Title': 'The Lord of the Rings: The Fellowship of the Ring'}, {'Movie ID': 'tt15181360', 'Title': 'Rez Ball'}, {'Movie ID': 'tt0111161', 'Title': 'The Shawshank Redemption'}, {'Movie ID': 'tt8228288', 'Title': 'The Platform'}, {'Movie ID': 'tt33034103', 'Title': 'Am I Racist?'}, {'Movie ID': 'tt21097228', 'Title': 'A Different Man'}, {'Movie ID': 'tt28607951', 'Title': 'Anora'}, {'Movie ID': 'tt26470109', 'Title': 'Oddity'}, {'Movie ID': 'tt12584954', 'Title': 'Twisters'}, {'Movie ID': 'tt17505010', 'Title': 'Horizon: An American Saga - Chapter 1'}, {'Movie ID': 'tt29268110', 'Title': 'Smile 2'}, {'Movie ID': 'tt0816692', 'Title': 'Interstellar'}, {'Movie ID': 'tt11687002', 'Title': 'The Outrun'}, {'Movie ID': 'tt1340094', 'Title': 'The Crow'}, {'Movie ID': 'tt28491891', 'Title': 'His Three Daughters'}, {'Movie ID': 'tt0107120', 'Title': 'Hocus Pocus'}, {'Movie ID': 'tt0327785', 'Title': \"The Killer's Game\"}, {'Movie ID': 'tt0468569', 'Title': 'The Dark Knight'}, {'Movie ID': 'tt13433802', 'Title': 'A Quiet Place: Day One'}, {'Movie ID': 'tt0068646', 'Title': 'The Godfather'}, {'Movie ID': 'tt15474916', 'Title': 'Smile'}, {'Movie ID': 'tt31193180', 'Title': 'Sinners'}, {'Movie ID': 'tt0084516', 'Title': 'Poltergeist'}, {'Movie ID': 'tt15574270', 'Title': 'I Saw the TV Glow'}, {'Movie ID': 'tt21830836', 'Title': 'House of Spoils'}, {'Movie ID': 'tt2096673', 'Title': 'Inside Out'}, {'Movie ID': 'tt15239678', 'Title': 'Dune: Part Two'}, {'Movie ID': 'tt32880932', 'Title': 'V/H/S/Beyond'}, {'Movie ID': 'tt27131358', 'Title': 'We Live in Time'}, {'Movie ID': 'tt2906216', 'Title': 'Dungeons & Dragons: Honor Among Thieves'}, {'Movie ID': 'tt8368368', 'Title': 'The Apprentice'}, {'Movie ID': 'tt22048412', 'Title': 'MaXXXine'}, {'Movie ID': 'tt3748172', 'Title': \"Gerald's Game\"}, {'Movie ID': 'tt0102057', 'Title': 'Hook'}, {'Movie ID': 'tt26047818', 'Title': 'Anyone But You'}, {'Movie ID': 'tt15398776', 'Title': 'Oppenheimer'}, {'Movie ID': 'tt28658276', 'Title': 'The 4:30 Movie'}, {'Movie ID': 'tt0077651', 'Title': 'Halloween'}, {'Movie ID': 'tt26659814', 'Title': 'Auron Mein Kahan Dum Tha'}, {'Movie ID': 'tt22893404', 'Title': 'Maria'}, {'Movie ID': 'tt31036941', 'Title': 'Jurassic World Rebirth'}, {'Movie ID': 'tt18259086', 'Title': 'Sonic the Hedgehog 3'}, {'Movie ID': 'tt0172495', 'Title': 'Gladiator'}, {'Movie ID': 'tt0107688', 'Title': 'The Nightmare Before Christmas'}, {'Movie ID': 'tt5779228', 'Title': 'The Garfield Movie'}, {'Movie ID': 'tt14230458', 'Title': 'Poor Things'}, {'Movie ID': 'tt27403986', 'Title': 'Juror #2'}, {'Movie ID': 'tt1396484', 'Title': 'It'}, {'Movie ID': 'tt22173666', 'Title': 'Azrael'}, {'Movie ID': 'tt7131622', 'Title': 'Once Upon a Time... in Hollywood'}, {'Movie ID': 'tt30217143', 'Title': 'Trouble'}, {'Movie ID': 'tt4919268', 'Title': 'Bad Boys: Ride or Die'}, {'Movie ID': 'tt14948432', 'Title': 'Red One'}, {'Movie ID': 'tt20215968', 'Title': 'Hit Man'}, {'Movie ID': 'tt13560574', 'Title': 'X'}, {'Movie ID': 'tt28631109', 'Title': 'Dharmaveer 2'}, {'Movie ID': 'tt26584495', 'Title': 'Companion'}, {'Movie ID': 'tt20215234', 'Title': 'Conclave'}, {'Movie ID': 'tt4481414', 'Title': 'Gifted'}, {'Movie ID': 'tt11068094', 'Title': 'White Bird'}, {'Movie ID': 'tt26757462', 'Title': 'Hellboy: The Crooked Man'}, {'Movie ID': 'tt0064840', 'Title': 'The Prime of Miss Jean Brodie'}, {'Movie ID': 'tt0110912', 'Title': 'Pulp Fiction'}, {'Movie ID': 'tt14966898', 'Title': 'Late Night with the Devil'}, {'Movie ID': 'tt0377092', 'Title': 'Mean Girls'}, {'Movie ID': 'tt21454134', 'Title': 'The Bikeriders'}, {'Movie ID': 'tt1572315', 'Title': 'Texas Chainsaw'}, {'Movie ID': 'tt0063522', 'Title': \"Rosemary's Baby\"}, {'Movie ID': 'tt12349832', 'Title': 'Cuckoo'}, {'Movie ID': 'tt26736843', 'Title': 'The Watchers'}, {'Movie ID': 'tt28015403', 'Title': 'Heretic'}, {'Movie ID': 'tt0120338', 'Title': 'Titanic'}, {'Movie ID': 'tt21626774', 'Title': 'Sector 36'}, {'Movie ID': 'tt23137390', 'Title': 'Immaculate'}, {'Movie ID': 'tt1935859', 'Title': \"Miss Peregrine's Home for Peculiar Children\"}, {'Movie ID': 'tt0117571', 'Title': 'Scream'}, {'Movie ID': 'tt3774694', 'Title': 'Love'}, {'Movie ID': 'tt12610390', 'Title': 'The Union'}, {'Movie ID': 'tt0075265', 'Title': 'A Star Is Born'}, {'Movie ID': 'tt0087800', 'Title': 'A Nightmare on Elm Street'}, {'Movie ID': 'tt0120611', 'Title': 'Blade'}, {'Movie ID': 'tt11389872', 'Title': 'Kingdom of the Planet of the Apes'}, {'Movie ID': 'tt1262426', 'Title': 'Wicked'}, {'Movie ID': 'tt8999762', 'Title': 'The Brutalist'}, {'Movie ID': 'tt0330373', 'Title': 'Harry Potter and the Goblet of Fire'}, {'Movie ID': 'tt3605418', 'Title': 'Knock Knock'}, {'Movie ID': 'tt27489557', 'Title': 'Abigail'}, {'Movie ID': 'tt4978420', 'Title': 'Borderlands'}, {'Movie ID': 'tt0103874', 'Title': \"Bram Stoker's Dracula\"}, {'Movie ID': 'tt21958136', 'Title': 'The Wasp'}, {'Movie ID': 'tt7510222', 'Title': 'Despicable Me 4'}, {'Movie ID': 'tt3083016', 'Title': 'Beverly Hills Cop: Axel F'}, {'Movie ID': 'tt0108052', 'Title': \"Schindler's List\"}, {'Movie ID': 'tt0077369', 'Title': 'Convoy'}, {'Movie ID': 'tt7766378', 'Title': 'The Electric State'}, {'Movie ID': 'tt14260836', 'Title': 'Better Man'}, {'Movie ID': 'tt0081505', 'Title': 'The Shining'}, {'Movie ID': 'tt0120663', 'Title': 'Eyes Wide Shut'}, {'Movie ID': 'tt0993846', 'Title': 'The Wolf of Wall Street'}, {'Movie ID': 'tt21235248', 'Title': 'Ghostbusters: Frozen Empire'}, {'Movie ID': 'tt11235772', 'Title': 'The Voyeurs'}, {'Movie ID': 'tt0078748', 'Title': 'Alien'}, {'Movie ID': 'tt12747748', 'Title': 'Leave the World Behind'}, {'Movie ID': 'tt1375666', 'Title': 'Inception'}, {'Movie ID': 'tt13778486', 'Title': 'Succubus'}, {'Movie ID': 'tt6738136', 'Title': 'Revenge'}, {'Movie ID': 'tt0862856', 'Title': \"Trick 'r Treat\"}, {'Movie ID': 'tt10548174', 'Title': '28 Years Later'}, {'Movie ID': 'tt15314262', 'Title': 'The Beekeeper'}, {'Movie ID': 'tt4196566', 'Title': 'The Deliverance'}, {'Movie ID': 'tt0114369', 'Title': 'Se7en'}, {'Movie ID': 'tt3954936', 'Title': 'Monster Summer'}, {'Movie ID': 'tt0137523', 'Title': 'Fight Club'}, {'Movie ID': 'tt0167260', 'Title': 'The Lord of the Rings: The Return of the King'}, {'Movie ID': 'tt15791034', 'Title': 'Barbarian'}, {'Movie ID': 'tt9764362', 'Title': 'The Menu'}, {'Movie ID': 'tt1431045', 'Title': 'Deadpool'}, {'Movie ID': 'tt8367814', 'Title': 'The Gentlemen'}, {'Movie ID': 'tt7737800', 'Title': 'Woman of the Hour'}, {'Movie ID': 'tt12810074', 'Title': 'Nightbitch'}, {'Movie ID': 'tt5950044', 'Title': 'Superman'}, {'Movie ID': 'tt8772262', 'Title': 'Midsommar'}, {'Movie ID': 'tt0102926', 'Title': 'The Silence of the Lambs'}, {'Movie ID': 'tt1201607', 'Title': 'Harry Potter and the Deathly Hallows: Part 2'}, {'Movie ID': 'tt0460791', 'Title': 'The Fall'}, {'Movie ID': 'tt0144084', 'Title': 'American Psycho'}, {'Movie ID': 'tt18925334', 'Title': 'Pearl'}, {'Movie ID': 'tt0418279', 'Title': 'Transformers'}, {'Movie ID': 'tt1745960', 'Title': 'Top Gun: Maverick'}, {'Movie ID': 'tt0120689', 'Title': 'The Green Mile'}, {'Movie ID': 'tt1312221', 'Title': 'Frankenstein'}, {'Movie ID': 'tt0072271', 'Title': 'The Texas Chain Saw Massacre'}, {'Movie ID': 'tt0013442', 'Title': 'Nosferatu: A Symphony of Horror'}, {'Movie ID': 'tt11152168', 'Title': 'IF'}, {'Movie ID': 'tt0304141', 'Title': 'Harry Potter and the Prisoner of Azkaban'}, {'Movie ID': 'tt0112642', 'Title': 'Casper'}, {'Movie ID': 'tt0084787', 'Title': 'The Thing'}, {'Movie ID': 'tt19356262', 'Title': 'Drive-Away Dolls'}, {'Movie ID': 'tt13638858', 'Title': 'What You Wish For'}, {'Movie ID': 'tt7798634', 'Title': 'Ready or Not'}, {'Movie ID': 'tt2322441', 'Title': 'Fifty Shades of Grey'}, {'Movie ID': 'tt6751668', 'Title': 'Parasite'}, {'Movie ID': 'tt1517268', 'Title': 'Barbie'}, {'Movie ID': 'tt1131734', 'Title': \"Jennifer's Body\"}, {'Movie ID': 'tt5052448', 'Title': 'Get Out'}, {'Movie ID': 'tt7784604', 'Title': 'Hereditary'}, {'Movie ID': 'tt6898324', 'Title': 'City of Dreams'}, {'Movie ID': 'tt7349950', 'Title': 'It Chapter Two'}, {'Movie ID': 'tt0094898', 'Title': 'Coming to America'}, {'Movie ID': 'tt11057302', 'Title': 'Madame Web'}, {'Movie ID': 'tt27487934', 'Title': 'The Greatest of All Time'}, {'Movie ID': 'tt1099212', 'Title': 'Twilight'}, {'Movie ID': 'tt0133093', 'Title': 'The Matrix'}, {'Movie ID': 'tt4263482', 'Title': 'The Witch'}, {'Movie ID': 'tt33355888', 'Title': 'Vindicating Trump'}, {'Movie ID': 'tt3566834', 'Title': 'A Minecraft Movie'}, {'Movie ID': 'tt0477348', 'Title': 'No Country for Old Men'}, {'Movie ID': 'tt0088763', 'Title': 'Back to the Future'}, {'Movie ID': 'tt0295297', 'Title': 'Harry Potter and the Chamber of Secrets'}, {'Movie ID': 'tt6587046', 'Title': 'The Boy and the Heron'}, {'Movie ID': 'tt0109506', 'Title': 'The Crow'}, {'Movie ID': 'tt0327597', 'Title': 'Coraline'}, {'Movie ID': 'tt12908150', 'Title': 'The Life of Chuck'}, {'Movie ID': 'tt23218054', 'Title': 'A True Gentleman'}, {'Movie ID': 'tt0169547', 'Title': 'American Beauty'}, {'Movie ID': 'tt1273235', 'Title': 'A Serbian Film'}, {'Movie ID': 'tt0099487', 'Title': 'Edward Scissorhands'}, {'Movie ID': 'tt5463162', 'Title': 'Deadpool 2'}, {'Movie ID': 'tt0109830', 'Title': 'Forrest Gump'}, {'Movie ID': 'tt24169886', 'Title': 'The Instigators'}, {'Movie ID': 'tt0110413', 'Title': 'Léon: The Professional'}, {'Movie ID': 'tt21823606', 'Title': 'A Real Pain'}, {'Movie ID': 'tt13345606', 'Title': 'Evil Dead Rise'}, {'Movie ID': 'tt0120791', 'Title': 'Practical Magic'}, {'Movie ID': 'tt0162661', 'Title': 'Sleepy Hollow'}, {'Movie ID': 'tt24577462', 'Title': 'Afraid'}, {'Movie ID': 'tt0372784', 'Title': 'Batman Begins'}, {'Movie ID': 'tt0113277', 'Title': 'Heat'}, {'Movie ID': 'tt0093779', 'Title': 'The Princess Bride'}, {'Movie ID': 'tt0070047', 'Title': 'The Exorcist'}, {'Movie ID': 'tt12616480', 'Title': 'Slingshot'}, {'Movie ID': 'tt0099685', 'Title': 'Goodfellas'}, {'Movie ID': 'tt2582802', 'Title': 'Whiplash'}, {'Movie ID': 'tt0465494', 'Title': 'Hitman'}, {'Movie ID': 'tt0107290', 'Title': 'Jurassic Park'}, {'Movie ID': 'tt4772188', 'Title': 'Flow'}, {'Movie ID': 'tt12735488', 'Title': 'Kalki 2898 AD'}, {'Movie ID': 'tt0106677', 'Title': 'Dazed and Confused'}, {'Movie ID': 'tt17351924', 'Title': 'Saltburn'}, {'Movie ID': 'tt27491225', 'Title': 'Things Will Be Different'}, {'Movie ID': 'tt6772802', 'Title': 'Hillbilly Elegy'}, {'Movie ID': 'tt5672290', 'Title': 'The First Omen'}, {'Movie ID': 'tt28259207', 'Title': 'Kill'}, {'Movie ID': 'tt4154796', 'Title': 'Avengers: Endgame'}, {'Movie ID': 'tt1392214', 'Title': 'Prisoners'}, {'Movie ID': 'tt0086960', 'Title': 'Beverly Hills Cop'}, {'Movie ID': 'tt0078788', 'Title': 'Apocalypse Now'}, {'Movie ID': 'tt1856101', 'Title': 'Blade Runner 2049'}, {'Movie ID': 'tt10640346', 'Title': 'Babylon'}, {'Movie ID': 'tt21201300', 'Title': 'Bagman'}, {'Movie ID': 'tt0338013', 'Title': 'Eternal Sunshine of the Spotless Mind'}, {'Movie ID': 'tt1345836', 'Title': 'The Dark Knight Rises'}, {'Movie ID': 'tt14960854', 'Title': 'Swallowed'}, {'Movie ID': 'tt31556612', 'Title': 'We Will Dance Again'}, {'Movie ID': 'tt0090605', 'Title': 'Aliens'}, {'Movie ID': 'tt0356150', 'Title': 'EuroTrip'}, {'Movie ID': 'tt5606664', 'Title': 'Doctor Sleep'}, {'Movie ID': 'tt1392190', 'Title': 'Mad Max: Fury Road'}, {'Movie ID': 'tt14824600', 'Title': 'The Lord of the Rings: The War of the Rohirrim'}, {'Movie ID': 'tt1502407', 'Title': 'Halloween'}, {'Movie ID': 'tt0104014', 'Title': 'All Ladies Do It'}, {'Movie ID': 'tt1160419', 'Title': 'Dune: Part One'}, {'Movie ID': 'tt4972582', 'Title': 'Split'}, {'Movie ID': 'tt0361748', 'Title': 'Inglourious Basterds'}, {'Movie ID': 'tt10872600', 'Title': 'Spider-Man: No Way Home'}, {'Movie ID': 'tt1441951', 'Title': 'Quartet'}, {'Movie ID': 'tt1723808', 'Title': 'Reagan'}, {'Movie ID': 'tt0903624', 'Title': 'The Hobbit: An Unexpected Journey'}, {'Movie ID': 'tt1648190', 'Title': 'The Dark Tower'}, {'Movie ID': 'tt0280707', 'Title': 'Gosford Park'}, {'Movie ID': 'tt0347149', 'Title': \"Howl's Moving Castle\"}, {'Movie ID': 'tt0332452', 'Title': 'Troy'}, {'Movie ID': 'tt0087332', 'Title': 'Ghostbusters'}, {'Movie ID': 'tt0075314', 'Title': 'Taxi Driver'}, {'Movie ID': 'tt0180093', 'Title': 'Requiem for a Dream'}, {'Movie ID': 'tt1457767', 'Title': 'The Conjuring'}, {'Movie ID': 'tt10366206', 'Title': 'John Wick: Chapter 4'}, {'Movie ID': 'tt18272208', 'Title': 'Here'}, {'Movie ID': 'tt0373883', 'Title': 'Halloween'}, {'Movie ID': 'tt0317248', 'Title': 'City of God'}, {'Movie ID': 'tt26446278', 'Title': 'The Count of Monte-Cristo'}, {'Movie ID': 'tt13622970', 'Title': 'Moana 2'}, {'Movie ID': 'tt31158592', 'Title': 'Bangkok Breaking: Heaven and Hell'}, {'Movie ID': 'tt19864802', 'Title': 'Land of Bad'}, {'Movie ID': 'tt21064584', 'Title': 'The Iron Claw'}, {'Movie ID': 'tt0101272', 'Title': 'The Addams Family'}, {'Movie ID': 'tt12593682', 'Title': 'Bullet Train'}, {'Movie ID': 'tt3359350', 'Title': 'Road House'}, {'Movie ID': 'tt0167261', 'Title': 'The Lord of the Rings: The Two Towers'}, {'Movie ID': 'tt0167404', 'Title': 'The Sixth Sense'}, {'Movie ID': 'tt21261712', 'Title': 'Back to Black'}, {'Movie ID': 'tt9058654', 'Title': 'Dinner in America'}, {'Movie ID': 'tt10886166', 'Title': '365 Days'}, {'Movie ID': 'tt16300962', 'Title': 'When Evil Lurks'}, {'Movie ID': 'tt0338526', 'Title': 'Van Helsing'}, {'Movie ID': 'tt13097932', 'Title': 'One Life'}, {'Movie ID': 'tt31193791', 'Title': 'The Last Showgirl'}, {'Movie ID': 'tt10676052', 'Title': 'The Fantastic Four: First Steps'}, {'Movie ID': 'tt7322224', 'Title': 'Triangle of Sadness'}, {'Movie ID': 'tt0093437', 'Title': 'The Lost Boys'}, {'Movie ID': 'tt19637052', 'Title': 'Love Lies Bleeding'}, {'Movie ID': 'tt2267998', 'Title': 'Gone Girl'}, {'Movie ID': 'tt29259074', 'Title': 'Blink'}, {'Movie ID': 'tt0086066', 'Title': 'The Outsiders'}, {'Movie ID': 'tt2802144', 'Title': 'Kingsman: The Secret Service'}, {'Movie ID': 'tt0387564', 'Title': 'Saw'}, {'Movie ID': 'tt7599146', 'Title': 'Sound of Freedom'}, {'Movie ID': 'tt0482571', 'Title': 'The Prestige'}, {'Movie ID': 'tt20202136', 'Title': 'Descendants: The Rise of Red'}, {'Movie ID': 'tt1853728', 'Title': 'Django Unchained'}, {'Movie ID': 'tt0213847', 'Title': 'Malena'}, {'Movie ID': 'tt26533869', 'Title': 'The Jester'}, {'Movie ID': 'tt5537002', 'Title': 'Killers of the Flower Moon'}, {'Movie ID': 'tt9411972', 'Title': 'Where the Crawdads Sing'}, {'Movie ID': 'tt1493274', 'Title': 'Caught Stealing'}, {'Movie ID': 'tt0332280', 'Title': 'The Notebook'}, {'Movie ID': 'tt0119217', 'Title': 'Good Will Hunting'}, {'Movie ID': 'tt8946378', 'Title': 'Knives Out'}, {'Movie ID': 'tt0407887', 'Title': 'The Departed'}, {'Movie ID': 'tt4959750', 'Title': '1992'}, {'Movie ID': 'tt23849204', 'Title': '12th Fail'}, {'Movie ID': 'tt0082010', 'Title': 'An American Werewolf in London'}, {'Movie ID': 'tt9362722', 'Title': 'Spider-Man: Across the Spider-Verse'}, {'Movie ID': 'tt0097165', 'Title': 'Dead Poets Society'}, {'Movie ID': 'tt0325980', 'Title': 'Pirates of the Caribbean: The Curse of the Black Pearl'}, {'Movie ID': 'tt14849194', 'Title': 'The Holdovers'}, {'Movie ID': 'tt9603212', 'Title': 'Mission: Impossible - Dead Reckoning Part One'}, {'Movie ID': 'tt30321146', 'Title': 'In a Violent Nature'}, {'Movie ID': 'tt0108358', 'Title': 'Tombstone'}, {'Movie ID': 'tt15671028', 'Title': 'No Hard Feelings'}, {'Movie ID': 'tt0095327', 'Title': 'Grave of the Fireflies'}, {'Movie ID': 'tt0050083', 'Title': '12 Angry Men'}, {'Movie ID': 'tt3659388', 'Title': 'The Martian'}, {'Movie ID': 'tt1896747', 'Title': 'Fly Me to the Moon'}, {'Movie ID': 'tt0077413', 'Title': 'Death on the Nile'}, {'Movie ID': 'tt0309987', 'Title': 'The Dreamers'}, {'Movie ID': 'tt0414387', 'Title': 'Pride & Prejudice'}, {'Movie ID': 'tt0088247', 'Title': 'The Terminator'}, {'Movie ID': 'tt7144666', 'Title': 'The Black Phone'}, {'Movie ID': 'tt0071562', 'Title': 'The Godfather Part II'}, {'Movie ID': 'tt0175142', 'Title': 'Scary Movie'}, {'Movie ID': 'tt10648342', 'Title': 'Thor: Love and Thunder'}, {'Movie ID': 'tt1517451', 'Title': 'A Star Is Born'}, {'Movie ID': 'tt9663764', 'Title': 'Aquaman and the Lost Kingdom'}, {'Movie ID': 'tt21905744', 'Title': 'The Front Room'}, {'Movie ID': 'tt1130884', 'Title': 'Shutter Island'}, {'Movie ID': 'tt0121164', 'Title': 'Corpse Bride'}, {'Movie ID': 'tt0119643', 'Title': 'Meet Joe Black'}, {'Movie ID': 'tt24176060', 'Title': 'Queer'}, {'Movie ID': 'tt10954984', 'Title': 'Nope'}, {'Movie ID': 'tt2911666', 'Title': 'John Wick'}, {'Movie ID': 'tt0085333', 'Title': 'Christine'}, {'Movie ID': 'tt8110652', 'Title': 'Bodies Bodies Bodies'}, {'Movie ID': 'tt26903104', 'Title': 'Saripodhaa Sanivaaram'}, {'Movie ID': 'tt0246578', 'Title': 'Donnie Darko'}, {'Movie ID': 'tt10638522', 'Title': 'Talk to Me'}, {'Movie ID': 'tt0074285', 'Title': 'Carrie'}, {'Movie ID': 'tt0365748', 'Title': 'Shaun of the Dead'}, {'Movie ID': 'tt0104070', 'Title': 'Death Becomes Her'}, {'Movie ID': 'tt3470600', 'Title': 'Sing'}, {'Movie ID': 'tt4589218', 'Title': \"Five Nights at Freddy's\"}, {'Movie ID': 'tt6166392', 'Title': 'Wonka'}, {'Movie ID': 'tt0108071', 'Title': 'The Secret Garden'}, {'Movie ID': 'tt1121948', 'Title': 'The Killer'}, {'Movie ID': 'tt0073650', 'Title': 'Salò, or the 120 Days of Sodom'}, {'Movie ID': 'tt1386697', 'Title': 'Suicide Squad'}, {'Movie ID': 'tt0096895', 'Title': 'Batman'}, {'Movie ID': 'tt0110148', 'Title': 'Interview with the Vampire'}, {'Movie ID': 'tt20234774', 'Title': 'Wicked Little Letters'}, {'Movie ID': 'tt0089218', 'Title': 'The Goonies'}, {'Movie ID': 'tt0320661', 'Title': 'Kingdom of Heaven'}, {'Movie ID': 'tt2382320', 'Title': 'No Time to Die'}, {'Movie ID': 'tt21051906', 'Title': 'A Family Affair'}, {'Movie ID': 'tt33058713', 'Title': 'Jailbreak: Love on the Run'}, {'Movie ID': 'tt0077289', 'Title': 'California Suite'}, {'Movie ID': 'tt17663992', 'Title': 'Scream VI'}, {'Movie ID': 'tt0373889', 'Title': 'Harry Potter and the Order of the Phoenix'}, {'Movie ID': 'tt13923084', 'Title': 'Boy Kills World'}, {'Movie ID': 'tt11138512', 'Title': 'The Northman'}, {'Movie ID': 'tt11245972', 'Title': 'Scream'}, {'Movie ID': 'tt0073629', 'Title': 'The Rocky Horror Picture Show'}, {'Movie ID': 'tt0105417', 'Title': 'Sister Act'}, {'Movie ID': 'tt13287846', 'Title': 'Napoleon'}, {'Movie ID': 'tt2679042', 'Title': 'Hitman: Agent 47'}, {'Movie ID': 'tt14513804', 'Title': 'Captain America: Brave New World'}, {'Movie ID': 'tt27196021', 'Title': 'Small Things Like These'}, {'Movie ID': 'tt0077631', 'Title': 'Grease'}, {'Movie ID': 'tt1454029', 'Title': 'The Help'}, {'Movie ID': 'tt0185937', 'Title': 'The Blair Witch Project'}, {'Movie ID': 'tt25785230', 'Title': 'Halloween Aftermath'}, {'Movie ID': 'tt1485796', 'Title': 'The Greatest Showman'}, {'Movie ID': 'tt27503384', 'Title': 'Perfect Days'}, {'Movie ID': 'tt3315342', 'Title': 'Logan'}, {'Movie ID': 'tt0073195', 'Title': 'Jaws'}, {'Movie ID': 'tt26548265', 'Title': 'Maharaja'}, {'Movie ID': 'tt20247888', 'Title': 'Emmanuelle'}, {'Movie ID': 'tt17009710', 'Title': 'Anatomy of a Fall'}, {'Movie ID': 'tt19850008', 'Title': 'The Batman Part II'}, {'Movie ID': 'tt6710474', 'Title': 'Everything Everywhere All at Once'}, {'Movie ID': 'tt9466114', 'Title': 'The Idea of You'}, {'Movie ID': 'tt0092099', 'Title': 'Top Gun'}, {'Movie ID': 'tt1446714', 'Title': 'Prometheus'}, {'Movie ID': 'tt15325794', 'Title': 'Fall'}, {'Movie ID': 'tt3235888', 'Title': 'It Follows'}, {'Movie ID': 'tt4550098', 'Title': 'Nocturnal Animals'}, {'Movie ID': 'tt20115766', 'Title': 'Knox Goes Away'}, {'Movie ID': 'tt1392170', 'Title': 'The Hunger Games'}, {'Movie ID': 'tt0147800', 'Title': '10 Things I Hate About You'}, {'Movie ID': 'tt7984734', 'Title': 'The Lighthouse'}, {'Movie ID': 'tt0417741', 'Title': 'Harry Potter and the Half-Blood Prince'}, {'Movie ID': 'tt0103064', 'Title': 'Terminator 2: Judgment Day'}, {'Movie ID': 'tt0091867', 'Title': 'A Room with a View'}, {'Movie ID': 'tt1259521', 'Title': 'The Cabin in the Woods'}, {'Movie ID': 'tt32916440', 'Title': 'Marty Supreme'}, {'Movie ID': 'tt16301164', 'Title': 'This Time Next Year'}, {'Movie ID': 'tt0104952', 'Title': 'My Cousin Vinny'}, {'Movie ID': 'tt0796366', 'Title': 'Star Trek'}, {'Movie ID': 'tt0060196', 'Title': 'The Good, the Bad and the Ugly'}, {'Movie ID': 'tt0086250', 'Title': 'Scarface'}, {'Movie ID': 'tt0163651', 'Title': 'American Pie'}, {'Movie ID': 'tt0120382', 'Title': 'The Truman Show'}, {'Movie ID': 'tt12972134', 'Title': 'Hounds of War'}, {'Movie ID': 'tt11813216', 'Title': 'The Banshees of Inisherin'}, {'Movie ID': 'tt0120815', 'Title': 'Saving Private Ryan'}, {'Movie ID': 'tt0364569', 'Title': 'Oldboy'}, {'Movie ID': 'tt6791350', 'Title': 'Guardians of the Galaxy Vol. 3'}, {'Movie ID': 'tt2119532', 'Title': 'Hacksaw Ridge'}, {'Movie ID': 'tt9214772', 'Title': 'Monkey Man'}, {'Movie ID': 'tt0074937', 'Title': 'Murder by Death'}, {'Movie ID': 'tt31064841', 'Title': 'Piece by Piece'}, {'Movie ID': 'tt0387808', 'Title': 'Idiocracy'}, {'Movie ID': 'tt6966692', 'Title': 'Green Book'}, {'Movie ID': 'tt0112573', 'Title': 'Braveheart'}, {'Movie ID': 'tt0054215', 'Title': 'Psycho'}, {'Movie ID': 'tt14539740', 'Title': 'Godzilla x Kong: The New Empire'}, {'Movie ID': 'tt0319262', 'Title': 'The Day After Tomorrow'}, {'Movie ID': 'tt11762114', 'Title': 'Mean Girls'}, {'Movie ID': 'tt0114814', 'Title': 'The Usual Suspects'}, {'Movie ID': 'tt7160372', 'Title': 'The Zone of Interest'}, {'Movie ID': 'tt13274016', 'Title': 'Reptile'}, {'Movie ID': 'tt0080761', 'Title': 'Friday the 13th'}, {'Movie ID': 'tt11378946', 'Title': 'Michael'}, {'Movie ID': 'tt1071873', 'Title': 'Constantine 2'}, {'Movie ID': 'tt2184339', 'Title': 'The Purge'}, {'Movie ID': 'tt4154756', 'Title': 'Avengers: Infinity War'}, {'Movie ID': 'tt0317219', 'Title': 'Cars'}, {'Movie ID': 'tt12736014', 'Title': 'CTRL'}, {'Movie ID': 'tt0082933', 'Title': 'Possession'}, {'Movie ID': 'tt2015381', 'Title': 'Guardians of the Galaxy'}, {'Movie ID': 'tt8310486', 'Title': \"Miller's Girl\"}, {'Movie ID': 'tt2494362', 'Title': 'Bone Tomahawk'}, {'Movie ID': 'tt0145487', 'Title': 'Spider-Man'}, {'Movie ID': 'tt3099498', 'Title': 'Tusk'}, {'Movie ID': 'tt0089560', 'Title': 'Mask'}, {'Movie ID': 'tt1798709', 'Title': 'Her'}, {'Movie ID': 'tt0367594', 'Title': 'Charlie and the Chocolate Factory'}, {'Movie ID': 'tt0115963', 'Title': 'The Craft'}, {'Movie ID': 'tt6644200', 'Title': 'A Quiet Place'}, {'Movie ID': 'tt0117998', 'Title': 'Twister'}, {'Movie ID': 'tt0926084', 'Title': 'Harry Potter and the Deathly Hallows: Part 1'}, {'Movie ID': 'tt14998742', 'Title': 'Rebel Moon - Part One: A Child of Fire'}, {'Movie ID': 'tt0166924', 'Title': 'Mulholland Drive'}, {'Movie ID': 'tt6334354', 'Title': 'The Suicide Squad'}, {'Movie ID': 'tt0116629', 'Title': 'Independence Day'}, {'Movie ID': 'tt0076759', 'Title': 'Star Wars: Episode IV - A New Hope'}, {'Movie ID': 'tt21284218', 'Title': 'Incoming'}, {'Movie ID': 'tt0245429', 'Title': 'Spirited Away'}, {'Movie ID': 'tt11564570', 'Title': 'Glass Onion'}, {'Movie ID': 'tt21357150', 'Title': 'Avengers: Doomsday'}, {'Movie ID': 'tt0765429', 'Title': 'American Gangster'}, {'Movie ID': 'tt26940324', 'Title': 'Jackpot!'}, {'Movie ID': 'tt0437954', 'Title': 'Virgin Territory'}, {'Movie ID': 'tt0120616', 'Title': 'The Mummy'}, {'Movie ID': 'tt0073486', 'Title': \"One Flew Over the Cuckoo's Nest\"}, {'Movie ID': 'tt4532826', 'Title': 'Robin Hood'}, {'Movie ID': 'tt1119646', 'Title': 'The Hangover'}, {'Movie ID': 'tt0083658', 'Title': 'Blade Runner'}, {'Movie ID': 'tt3281548', 'Title': 'Little Women'}, {'Movie ID': 'tt0118715', 'Title': 'The Big Lebowski'}, {'Movie ID': 'tt0289043', 'Title': '28 Days Later'}, {'Movie ID': 'tt0472043', 'Title': 'Apocalypto'}, {'Movie ID': 'tt0112697', 'Title': 'Clueless'}, {'Movie ID': 'tt2900624', 'Title': \"All Hallows' Eve\"}, {'Movie ID': 'tt0443706', 'Title': 'Zodiac'}, {'Movie ID': 'tt29439114', 'Title': 'The Room Next Door'}, {'Movie ID': 'tt10545296', 'Title': 'The Hunger Games: The Ballad of Songbirds & Snakes'}, {'Movie ID': 'tt0469494', 'Title': 'There Will Be Blood'}, {'Movie ID': 'tt1333125', 'Title': 'Movie 43'}, {'Movie ID': 'tt3783958', 'Title': 'La La Land'}, {'Movie ID': 'tt0435625', 'Title': 'The Descent'}, {'Movie ID': 'tt15009428', 'Title': 'Argylle'}, {'Movie ID': 'tt13397574', 'Title': \"Mothers' Instinct\"}, {'Movie ID': 'tt0110357', 'Title': 'The Lion King'}, {'Movie ID': 'tt1448754', 'Title': 'Thanksgiving'}, {'Movie ID': 'tt0091064', 'Title': 'The Fly'}, {'Movie ID': 'tt2316204', 'Title': 'Alien: Covenant'}, {'Movie ID': 'tt13927994', 'Title': 'Salaar'}, {'Movie ID': 'tt10682266', 'Title': 'Hubie Halloween'}, {'Movie ID': 'tt0116483', 'Title': 'Happy Gilmore'}, {'Movie ID': 'tt13403046', 'Title': 'Fresh'}, {'Movie ID': 'tt0080491', 'Title': 'Caligula'}, {'Movie ID': 'tt1922777', 'Title': 'Sinister'}, {'Movie ID': 'tt8239946', 'Title': 'Tumbbad'}, {'Movie ID': 'tt0119116', 'Title': 'The Fifth Element'}, {'Movie ID': 'tt7405458', 'Title': 'A Man Called Otto'}, {'Movie ID': 'tt0302886', 'Title': 'Old School'}, {'Movie ID': 'tt1136617', 'Title': 'The Killer'}, {'Movie ID': 'tt26731216', 'Title': 'The Forge'}, {'Movie ID': 'tt4058618', 'Title': 'The Thicket'}, {'Movie ID': 'tt2380307', 'Title': 'Coco'}, {'Movie ID': 'tt0381707', 'Title': 'White Chicks'}, {'Movie ID': 'tt10731256', 'Title': \"Don't Worry Darling\"}, {'Movie ID': 'tt27665778', 'Title': 'Horizon: An American Saga - Chapter 2'}, {'Movie ID': 'tt1038988', 'Title': 'REC'}, {'Movie ID': 'tt22050754', 'Title': 'The Strangers: Chapter 1'}, {'Movie ID': 'tt0092005', 'Title': 'Stand by Me'}, {'Movie ID': 'tt0120903', 'Title': 'X-Men'}, {'Movie ID': 'tt14088510', 'Title': 'Tarot'}, {'Movie ID': 'tt0265208', 'Title': 'The Girl Next Door'}, {'Movie ID': 'tt0118749', 'Title': 'Boogie Nights'}, {'Movie ID': 'tt5715874', 'Title': 'The Killing of a Sacred Deer'}, {'Movie ID': 'tt0120586', 'Title': 'American History X'}, {'Movie ID': 'tt1270797', 'Title': 'Venom'}, {'Movie ID': 'tt0052357', 'Title': 'Vertigo'}, {'Movie ID': 'tt0884328', 'Title': 'The Mist'}, {'Movie ID': 'tt5362988', 'Title': 'Wind River'}, {'Movie ID': 'tt2278871', 'Title': 'Blue Is the Warmest Colour'}, {'Movie ID': 'tt30841606', 'Title': 'Rumours'}, {'Movie ID': 'tt6718170', 'Title': 'The Super Mario Bros. Movie'}, {'Movie ID': 'tt32276246', 'Title': 'The Curse of the Necklace'}, {'Movie ID': 'tt0116367', 'Title': 'From Dusk Till Dawn'}, {'Movie ID': 'tt0195714', 'Title': 'Final Destination'}, {'Movie ID': 'tt2674426', 'Title': 'Me Before You'}, {'Movie ID': 'tt6208148', 'Title': 'Snow White'}, {'Movie ID': 'tt1609486', 'Title': 'Harold and the Purple Crayon'}, {'Movie ID': 'tt1655441', 'Title': 'The Age of Adaline'}, {'Movie ID': 'tt3397884', 'Title': 'Sicario'}, {'Movie ID': 'tt13186482', 'Title': 'Mufasa: The Lion King'}, {'Movie ID': 'tt1630029', 'Title': 'Avatar: The Way of Water'}, {'Movie ID': 'tt6467266', 'Title': 'Sing 2'}, {'Movie ID': 'tt0066921', 'Title': 'A Clockwork Orange'}, {'Movie ID': 'tt12712604', 'Title': 'The Miracle Club'}, {'Movie ID': 'tt11866324', 'Title': 'Prey'}, {'Movie ID': 'tt0093058', 'Title': 'Full Metal Jacket'}]\n"
     ]
    }
   ],
   "source": [
    "print(movie_data)"
   ]
  },
  {
   "cell_type": "code",
   "execution_count": 10,
   "metadata": {},
   "outputs": [],
   "source": [
    "import os\n",
    "import json\n",
    "\n",
    "def check_size(data):\n",
    "    # Kiểm tra kiểu dữ liệu và kích thước\n",
    "    if isinstance(data, list):\n",
    "        print(f\"Số lượng phần tử trong danh sách: {len(data)}\")\n",
    "\n",
    "        # Nếu phần tử là từ điển, kiểm tra thêm về trùng lặp và dữ liệu thiếu\n",
    "        if data:\n",
    "            first_element = data[0]\n",
    "            print(f\"Kích thước của phần tử đầu tiên: {len(first_element)} thuộc tính\")\n",
    "\n",
    "            # Kiểm tra trùng lặp (theo Movie ID)\n",
    "            movie_ids = [item.get('Movie ID') for item in data if 'Movie ID' in item]\n",
    "            duplicates = {movie_id for movie_id in movie_ids if movie_ids.count(movie_id) > 1}\n",
    "            if duplicates:\n",
    "                print(f\"Các Movie ID trùng lặp: {duplicates}\")\n",
    "            else:\n",
    "                print(\"Không có Movie ID trùng lặp.\")\n",
    "\n",
    "            # Kiểm tra dữ liệu thiếu\n",
    "            missing_values = []\n",
    "            for index, movie in enumerate(data):\n",
    "                for key, value in movie.items():\n",
    "                    if value in [None, '', 'N/A']:\n",
    "                        missing_values.append((index, key))\n",
    "            \n",
    "            if missing_values:\n",
    "                print(f\"Các giá trị thiếu (index, key): {missing_values}\")\n",
    "            else:\n",
    "                print(\"Không có giá trị thiếu.\")\n",
    "\n",
    "    elif isinstance(data, dict):\n",
    "        print(f\"Số lượng thuộc tính trong từ điển: {len(data)}\")\n",
    "    else:\n",
    "        print(\"Dữ liệu không phải là danh sách hoặc từ điển.\")\n",
    "\n"
   ]
  },
  {
   "cell_type": "code",
   "execution_count": 11,
   "metadata": {},
   "outputs": [
    {
     "name": "stdout",
     "output_type": "stream",
     "text": [
      "Số lượng phần tử trong danh sách: 500\n",
      "Kích thước của phần tử đầu tiên: 2 thuộc tính\n",
      "Không có Movie ID trùng lặp.\n",
      "Không có giá trị thiếu.\n"
     ]
    }
   ],
   "source": [
    "check_size(movie_data)"
   ]
  },
  {
   "cell_type": "markdown",
   "metadata": {},
   "source": [
    "## Scraping Reviews of each Movies"
   ]
  },
  {
   "cell_type": "code",
   "execution_count": 20,
   "metadata": {},
   "outputs": [],
   "source": [
    "# ReviewsScraper class to fetch reviews for each movie\n",
    "class MovieReviewScraper(BaseScraper):\n",
    "    def __init__(self, json_file_path):\n",
    "        super().__init__()  # Call the base class constructor\n",
    "        self.json_file_path = json_file_path  # Path to the JSON file\n",
    "        self.movie_data = self._load_movies_from_json()  # Load movie data from JSON\n",
    "        self.movie_reviews = []  # Adjusted to be a list of movie objects\n",
    "        self.clicks = 0  # Initialize click counter\n",
    "\n",
    "    def _load_movies_from_json(self):\n",
    "        with open(self.json_file_path, 'r', encoding='utf-8') as f:\n",
    "            return json.load(f)  # Load JSON data\n",
    "\n",
    "    def fetch_reviews(self):\n",
    "        for movie in self.movie_data:  # Iterate through the list of movies\n",
    "            movie_id = movie['Movie ID']\n",
    "            title = movie['Title']\n",
    "            review_url = f\"https://www.imdb.com/title/{movie_id}/reviews\"\n",
    "            self.driver.get(review_url)\n",
    "\n",
    "            self._load_reviews()\n",
    "\n",
    "            wait_time = self._calculate_wait_time(10, self.clicks)  # Adjust wait time based on click count\n",
    "            time.sleep(wait_time)\n",
    "\n",
    "            html = self.driver.page_source\n",
    "            soup = BeautifulSoup(html, 'html.parser')\n",
    "            self._extract_reviews(soup, movie_id, title)\n",
    "\n",
    "        self.close_driver()\n",
    "        return self.movie_reviews\n",
    "\n",
    "    def _load_reviews(self):\n",
    "        # Try to find and click the 'All' reviews button\n",
    "        try:\n",
    "            all_reviews_button = WebDriverWait(self.driver, 5).until(\n",
    "                EC.presence_of_element_located((By.XPATH, \"//*[@id='__next']/main/div/section/div/section/div/div[1]/section[1]/div[3]/div/span[2]/button\"))\n",
    "            )\n",
    "            self.driver.execute_script(\"arguments[0].scrollIntoView({block: 'center'});\", all_reviews_button)\n",
    "            time.sleep(2)  # Wait for the page to load if needed\n",
    "            all_reviews_button.click()\n",
    "        except Exception as e:\n",
    "            print(\"Could not find 'All' button, will try to find 'Load More' button.\")\n",
    "            self._load_more_reviews()\n",
    "\n",
    "    def _load_more_reviews(self):\n",
    "        # Add progress bar for loading more reviews\n",
    "        with tqdm(total=10, desc='Loading More Reviews', leave=False) as pbar:\n",
    "            while True:\n",
    "                try:\n",
    "                    load_more_button = WebDriverWait(self.driver, 5).until(\n",
    "                        EC.presence_of_element_located((By.XPATH, '//*[@id=\"load-more-trigger\"]'))\n",
    "                    )\n",
    "                    self.driver.execute_script(\"arguments[0].scrollIntoView({block: 'center'});\", load_more_button)\n",
    "                    load_more_button.click()\n",
    "\n",
    "                    self.clicks += 1  # Increment the click count\n",
    "                    pbar.update(1)  # Update progress bar\n",
    "\n",
    "                    wait_time = self._calculate_wait_time(1, self.clicks)  # Adjust wait time based on click count\n",
    "                    time.sleep(wait_time)\n",
    "\n",
    "                except Exception as e:\n",
    "                    print(\"No more 'Load More' buttons to click.\")\n",
    "                    break\n",
    "\n",
    "    def _calculate_wait_time(self, base_wait_time, clicks):\n",
    "        \"\"\"\n",
    "        Calculate an adaptive wait time based on the number of clicks.\n",
    "        As the number of clicks increases, the wait time grows exponentially to accommodate website lag.\n",
    "        \"\"\"\n",
    "        growth_factor = 1.2  # Exponential growth factor\n",
    "        additional_wait_time = base_wait_time * (growth_factor ** (clicks // 10))  # Increase wait time every 10 clicks\n",
    "        \n",
    "        return base_wait_time + additional_wait_time\n",
    "\n",
    "\n",
    "    def _extract_reviews(self, soup, movie_id, title):\n",
    "        reviews = soup.select('article.user-review-item')  # Attempt to extract reviews using one selector\n",
    "        movie_info = {\n",
    "            'Movie ID': movie_id,\n",
    "            'Reviews': []\n",
    "        }\n",
    "        # If no reviews found, try to load more reviews\n",
    "        if not reviews:  \n",
    "            reviews = soup.select('div.lister-item.mode-detail.imdb-user-review')\n",
    "            if not reviews: # If still no reviews available\n",
    "                print(f\"No reviews found for {title}.\")\n",
    "                return\n",
    "\n",
    "            for review in reviews:\n",
    "                parsed_review = self._parse_review(review, \"load_more\")\n",
    "                movie_info['Reviews'].append(parsed_review)\n",
    "        else: # If \"all\" button found\n",
    "            for review in reviews:\n",
    "                parsed_review = self._parse_review(review, \"all\")\n",
    "                movie_info['Reviews'].append(parsed_review)\n",
    "\n",
    "        self.movie_reviews.append(movie_info)\n",
    "\n",
    "        # Count the number of reviews and display it\n",
    "        num_reviews = len(movie_info['Reviews'])\n",
    "        print(f\"Total number of reviews for '{title}': {num_reviews}\")\n",
    "\n",
    "    def _parse_review(self, review, button_type):\n",
    "        \"\"\"\n",
    "        Extract information from the review and return as a dictionary.\n",
    "        \"\"\"\n",
    "        # Extract information from the review based on its type (load_more or all)\n",
    "        if button_type == \"load_more\":\n",
    "            review_rating = review.select_one('span.rating-other-user-rating span').get_text(strip=True) if review.select_one('span.rating-other-user-rating span') else 'No rating'\n",
    "            review_summary = review.select_one('a.title').get_text(strip=True) if review.select_one('a.title') else 'No summary'\n",
    "            review_text = review.select_one('div.text.show-more__control').get_text(strip=True) if review.select_one('div.text.show-more__control') else 'No content'\n",
    "            author_tag = review.select_one('span.display-name-link a').get_text(strip=True) if review.select_one('span.display-name-link a') else 'Unknown Author'\n",
    "            review_date = review.select_one('span.review-date').get_text(strip=True) if review.select_one('span.review-date') else 'No date'\n",
    "        else:\n",
    "            review_rating = review.select_one('span.ipc-rating-star--rating').get_text(strip=True) if review.select_one('span.ipc-rating-star--rating') else 'No rating'\n",
    "            review_summary = review.select_one('span[data-testid=\"review-summary\"]').get_text(strip=True) if review.select_one('span[data-testid=\"review-summary\"]') else 'No summary'\n",
    "            review_text = review.select_one('div.ipc-html-content-inner-div').get_text(strip=True) if review.select_one('div.ipc-html-content-inner-div') else 'No content'\n",
    "            author_tag = review.select_one('a[data-testid=\"author-link\"]').get_text(strip=True) if review.select_one('a[data-testid=\"author-link\"]') else 'Unknown Author'\n",
    "            review_date = review.select_one('li.review-date').get_text(strip=True) if review.select_one('li.review-date') else 'No date'\n",
    "\n",
    "        # Return the review information in the expected format\n",
    "        return {\n",
    "            'Review Summary': review_summary,\n",
    "            'Review': review_text,\n",
    "            'Rating': review_rating,\n",
    "            'Author': author_tag,\n",
    "            'Date': review_date\n",
    "        }\n",
    "    def save_to_json(self):\n",
    "        with open('movies_reviews.json', 'w', encoding='utf-8') as f:\n",
    "            json.dump(self.movie_reviews, f, ensure_ascii=False, indent=4)\n",
    "        print(\"Reviews saved to movies_reviews.json\")"
   ]
  },
  {
   "cell_type": "markdown",
   "metadata": {},
   "source": [
    "### Test 1 movie"
   ]
  },
  {
   "cell_type": "markdown",
   "metadata": {},
   "source": [
    "#### Test case"
   ]
  },
  {
   "cell_type": "code",
   "execution_count": 21,
   "metadata": {},
   "outputs": [
    {
     "name": "stdout",
     "output_type": "stream",
     "text": [
      "Could not find 'All' button, will try to find 'Load More' button.\n"
     ]
    },
    {
     "name": "stderr",
     "output_type": "stream",
     "text": [
      "                                                                     "
     ]
    },
    {
     "name": "stdout",
     "output_type": "stream",
     "text": [
      "No more 'Load More' buttons to click.\n"
     ]
    },
    {
     "name": "stderr",
     "output_type": "stream",
     "text": [
      "\r"
     ]
    },
    {
     "name": "stdout",
     "output_type": "stream",
     "text": [
      "Total number of reviews for 'The Substance': 433\n",
      "Reviews saved to movies_reviews.json\n",
      "Movies fetched and saved to movies_reviews.json\n"
     ]
    }
   ],
   "source": [
    "import os\n",
    "#test reviews scraper\n",
    "data = [\n",
    "    {\n",
    "        \"Movie ID\": \"tt17526714\",\n",
    "        \"Title\": \"The Substance\"\n",
    "    }\n",
    "]\n",
    "\n",
    "# Save the data to a JSON file\n",
    "with open('test_movie.json', 'w') as json_file:\n",
    "    json.dump(data, json_file, indent=4)\n",
    "\n",
    "path = os.path.join(os.getcwd(), 'test_movie.json')\n",
    "scraper = MovieReviewScraper(path)\n",
    "\n",
    "scraper.fetch_reviews()\n",
    "scraper.save_to_json()\n",
    "print(\"Movies fetched and saved to movies_reviews.json\")\n"
   ]
  },
  {
   "cell_type": "code",
   "execution_count": 26,
   "metadata": {},
   "outputs": [
    {
     "name": "stdout",
     "output_type": "stream",
     "text": [
      "Movie ID: tt17526714 có 433 review(s).\n"
     ]
    }
   ],
   "source": [
    "import json\n",
    "import os\n",
    "\n",
    "# Đọc file JSON với mã hóa utf-8\n",
    "with open(os.path.join(os.getcwd(), 'movies_reviews.json'), 'r', encoding='utf-8') as file:\n",
    "    data = json.load(file)\n",
    "\n",
    "# Đếm số lượng review cho từng phim\n",
    "for movie in data:\n",
    "    movie_id = movie[\"Movie ID\"]\n",
    "    reviews = movie[\"Reviews\"]\n",
    "    review_count = len(reviews)\n",
    "    print(f\"Movie ID: {movie_id} có {review_count} review(s).\")\n"
   ]
  },
  {
   "cell_type": "code",
   "execution_count": null,
   "metadata": {},
   "outputs": [],
   "source": []
  }
 ],
 "metadata": {
  "kernelspec": {
   "display_name": "Python 3",
   "language": "python",
   "name": "python3"
  },
  "language_info": {
   "codemirror_mode": {
    "name": "ipython",
    "version": 3
   },
   "file_extension": ".py",
   "mimetype": "text/x-python",
   "name": "python",
   "nbconvert_exporter": "python",
   "pygments_lexer": "ipython3",
   "version": "3.11.4"
  }
 },
 "nbformat": 4,
 "nbformat_minor": 2
}
